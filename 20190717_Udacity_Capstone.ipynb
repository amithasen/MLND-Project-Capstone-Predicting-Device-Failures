{
 "cells": [
  {
   "cell_type": "markdown",
   "metadata": {},
   "source": [
    "# Udacity ML Capstone: Predicting Device Failures\n",
    "### by Michael Lin"
   ]
  },
  {
   "cell_type": "markdown",
   "metadata": {},
   "source": [
    "\n",
    "\n",
    "Our challenge is to build a machine learning model to predict the probability of a device failure. Success criteria is to correctly identify the true failure cases, while at the same time, minimize false positives and false negatives."
   ]
  },
  {
   "cell_type": "markdown",
   "metadata": {},
   "source": [
    "## First Look at Data\n",
    "\n",
    "We'll start by looking at the dataset, getting a feel for the challenge, before formulating our game plan. \n",
    "\n",
    "Initial analysis of the data reveals the following: \n",
    "\n",
    "- The dataset is telemetry logs of 124,494 records, collected from 1,169 devices. \n",
    "\n",
    "- The device failure rate is about 9.07%.  \n",
    "\n",
    "- The data sources possilby comes from 3 device types.\n",
    "\n",
    "- The data coverage spans time period of 2015/1/1 to 2015/11/2. \n",
    "\n",
    "- The duration of the device in service also varies widely, ranging from 1 day to 304 days.\n",
    "\n",
    "- In terms of features, we have 9 attributes which are numerical in nature.   \n",
    "\n"
   ]
  },
  {
   "cell_type": "code",
   "execution_count": 1,
   "metadata": {},
   "outputs": [],
   "source": [
    "# install dependencies\n",
    "\n",
    "# !conda install -c numpy pandas matplotlib seaborn scikit-learn -y\n",
    "# !conda install -c conda-forge imbalanced-learn -y\n",
    "# !conda install -c conda-forge xgboost -y\n",
    "# !conda install -c conda-forge lightgbm -y"
   ]
  },
  {
   "cell_type": "code",
   "execution_count": 2,
   "metadata": {
    "scrolled": true
   },
   "outputs": [
    {
     "data": {
      "text/html": [
       "<div>\n",
       "<style scoped>\n",
       "    .dataframe tbody tr th:only-of-type {\n",
       "        vertical-align: middle;\n",
       "    }\n",
       "\n",
       "    .dataframe tbody tr th {\n",
       "        vertical-align: top;\n",
       "    }\n",
       "\n",
       "    .dataframe thead th {\n",
       "        text-align: right;\n",
       "    }\n",
       "</style>\n",
       "<table border=\"1\" class=\"dataframe\">\n",
       "  <thead>\n",
       "    <tr style=\"text-align: right;\">\n",
       "      <th></th>\n",
       "      <th>date</th>\n",
       "      <th>device</th>\n",
       "      <th>failure</th>\n",
       "      <th>attribute1</th>\n",
       "      <th>attribute2</th>\n",
       "      <th>attribute3</th>\n",
       "      <th>attribute4</th>\n",
       "      <th>attribute5</th>\n",
       "      <th>attribute6</th>\n",
       "      <th>attribute7</th>\n",
       "      <th>attribute8</th>\n",
       "      <th>attribute9</th>\n",
       "    </tr>\n",
       "  </thead>\n",
       "  <tbody>\n",
       "    <tr>\n",
       "      <th>0</th>\n",
       "      <td>2015-01-01</td>\n",
       "      <td>S1F01085</td>\n",
       "      <td>0</td>\n",
       "      <td>215630672</td>\n",
       "      <td>56</td>\n",
       "      <td>0</td>\n",
       "      <td>52</td>\n",
       "      <td>6</td>\n",
       "      <td>407438</td>\n",
       "      <td>0</td>\n",
       "      <td>0</td>\n",
       "      <td>7</td>\n",
       "    </tr>\n",
       "    <tr>\n",
       "      <th>1</th>\n",
       "      <td>2015-01-01</td>\n",
       "      <td>S1F0166B</td>\n",
       "      <td>0</td>\n",
       "      <td>61370680</td>\n",
       "      <td>0</td>\n",
       "      <td>3</td>\n",
       "      <td>0</td>\n",
       "      <td>6</td>\n",
       "      <td>403174</td>\n",
       "      <td>0</td>\n",
       "      <td>0</td>\n",
       "      <td>0</td>\n",
       "    </tr>\n",
       "    <tr>\n",
       "      <th>2</th>\n",
       "      <td>2015-01-01</td>\n",
       "      <td>S1F01E6Y</td>\n",
       "      <td>0</td>\n",
       "      <td>173295968</td>\n",
       "      <td>0</td>\n",
       "      <td>0</td>\n",
       "      <td>0</td>\n",
       "      <td>12</td>\n",
       "      <td>237394</td>\n",
       "      <td>0</td>\n",
       "      <td>0</td>\n",
       "      <td>0</td>\n",
       "    </tr>\n",
       "    <tr>\n",
       "      <th>3</th>\n",
       "      <td>2015-01-01</td>\n",
       "      <td>S1F01JE0</td>\n",
       "      <td>0</td>\n",
       "      <td>79694024</td>\n",
       "      <td>0</td>\n",
       "      <td>0</td>\n",
       "      <td>0</td>\n",
       "      <td>6</td>\n",
       "      <td>410186</td>\n",
       "      <td>0</td>\n",
       "      <td>0</td>\n",
       "      <td>0</td>\n",
       "    </tr>\n",
       "    <tr>\n",
       "      <th>4</th>\n",
       "      <td>2015-01-01</td>\n",
       "      <td>S1F01R2B</td>\n",
       "      <td>0</td>\n",
       "      <td>135970480</td>\n",
       "      <td>0</td>\n",
       "      <td>0</td>\n",
       "      <td>0</td>\n",
       "      <td>15</td>\n",
       "      <td>313173</td>\n",
       "      <td>0</td>\n",
       "      <td>0</td>\n",
       "      <td>3</td>\n",
       "    </tr>\n",
       "  </tbody>\n",
       "</table>\n",
       "</div>"
      ],
      "text/plain": [
       "         date    device  failure  attribute1  attribute2  attribute3  \\\n",
       "0  2015-01-01  S1F01085        0   215630672          56           0   \n",
       "1  2015-01-01  S1F0166B        0    61370680           0           3   \n",
       "2  2015-01-01  S1F01E6Y        0   173295968           0           0   \n",
       "3  2015-01-01  S1F01JE0        0    79694024           0           0   \n",
       "4  2015-01-01  S1F01R2B        0   135970480           0           0   \n",
       "\n",
       "   attribute4  attribute5  attribute6  attribute7  attribute8  attribute9  \n",
       "0          52           6      407438           0           0           7  \n",
       "1           0           6      403174           0           0           0  \n",
       "2           0          12      237394           0           0           0  \n",
       "3           0           6      410186           0           0           0  \n",
       "4           0          15      313173           0           0           3  "
      ]
     },
     "execution_count": 2,
     "metadata": {},
     "output_type": "execute_result"
    }
   ],
   "source": [
    "# load in sample dataset\n",
    "\n",
    "import numpy as np\n",
    "import pandas as pd\n",
    "import matplotlib.pyplot as plt\n",
    "import warnings\n",
    "warnings.filterwarnings('ignore')\n",
    "\n",
    "url = 'https://udacity-data-michlin0825.s3-ap-northeast-1.amazonaws.com/device_failure.csv'\n",
    "df = pd.read_csv(url, header = 0, delimiter = ',', encoding = \"ISO-8859-1\")\n",
    "df.head()"
   ]
  },
  {
   "cell_type": "code",
   "execution_count": 3,
   "metadata": {},
   "outputs": [
    {
     "data": {
      "text/plain": [
       "124494"
      ]
     },
     "execution_count": 3,
     "metadata": {},
     "output_type": "execute_result"
    }
   ],
   "source": [
    "# total number of daily logs\n",
    "\n",
    "df.count()[0]"
   ]
  },
  {
   "cell_type": "code",
   "execution_count": 4,
   "metadata": {},
   "outputs": [
    {
     "data": {
      "text/plain": [
       "106"
      ]
     },
     "execution_count": 4,
     "metadata": {},
     "output_type": "execute_result"
    }
   ],
   "source": [
    "# daily logs with failure record\n",
    "\n",
    "len(df[df['failure']==1])"
   ]
  },
  {
   "cell_type": "code",
   "execution_count": 5,
   "metadata": {},
   "outputs": [
    {
     "data": {
      "text/plain": [
       "0.0851446656063746"
      ]
     },
     "execution_count": 5,
     "metadata": {},
     "output_type": "execute_result"
    }
   ],
   "source": [
    "# percentage of daily logs with failure\n",
    "\n",
    "len(df[df['failure']==1]) / df.count()[0] * 100"
   ]
  },
  {
   "cell_type": "code",
   "execution_count": 6,
   "metadata": {},
   "outputs": [
    {
     "data": {
      "text/plain": [
       "1169"
      ]
     },
     "execution_count": 6,
     "metadata": {},
     "output_type": "execute_result"
    }
   ],
   "source": [
    "# total number of device \n",
    "\n",
    "len(df.groupby('device'))"
   ]
  },
  {
   "cell_type": "code",
   "execution_count": 7,
   "metadata": {},
   "outputs": [
    {
     "data": {
      "text/plain": [
       "9.067579127459368"
      ]
     },
     "execution_count": 7,
     "metadata": {},
     "output_type": "execute_result"
    }
   ],
   "source": [
    "# percentage of device with failure\n",
    "\n",
    "len(df[df['failure']==1]) / len(df.groupby('device')) * 100"
   ]
  },
  {
   "cell_type": "code",
   "execution_count": 8,
   "metadata": {},
   "outputs": [
    {
     "data": {
      "text/plain": [
       "S1F    0.440648\n",
       "W1F    0.347551\n",
       "Z1F    0.211801\n",
       "Name: device, dtype: float64"
      ]
     },
     "execution_count": 8,
     "metadata": {},
     "output_type": "execute_result"
    }
   ],
   "source": [
    "# device types\n",
    "\n",
    "df['device'].str[:3].value_counts(normalize = True)"
   ]
  },
  {
   "cell_type": "code",
   "execution_count": 9,
   "metadata": {},
   "outputs": [
    {
     "data": {
      "text/plain": [
       "0    2015-01-01\n",
       "Name: date, dtype: object"
      ]
     },
     "execution_count": 9,
     "metadata": {},
     "output_type": "execute_result"
    }
   ],
   "source": [
    "# dataset timeframe\n",
    "\n",
    "df['date'].head(1)"
   ]
  },
  {
   "cell_type": "code",
   "execution_count": 10,
   "metadata": {},
   "outputs": [
    {
     "data": {
      "text/plain": [
       "124493    2015-11-02\n",
       "Name: date, dtype: object"
      ]
     },
     "execution_count": 10,
     "metadata": {},
     "output_type": "execute_result"
    }
   ],
   "source": [
    "df['date'].tail(1)"
   ]
  },
  {
   "cell_type": "code",
   "execution_count": 11,
   "metadata": {},
   "outputs": [
    {
     "name": "stdout",
     "output_type": "stream",
     "text": [
      "304\n",
      "106.4961505560308\n",
      "1\n"
     ]
    }
   ],
   "source": [
    "# device service days\n",
    "\n",
    "print(df.groupby('device')['date'].count().max())\n",
    "print(df.groupby('device')['date'].count().mean())\n",
    "print(df.groupby('device')['date'].count().min())"
   ]
  },
  {
   "cell_type": "code",
   "execution_count": 12,
   "metadata": {},
   "outputs": [
    {
     "data": {
      "text/plain": [
       "<matplotlib.axes._subplots.AxesSubplot at 0x1098b5208>"
      ]
     },
     "execution_count": 12,
     "metadata": {},
     "output_type": "execute_result"
    },
    {
     "data": {
      "image/png": "[encoded data removed]",
      "text/plain": [
       "<Figure size 432x288 with 1 Axes>"
      ]
     },
     "metadata": {
      "needs_background": "light"
     },
     "output_type": "display_data"
    }
   ],
   "source": [
    "df.groupby('device')['date'].count().hist(bins = 20)"
   ]
  },
  {
   "cell_type": "code",
   "execution_count": 13,
   "metadata": {},
   "outputs": [
    {
     "data": {
      "text/html": [
       "<div>\n",
       "<style scoped>\n",
       "    .dataframe tbody tr th:only-of-type {\n",
       "        vertical-align: middle;\n",
       "    }\n",
       "\n",
       "    .dataframe tbody tr th {\n",
       "        vertical-align: top;\n",
       "    }\n",
       "\n",
       "    .dataframe thead th {\n",
       "        text-align: right;\n",
       "    }\n",
       "</style>\n",
       "<table border=\"1\" class=\"dataframe\">\n",
       "  <thead>\n",
       "    <tr style=\"text-align: right;\">\n",
       "      <th></th>\n",
       "      <th>failure</th>\n",
       "      <th>attribute1</th>\n",
       "      <th>attribute2</th>\n",
       "      <th>attribute3</th>\n",
       "      <th>attribute4</th>\n",
       "      <th>attribute5</th>\n",
       "      <th>attribute6</th>\n",
       "      <th>attribute7</th>\n",
       "      <th>attribute8</th>\n",
       "      <th>attribute9</th>\n",
       "    </tr>\n",
       "  </thead>\n",
       "  <tbody>\n",
       "    <tr>\n",
       "      <th>count</th>\n",
       "      <td>124494.000000</td>\n",
       "      <td>1.244940e+05</td>\n",
       "      <td>124494.000000</td>\n",
       "      <td>124494.000000</td>\n",
       "      <td>124494.000000</td>\n",
       "      <td>124494.000000</td>\n",
       "      <td>124494.000000</td>\n",
       "      <td>124494.000000</td>\n",
       "      <td>124494.000000</td>\n",
       "      <td>124494.000000</td>\n",
       "    </tr>\n",
       "    <tr>\n",
       "      <th>mean</th>\n",
       "      <td>0.000851</td>\n",
       "      <td>1.223881e+08</td>\n",
       "      <td>159.484762</td>\n",
       "      <td>9.940455</td>\n",
       "      <td>1.741120</td>\n",
       "      <td>14.222669</td>\n",
       "      <td>260172.657726</td>\n",
       "      <td>0.292528</td>\n",
       "      <td>0.292528</td>\n",
       "      <td>12.451524</td>\n",
       "    </tr>\n",
       "    <tr>\n",
       "      <th>std</th>\n",
       "      <td>0.029167</td>\n",
       "      <td>7.045933e+07</td>\n",
       "      <td>2179.657730</td>\n",
       "      <td>185.747321</td>\n",
       "      <td>22.908507</td>\n",
       "      <td>15.943028</td>\n",
       "      <td>99151.078547</td>\n",
       "      <td>7.436924</td>\n",
       "      <td>7.436924</td>\n",
       "      <td>191.425623</td>\n",
       "    </tr>\n",
       "    <tr>\n",
       "      <th>min</th>\n",
       "      <td>0.000000</td>\n",
       "      <td>0.000000e+00</td>\n",
       "      <td>0.000000</td>\n",
       "      <td>0.000000</td>\n",
       "      <td>0.000000</td>\n",
       "      <td>1.000000</td>\n",
       "      <td>8.000000</td>\n",
       "      <td>0.000000</td>\n",
       "      <td>0.000000</td>\n",
       "      <td>0.000000</td>\n",
       "    </tr>\n",
       "    <tr>\n",
       "      <th>25%</th>\n",
       "      <td>0.000000</td>\n",
       "      <td>6.128476e+07</td>\n",
       "      <td>0.000000</td>\n",
       "      <td>0.000000</td>\n",
       "      <td>0.000000</td>\n",
       "      <td>8.000000</td>\n",
       "      <td>221452.000000</td>\n",
       "      <td>0.000000</td>\n",
       "      <td>0.000000</td>\n",
       "      <td>0.000000</td>\n",
       "    </tr>\n",
       "    <tr>\n",
       "      <th>50%</th>\n",
       "      <td>0.000000</td>\n",
       "      <td>1.227974e+08</td>\n",
       "      <td>0.000000</td>\n",
       "      <td>0.000000</td>\n",
       "      <td>0.000000</td>\n",
       "      <td>10.000000</td>\n",
       "      <td>249799.500000</td>\n",
       "      <td>0.000000</td>\n",
       "      <td>0.000000</td>\n",
       "      <td>0.000000</td>\n",
       "    </tr>\n",
       "    <tr>\n",
       "      <th>75%</th>\n",
       "      <td>0.000000</td>\n",
       "      <td>1.833096e+08</td>\n",
       "      <td>0.000000</td>\n",
       "      <td>0.000000</td>\n",
       "      <td>0.000000</td>\n",
       "      <td>12.000000</td>\n",
       "      <td>310266.000000</td>\n",
       "      <td>0.000000</td>\n",
       "      <td>0.000000</td>\n",
       "      <td>0.000000</td>\n",
       "    </tr>\n",
       "    <tr>\n",
       "      <th>max</th>\n",
       "      <td>1.000000</td>\n",
       "      <td>2.441405e+08</td>\n",
       "      <td>64968.000000</td>\n",
       "      <td>24929.000000</td>\n",
       "      <td>1666.000000</td>\n",
       "      <td>98.000000</td>\n",
       "      <td>689161.000000</td>\n",
       "      <td>832.000000</td>\n",
       "      <td>832.000000</td>\n",
       "      <td>18701.000000</td>\n",
       "    </tr>\n",
       "  </tbody>\n",
       "</table>\n",
       "</div>"
      ],
      "text/plain": [
       "             failure    attribute1     attribute2     attribute3  \\\n",
       "count  124494.000000  1.244940e+05  124494.000000  124494.000000   \n",
       "mean        0.000851  1.223881e+08     159.484762       9.940455   \n",
       "std         0.029167  7.045933e+07    2179.657730     185.747321   \n",
       "min         0.000000  0.000000e+00       0.000000       0.000000   \n",
       "25%         0.000000  6.128476e+07       0.000000       0.000000   \n",
       "50%         0.000000  1.227974e+08       0.000000       0.000000   \n",
       "75%         0.000000  1.833096e+08       0.000000       0.000000   \n",
       "max         1.000000  2.441405e+08   64968.000000   24929.000000   \n",
       "\n",
       "          attribute4     attribute5     attribute6     attribute7  \\\n",
       "count  124494.000000  124494.000000  124494.000000  124494.000000   \n",
       "mean        1.741120      14.222669  260172.657726       0.292528   \n",
       "std        22.908507      15.943028   99151.078547       7.436924   \n",
       "min         0.000000       1.000000       8.000000       0.000000   \n",
       "25%         0.000000       8.000000  221452.000000       0.000000   \n",
       "50%         0.000000      10.000000  249799.500000       0.000000   \n",
       "75%         0.000000      12.000000  310266.000000       0.000000   \n",
       "max      1666.000000      98.000000  689161.000000     832.000000   \n",
       "\n",
       "          attribute8     attribute9  \n",
       "count  124494.000000  124494.000000  \n",
       "mean        0.292528      12.451524  \n",
       "std         7.436924     191.425623  \n",
       "min         0.000000       0.000000  \n",
       "25%         0.000000       0.000000  \n",
       "50%         0.000000       0.000000  \n",
       "75%         0.000000       0.000000  \n",
       "max       832.000000   18701.000000  "
      ]
     },
     "execution_count": 13,
     "metadata": {},
     "output_type": "execute_result"
    }
   ],
   "source": [
    "# nature of attributes: continuous vs. categorical\n",
    "\n",
    "df.describe()"
   ]
  },
  {
   "cell_type": "code",
   "execution_count": 14,
   "metadata": {},
   "outputs": [
    {
     "name": "stdout",
     "output_type": "stream",
     "text": [
      "123877\n",
      "558\n",
      "47\n",
      "115\n",
      "60\n",
      "44838\n",
      "28\n",
      "28\n",
      "65\n"
     ]
    }
   ],
   "source": [
    "# check unique values/levels of the attributes\n",
    "\n",
    "print(df['attribute1'].nunique())\n",
    "print(df['attribute2'].nunique())\n",
    "print(df['attribute3'].nunique())\n",
    "print(df['attribute4'].nunique())\n",
    "print(df['attribute5'].nunique())\n",
    "print(df['attribute6'].nunique())\n",
    "print(df['attribute7'].nunique())\n",
    "print(df['attribute8'].nunique())\n",
    "print(df['attribute9'].nunique())"
   ]
  },
  {
   "cell_type": "code",
   "execution_count": 15,
   "metadata": {},
   "outputs": [],
   "source": [
    "# save raw data to file\n",
    "df.to_csv('device_failure.csv', index = None, header=True) "
   ]
  },
  {
   "cell_type": "markdown",
   "metadata": {},
   "source": [
    "## Game plan\n",
    "\n",
    "We envision the assignment as a classification challenge. \n",
    "\n",
    "In designing the solution, we keep the following considerations in mind: \n",
    "\n",
    "- The distribution of the label, failure, is highly skewed. We may need case weighting or data resampling to enable our model with sufficient exposure to both failure and non-failure classes . This is required so model can produce robust parameter estimates. \n",
    "\n",
    "- Devices do not have equal number of log records. We have to reconstruct a dataset fixing granularity at the device level, with proper labelling of failure or non failure at each device's last point of observation. \n",
    "\n",
    "- In term of feature engineering, we can explore patterns along weekday pattern, seasonality, and/or device types. \n",
    "\n",
    "- In terms of attributes, we need to align sensor reading of the previous 1 day, previous 2 days, and previous 3 days to eventual failure incidence. \n",
    "\n",
    "- As for model selection, we use area under the curve (AUC) to guide our model search, balancing precision vs. recall at the same time. Simple accuracy measurement is not effective in the face of imbalanced dataset. Naive prediction of all devices never fail gets us to 91% accuracy.  \n",
    "\n",
    "- As for model evalaution, we manually hold out 20% of data for validation. Our model's performance is measured against the hold-out dataset. \n",
    "\n",
    "- Depending on the natrue of the underlying relationship between features and label, more complex models may be required to pick up non-linearity and/or feature interactions. We'll gradually consider more complex models as result of the simpler models come in. \n"
   ]
  },
  {
   "cell_type": "markdown",
   "metadata": {},
   "source": [
    "## Analysis Flow\n",
    "\n",
    "Our analysis will stick to the following steps:  \n",
    "\n",
    "1. clean data\n",
    "2. generate features and construct working dataset \n",
    "3. split dataset into training and validation\n",
    "4. resample minority class in training dataset  \n",
    "5. establish prediction baseline \n",
    "6. fit classification models for comparisons\n",
    "7. fit ensemble models to enhance predictions \n",
    "8. tune ensemble hyperparameters for better performance \n",
    "9. adjust prediction cut-off point\n",
    "10. explore other avenues to make continous improvement"
   ]
  },
  {
   "cell_type": "code",
   "execution_count": null,
   "metadata": {},
   "outputs": [],
   "source": []
  },
  {
   "cell_type": "markdown",
   "metadata": {},
   "source": [
    "## 1. Data Cleaning \n",
    "\n",
    "In this phase of data prepration, we achieve the following objectives: \n",
    "\n",
    "- We identify a duplicate record in the device log, and decide to drop it. \n",
    "\n",
    "- We find attribute8 and attribute9 with perfect correlation, reflecting possibly duplicate entries. We opt to drop attribute9 to avoid perfect collineraity. \n",
    "\n",
    "- We do not find missing data points, so there's no need to impute missing values.  \n",
    "\n",
    "- Features attribute1 to attribute9 do not conform to normal distribution, and varies widely in terms of scale. We have options to either normalize the scale to range between 0 and 1 and avoid potential outlier(s), or standardize the scale constrainting to unit variance of one. The latter will make attributes across the board with the same order of magnitude. Without context of what these attributes mean in practice, it's difficult to interpret outlier. On the other hand, feature variance across attributes do pose challenge to some of the models we plan to fit in the later stage, e.g. KNN, SVM. Hence our plan is to standardize those numerical features in due course. \n"
   ]
  },
  {
   "cell_type": "code",
   "execution_count": 16,
   "metadata": {},
   "outputs": [],
   "source": [
    "# data cleaning"
   ]
  },
  {
   "cell_type": "code",
   "execution_count": 17,
   "metadata": {},
   "outputs": [],
   "source": [
    "# delete duplicate rows"
   ]
  },
  {
   "cell_type": "code",
   "execution_count": 18,
   "metadata": {},
   "outputs": [
    {
     "data": {
      "text/plain": [
       "date          124494\n",
       "device        124494\n",
       "failure       124494\n",
       "attribute1    124494\n",
       "attribute2    124494\n",
       "attribute3    124494\n",
       "attribute4    124494\n",
       "attribute5    124494\n",
       "attribute6    124494\n",
       "attribute7    124494\n",
       "attribute8    124494\n",
       "attribute9    124494\n",
       "dtype: int64"
      ]
     },
     "execution_count": 18,
     "metadata": {},
     "output_type": "execute_result"
    }
   ],
   "source": [
    "df.count()"
   ]
  },
  {
   "cell_type": "code",
   "execution_count": 19,
   "metadata": {},
   "outputs": [
    {
     "data": {
      "text/plain": [
       "date          124493\n",
       "device        124493\n",
       "failure       124493\n",
       "attribute1    124493\n",
       "attribute2    124493\n",
       "attribute3    124493\n",
       "attribute4    124493\n",
       "attribute5    124493\n",
       "attribute6    124493\n",
       "attribute7    124493\n",
       "attribute8    124493\n",
       "attribute9    124493\n",
       "dtype: int64"
      ]
     },
     "execution_count": 19,
     "metadata": {},
     "output_type": "execute_result"
    }
   ],
   "source": [
    "df.drop_duplicates().count()"
   ]
  },
  {
   "cell_type": "code",
   "execution_count": 20,
   "metadata": {},
   "outputs": [
    {
     "data": {
      "text/plain": [
       "date          124493\n",
       "device        124493\n",
       "failure       124493\n",
       "attribute1    124493\n",
       "attribute2    124493\n",
       "attribute3    124493\n",
       "attribute4    124493\n",
       "attribute5    124493\n",
       "attribute6    124493\n",
       "attribute7    124493\n",
       "attribute8    124493\n",
       "attribute9    124493\n",
       "dtype: int64"
      ]
     },
     "execution_count": 20,
     "metadata": {},
     "output_type": "execute_result"
    }
   ],
   "source": [
    "df = df.drop_duplicates()\n",
    "df.count()"
   ]
  },
  {
   "cell_type": "code",
   "execution_count": 21,
   "metadata": {},
   "outputs": [],
   "source": [
    "# check column correlation "
   ]
  },
  {
   "cell_type": "code",
   "execution_count": 22,
   "metadata": {},
   "outputs": [
    {
     "data": {
      "text/html": [
       "<div>\n",
       "<style scoped>\n",
       "    .dataframe tbody tr th:only-of-type {\n",
       "        vertical-align: middle;\n",
       "    }\n",
       "\n",
       "    .dataframe tbody tr th {\n",
       "        vertical-align: top;\n",
       "    }\n",
       "\n",
       "    .dataframe thead th {\n",
       "        text-align: right;\n",
       "    }\n",
       "</style>\n",
       "<table border=\"1\" class=\"dataframe\">\n",
       "  <thead>\n",
       "    <tr style=\"text-align: right;\">\n",
       "      <th></th>\n",
       "      <th>failure</th>\n",
       "      <th>attribute1</th>\n",
       "      <th>attribute2</th>\n",
       "      <th>attribute3</th>\n",
       "      <th>attribute4</th>\n",
       "      <th>attribute5</th>\n",
       "      <th>attribute6</th>\n",
       "      <th>attribute7</th>\n",
       "      <th>attribute8</th>\n",
       "      <th>attribute9</th>\n",
       "    </tr>\n",
       "  </thead>\n",
       "  <tbody>\n",
       "    <tr>\n",
       "      <th>failure</th>\n",
       "      <td>1.000000</td>\n",
       "      <td>0.001984</td>\n",
       "      <td>0.052902</td>\n",
       "      <td>-0.000948</td>\n",
       "      <td>0.067398</td>\n",
       "      <td>0.002270</td>\n",
       "      <td>-0.000550</td>\n",
       "      <td>0.119055</td>\n",
       "      <td>0.119055</td>\n",
       "      <td>0.001622</td>\n",
       "    </tr>\n",
       "    <tr>\n",
       "      <th>attribute1</th>\n",
       "      <td>0.001984</td>\n",
       "      <td>1.000000</td>\n",
       "      <td>-0.004249</td>\n",
       "      <td>0.003702</td>\n",
       "      <td>0.001836</td>\n",
       "      <td>-0.003373</td>\n",
       "      <td>-0.001518</td>\n",
       "      <td>0.000151</td>\n",
       "      <td>0.000151</td>\n",
       "      <td>0.001121</td>\n",
       "    </tr>\n",
       "    <tr>\n",
       "      <th>attribute2</th>\n",
       "      <td>0.052902</td>\n",
       "      <td>-0.004249</td>\n",
       "      <td>1.000000</td>\n",
       "      <td>-0.002617</td>\n",
       "      <td>0.146593</td>\n",
       "      <td>-0.013999</td>\n",
       "      <td>-0.026350</td>\n",
       "      <td>0.141367</td>\n",
       "      <td>0.141367</td>\n",
       "      <td>-0.002736</td>\n",
       "    </tr>\n",
       "    <tr>\n",
       "      <th>attribute3</th>\n",
       "      <td>-0.000948</td>\n",
       "      <td>0.003702</td>\n",
       "      <td>-0.002617</td>\n",
       "      <td>1.000000</td>\n",
       "      <td>0.097452</td>\n",
       "      <td>-0.006697</td>\n",
       "      <td>0.009027</td>\n",
       "      <td>-0.001884</td>\n",
       "      <td>-0.001884</td>\n",
       "      <td>0.532366</td>\n",
       "    </tr>\n",
       "    <tr>\n",
       "      <th>attribute4</th>\n",
       "      <td>0.067398</td>\n",
       "      <td>0.001836</td>\n",
       "      <td>0.146593</td>\n",
       "      <td>0.097452</td>\n",
       "      <td>1.000000</td>\n",
       "      <td>-0.009773</td>\n",
       "      <td>0.024870</td>\n",
       "      <td>0.045631</td>\n",
       "      <td>0.045631</td>\n",
       "      <td>0.036069</td>\n",
       "    </tr>\n",
       "    <tr>\n",
       "      <th>attribute5</th>\n",
       "      <td>0.002270</td>\n",
       "      <td>-0.003373</td>\n",
       "      <td>-0.013999</td>\n",
       "      <td>-0.006697</td>\n",
       "      <td>-0.009773</td>\n",
       "      <td>1.000000</td>\n",
       "      <td>-0.017051</td>\n",
       "      <td>-0.009384</td>\n",
       "      <td>-0.009384</td>\n",
       "      <td>0.005949</td>\n",
       "    </tr>\n",
       "    <tr>\n",
       "      <th>attribute6</th>\n",
       "      <td>-0.000550</td>\n",
       "      <td>-0.001518</td>\n",
       "      <td>-0.026350</td>\n",
       "      <td>0.009027</td>\n",
       "      <td>0.024870</td>\n",
       "      <td>-0.017051</td>\n",
       "      <td>1.000000</td>\n",
       "      <td>-0.012207</td>\n",
       "      <td>-0.012207</td>\n",
       "      <td>0.021152</td>\n",
       "    </tr>\n",
       "    <tr>\n",
       "      <th>attribute7</th>\n",
       "      <td>0.119055</td>\n",
       "      <td>0.000151</td>\n",
       "      <td>0.141367</td>\n",
       "      <td>-0.001884</td>\n",
       "      <td>0.045631</td>\n",
       "      <td>-0.009384</td>\n",
       "      <td>-0.012207</td>\n",
       "      <td>1.000000</td>\n",
       "      <td>1.000000</td>\n",
       "      <td>0.006861</td>\n",
       "    </tr>\n",
       "    <tr>\n",
       "      <th>attribute8</th>\n",
       "      <td>0.119055</td>\n",
       "      <td>0.000151</td>\n",
       "      <td>0.141367</td>\n",
       "      <td>-0.001884</td>\n",
       "      <td>0.045631</td>\n",
       "      <td>-0.009384</td>\n",
       "      <td>-0.012207</td>\n",
       "      <td>1.000000</td>\n",
       "      <td>1.000000</td>\n",
       "      <td>0.006861</td>\n",
       "    </tr>\n",
       "    <tr>\n",
       "      <th>attribute9</th>\n",
       "      <td>0.001622</td>\n",
       "      <td>0.001121</td>\n",
       "      <td>-0.002736</td>\n",
       "      <td>0.532366</td>\n",
       "      <td>0.036069</td>\n",
       "      <td>0.005949</td>\n",
       "      <td>0.021152</td>\n",
       "      <td>0.006861</td>\n",
       "      <td>0.006861</td>\n",
       "      <td>1.000000</td>\n",
       "    </tr>\n",
       "  </tbody>\n",
       "</table>\n",
       "</div>"
      ],
      "text/plain": [
       "             failure  attribute1  attribute2  attribute3  attribute4  \\\n",
       "failure     1.000000    0.001984    0.052902   -0.000948    0.067398   \n",
       "attribute1  0.001984    1.000000   -0.004249    0.003702    0.001836   \n",
       "attribute2  0.052902   -0.004249    1.000000   -0.002617    0.146593   \n",
       "attribute3 -0.000948    0.003702   -0.002617    1.000000    0.097452   \n",
       "attribute4  0.067398    0.001836    0.146593    0.097452    1.000000   \n",
       "attribute5  0.002270   -0.003373   -0.013999   -0.006697   -0.009773   \n",
       "attribute6 -0.000550   -0.001518   -0.026350    0.009027    0.024870   \n",
       "attribute7  0.119055    0.000151    0.141367   -0.001884    0.045631   \n",
       "attribute8  0.119055    0.000151    0.141367   -0.001884    0.045631   \n",
       "attribute9  0.001622    0.001121   -0.002736    0.532366    0.036069   \n",
       "\n",
       "            attribute5  attribute6  attribute7  attribute8  attribute9  \n",
       "failure       0.002270   -0.000550    0.119055    0.119055    0.001622  \n",
       "attribute1   -0.003373   -0.001518    0.000151    0.000151    0.001121  \n",
       "attribute2   -0.013999   -0.026350    0.141367    0.141367   -0.002736  \n",
       "attribute3   -0.006697    0.009027   -0.001884   -0.001884    0.532366  \n",
       "attribute4   -0.009773    0.024870    0.045631    0.045631    0.036069  \n",
       "attribute5    1.000000   -0.017051   -0.009384   -0.009384    0.005949  \n",
       "attribute6   -0.017051    1.000000   -0.012207   -0.012207    0.021152  \n",
       "attribute7   -0.009384   -0.012207    1.000000    1.000000    0.006861  \n",
       "attribute8   -0.009384   -0.012207    1.000000    1.000000    0.006861  \n",
       "attribute9    0.005949    0.021152    0.006861    0.006861    1.000000  "
      ]
     },
     "execution_count": 22,
     "metadata": {},
     "output_type": "execute_result"
    }
   ],
   "source": [
    "df.corr()"
   ]
  },
  {
   "cell_type": "code",
   "execution_count": 23,
   "metadata": {},
   "outputs": [
    {
     "data": {
      "text/plain": [
       "<matplotlib.axes._subplots.AxesSubplot at 0x1a20b8ceb8>"
      ]
     },
     "execution_count": 23,
     "metadata": {},
     "output_type": "execute_result"
    },
    {
     "data": {
      "image/png": "[encoded data removed]",
      "text/plain": [
       "<Figure size 432x288 with 2 Axes>"
      ]
     },
     "metadata": {},
     "output_type": "display_data"
    }
   ],
   "source": [
    "df_att = df[['attribute1', 'attribute2', 'attribute3', 'attribute4', 'attribute5', \n",
    "             'attribute6', 'attribute7', 'attribute8', 'attribute9']]\n",
    "corr_pearson = df_att.corr() \n",
    "\n",
    "import seaborn as sns\n",
    "sns.set()\n",
    "sns.heatmap(corr_pearson, center = 0, cmap = 'RdBu_r')"
   ]
  },
  {
   "cell_type": "code",
   "execution_count": 24,
   "metadata": {},
   "outputs": [],
   "source": [
    "# attribute8 and attribute9 perfectly correlated. dropping attribute9 to avoid perfect collineraity"
   ]
  },
  {
   "cell_type": "code",
   "execution_count": 25,
   "metadata": {},
   "outputs": [],
   "source": [
    "df = df.drop(['attribute9'], axis=1)"
   ]
  },
  {
   "cell_type": "code",
   "execution_count": 26,
   "metadata": {},
   "outputs": [
    {
     "data": {
      "text/html": [
       "<div>\n",
       "<style scoped>\n",
       "    .dataframe tbody tr th:only-of-type {\n",
       "        vertical-align: middle;\n",
       "    }\n",
       "\n",
       "    .dataframe tbody tr th {\n",
       "        vertical-align: top;\n",
       "    }\n",
       "\n",
       "    .dataframe thead th {\n",
       "        text-align: right;\n",
       "    }\n",
       "</style>\n",
       "<table border=\"1\" class=\"dataframe\">\n",
       "  <thead>\n",
       "    <tr style=\"text-align: right;\">\n",
       "      <th></th>\n",
       "      <th>date</th>\n",
       "      <th>device</th>\n",
       "      <th>failure</th>\n",
       "      <th>attribute1</th>\n",
       "      <th>attribute2</th>\n",
       "      <th>attribute3</th>\n",
       "      <th>attribute4</th>\n",
       "      <th>attribute5</th>\n",
       "      <th>attribute6</th>\n",
       "      <th>attribute7</th>\n",
       "      <th>attribute8</th>\n",
       "    </tr>\n",
       "  </thead>\n",
       "  <tbody>\n",
       "    <tr>\n",
       "      <th>0</th>\n",
       "      <td>2015-01-01</td>\n",
       "      <td>S1F01085</td>\n",
       "      <td>0</td>\n",
       "      <td>215630672</td>\n",
       "      <td>56</td>\n",
       "      <td>0</td>\n",
       "      <td>52</td>\n",
       "      <td>6</td>\n",
       "      <td>407438</td>\n",
       "      <td>0</td>\n",
       "      <td>0</td>\n",
       "    </tr>\n",
       "    <tr>\n",
       "      <th>1</th>\n",
       "      <td>2015-01-01</td>\n",
       "      <td>S1F0166B</td>\n",
       "      <td>0</td>\n",
       "      <td>61370680</td>\n",
       "      <td>0</td>\n",
       "      <td>3</td>\n",
       "      <td>0</td>\n",
       "      <td>6</td>\n",
       "      <td>403174</td>\n",
       "      <td>0</td>\n",
       "      <td>0</td>\n",
       "    </tr>\n",
       "    <tr>\n",
       "      <th>2</th>\n",
       "      <td>2015-01-01</td>\n",
       "      <td>S1F01E6Y</td>\n",
       "      <td>0</td>\n",
       "      <td>173295968</td>\n",
       "      <td>0</td>\n",
       "      <td>0</td>\n",
       "      <td>0</td>\n",
       "      <td>12</td>\n",
       "      <td>237394</td>\n",
       "      <td>0</td>\n",
       "      <td>0</td>\n",
       "    </tr>\n",
       "    <tr>\n",
       "      <th>3</th>\n",
       "      <td>2015-01-01</td>\n",
       "      <td>S1F01JE0</td>\n",
       "      <td>0</td>\n",
       "      <td>79694024</td>\n",
       "      <td>0</td>\n",
       "      <td>0</td>\n",
       "      <td>0</td>\n",
       "      <td>6</td>\n",
       "      <td>410186</td>\n",
       "      <td>0</td>\n",
       "      <td>0</td>\n",
       "    </tr>\n",
       "    <tr>\n",
       "      <th>4</th>\n",
       "      <td>2015-01-01</td>\n",
       "      <td>S1F01R2B</td>\n",
       "      <td>0</td>\n",
       "      <td>135970480</td>\n",
       "      <td>0</td>\n",
       "      <td>0</td>\n",
       "      <td>0</td>\n",
       "      <td>15</td>\n",
       "      <td>313173</td>\n",
       "      <td>0</td>\n",
       "      <td>0</td>\n",
       "    </tr>\n",
       "  </tbody>\n",
       "</table>\n",
       "</div>"
      ],
      "text/plain": [
       "         date    device  failure  attribute1  attribute2  attribute3  \\\n",
       "0  2015-01-01  S1F01085        0   215630672          56           0   \n",
       "1  2015-01-01  S1F0166B        0    61370680           0           3   \n",
       "2  2015-01-01  S1F01E6Y        0   173295968           0           0   \n",
       "3  2015-01-01  S1F01JE0        0    79694024           0           0   \n",
       "4  2015-01-01  S1F01R2B        0   135970480           0           0   \n",
       "\n",
       "   attribute4  attribute5  attribute6  attribute7  attribute8  \n",
       "0          52           6      407438           0           0  \n",
       "1           0           6      403174           0           0  \n",
       "2           0          12      237394           0           0  \n",
       "3           0           6      410186           0           0  \n",
       "4           0          15      313173           0           0  "
      ]
     },
     "execution_count": 26,
     "metadata": {},
     "output_type": "execute_result"
    }
   ],
   "source": [
    "df.head()"
   ]
  },
  {
   "cell_type": "code",
   "execution_count": 27,
   "metadata": {},
   "outputs": [],
   "source": [
    "# check missing data"
   ]
  },
  {
   "cell_type": "code",
   "execution_count": 28,
   "metadata": {},
   "outputs": [
    {
     "data": {
      "text/plain": [
       "date          0\n",
       "device        0\n",
       "failure       0\n",
       "attribute1    0\n",
       "attribute2    0\n",
       "attribute3    0\n",
       "attribute4    0\n",
       "attribute5    0\n",
       "attribute6    0\n",
       "attribute7    0\n",
       "attribute8    0\n",
       "dtype: int64"
      ]
     },
     "execution_count": 28,
     "metadata": {},
     "output_type": "execute_result"
    }
   ],
   "source": [
    "df.isnull().sum()"
   ]
  },
  {
   "cell_type": "code",
   "execution_count": 29,
   "metadata": {},
   "outputs": [],
   "source": [
    "# check feature distribution and evaluate if normalize/standardize"
   ]
  },
  {
   "cell_type": "code",
   "execution_count": 30,
   "metadata": {},
   "outputs": [
    {
     "data": {
      "text/plain": [
       "<matplotlib.axes._subplots.AxesSubplot at 0x1a20d10c88>"
      ]
     },
     "execution_count": 30,
     "metadata": {},
     "output_type": "execute_result"
    },
    {
     "data": {
      "image/png": "[encoded data removed]",
      "text/plain": [
       "<Figure size 432x288 with 1 Axes>"
      ]
     },
     "metadata": {},
     "output_type": "display_data"
    }
   ],
   "source": [
    "sns.distplot(df['attribute1'])"
   ]
  },
  {
   "cell_type": "code",
   "execution_count": 31,
   "metadata": {},
   "outputs": [
    {
     "data": {
      "text/plain": [
       "<matplotlib.axes._subplots.AxesSubplot at 0x1a21312f98>"
      ]
     },
     "execution_count": 31,
     "metadata": {},
     "output_type": "execute_result"
    },
    {
     "data": {
      "image/png": "[encoded data removed]",
      "text/plain": [
       "<Figure size 432x288 with 1 Axes>"
      ]
     },
     "metadata": {},
     "output_type": "display_data"
    }
   ],
   "source": [
    "sns.distplot(df['attribute2'])"
   ]
  },
  {
   "cell_type": "code",
   "execution_count": 32,
   "metadata": {},
   "outputs": [
    {
     "data": {
      "text/plain": [
       "<matplotlib.axes._subplots.AxesSubplot at 0x1a20d3eba8>"
      ]
     },
     "execution_count": 32,
     "metadata": {},
     "output_type": "execute_result"
    },
    {
     "data": {
      "image/png": "[encoded data removed]",
      "text/plain": [
       "<Figure size 432x288 with 1 Axes>"
      ]
     },
     "metadata": {},
     "output_type": "display_data"
    }
   ],
   "source": [
    "sns.distplot(df['attribute3'])"
   ]
  },
  {
   "cell_type": "code",
   "execution_count": 33,
   "metadata": {},
   "outputs": [
    {
     "data": {
      "text/plain": [
       "<matplotlib.axes._subplots.AxesSubplot at 0x11cdc4ba8>"
      ]
     },
     "execution_count": 33,
     "metadata": {},
     "output_type": "execute_result"
    },
    {
     "data": {
      "image/png": "[encoded data removed]",
      "text/plain": [
       "<Figure size 432x288 with 1 Axes>"
      ]
     },
     "metadata": {},
     "output_type": "display_data"
    }
   ],
   "source": [
    "sns.distplot(df['attribute4'])"
   ]
  },
  {
   "cell_type": "code",
   "execution_count": 34,
   "metadata": {},
   "outputs": [
    {
     "data": {
      "text/plain": [
       "<matplotlib.axes._subplots.AxesSubplot at 0x11d0fc0b8>"
      ]
     },
     "execution_count": 34,
     "metadata": {},
     "output_type": "execute_result"
    },
    {
     "data": {
      "image/png": "[encoded data removed]",
      "text/plain": [
       "<Figure size 432x288 with 1 Axes>"
      ]
     },
     "metadata": {},
     "output_type": "display_data"
    }
   ],
   "source": [
    "sns.distplot(df['attribute5'])"
   ]
  },
  {
   "cell_type": "code",
   "execution_count": 35,
   "metadata": {},
   "outputs": [
    {
     "data": {
      "text/plain": [
       "<matplotlib.axes._subplots.AxesSubplot at 0x11d1c9748>"
      ]
     },
     "execution_count": 35,
     "metadata": {},
     "output_type": "execute_result"
    },
    {
     "data": {
      "image/png": "[encoded data removed]",
      "text/plain": [
       "<Figure size 432x288 with 1 Axes>"
      ]
     },
     "metadata": {},
     "output_type": "display_data"
    }
   ],
   "source": [
    "sns.distplot(df['attribute6'])"
   ]
  },
  {
   "cell_type": "code",
   "execution_count": 36,
   "metadata": {},
   "outputs": [
    {
     "data": {
      "text/plain": [
       "<matplotlib.axes._subplots.AxesSubplot at 0x11e76a518>"
      ]
     },
     "execution_count": 36,
     "metadata": {},
     "output_type": "execute_result"
    },
    {
     "data": {
      "image/png": "[encoded data removed]",
      "text/plain": [
       "<Figure size 432x288 with 1 Axes>"
      ]
     },
     "metadata": {},
     "output_type": "display_data"
    }
   ],
   "source": [
    "sns.distplot(df['attribute7'])"
   ]
  },
  {
   "cell_type": "code",
   "execution_count": 37,
   "metadata": {},
   "outputs": [
    {
     "data": {
      "text/plain": [
       "<matplotlib.axes._subplots.AxesSubplot at 0x1a2144c898>"
      ]
     },
     "execution_count": 37,
     "metadata": {},
     "output_type": "execute_result"
    },
    {
     "data": {
      "image/png": "[encoded data removed]",
      "text/plain": [
       "<Figure size 432x288 with 1 Axes>"
      ]
     },
     "metadata": {},
     "output_type": "display_data"
    }
   ],
   "source": [
    "sns.distplot(df['attribute8'])"
   ]
  },
  {
   "cell_type": "code",
   "execution_count": 38,
   "metadata": {},
   "outputs": [],
   "source": [
    "# we'll standardize in later cross-validation loop to avoid possible 'data leakage'"
   ]
  },
  {
   "cell_type": "code",
   "execution_count": null,
   "metadata": {},
   "outputs": [],
   "source": []
  },
  {
   "cell_type": "markdown",
   "metadata": {},
   "source": [
    "## 2. Feature Engineering\n",
    "\n",
    "- We hypothesize that device failure may reflect scheduling pattern. We explicitely model weekday, Monday to Sunday, to simulate the effect.\n",
    "\n",
    "- We also suspect seasonable effect. We model month, Janaury to December, to gauge the impact. \n",
    "\n",
    "- We calculate the days the device is in service before failure. We use this to pick up effect of usage on failure. \n",
    "\n",
    "- In terms of device type, namely 'S1F', 'W1F', 'Z1F'. We model it to explore influence of device family on failure. \n",
    "\n",
    "- For attributes, we extract sensor readings of the past 1 day, past 2 days, and past 3 days to align with the label for model training. "
   ]
  },
  {
   "cell_type": "code",
   "execution_count": 39,
   "metadata": {},
   "outputs": [
    {
     "data": {
      "text/html": [
       "<div>\n",
       "<style scoped>\n",
       "    .dataframe tbody tr th:only-of-type {\n",
       "        vertical-align: middle;\n",
       "    }\n",
       "\n",
       "    .dataframe tbody tr th {\n",
       "        vertical-align: top;\n",
       "    }\n",
       "\n",
       "    .dataframe thead th {\n",
       "        text-align: right;\n",
       "    }\n",
       "</style>\n",
       "<table border=\"1\" class=\"dataframe\">\n",
       "  <thead>\n",
       "    <tr style=\"text-align: right;\">\n",
       "      <th></th>\n",
       "      <th>date</th>\n",
       "      <th>device</th>\n",
       "      <th>failure</th>\n",
       "      <th>date2</th>\n",
       "      <th>day_of_week</th>\n",
       "    </tr>\n",
       "  </thead>\n",
       "  <tbody>\n",
       "    <tr>\n",
       "      <th>0</th>\n",
       "      <td>2015-01-01</td>\n",
       "      <td>S1F01085</td>\n",
       "      <td>0</td>\n",
       "      <td>2015-01-01</td>\n",
       "      <td>3</td>\n",
       "    </tr>\n",
       "    <tr>\n",
       "      <th>1</th>\n",
       "      <td>2015-01-01</td>\n",
       "      <td>S1F0166B</td>\n",
       "      <td>0</td>\n",
       "      <td>2015-01-01</td>\n",
       "      <td>3</td>\n",
       "    </tr>\n",
       "    <tr>\n",
       "      <th>2</th>\n",
       "      <td>2015-01-01</td>\n",
       "      <td>S1F01E6Y</td>\n",
       "      <td>0</td>\n",
       "      <td>2015-01-01</td>\n",
       "      <td>3</td>\n",
       "    </tr>\n",
       "    <tr>\n",
       "      <th>3</th>\n",
       "      <td>2015-01-01</td>\n",
       "      <td>S1F01JE0</td>\n",
       "      <td>0</td>\n",
       "      <td>2015-01-01</td>\n",
       "      <td>3</td>\n",
       "    </tr>\n",
       "    <tr>\n",
       "      <th>4</th>\n",
       "      <td>2015-01-01</td>\n",
       "      <td>S1F01R2B</td>\n",
       "      <td>0</td>\n",
       "      <td>2015-01-01</td>\n",
       "      <td>3</td>\n",
       "    </tr>\n",
       "  </tbody>\n",
       "</table>\n",
       "</div>"
      ],
      "text/plain": [
       "         date    device  failure      date2  day_of_week\n",
       "0  2015-01-01  S1F01085        0 2015-01-01            3\n",
       "1  2015-01-01  S1F0166B        0 2015-01-01            3\n",
       "2  2015-01-01  S1F01E6Y        0 2015-01-01            3\n",
       "3  2015-01-01  S1F01JE0        0 2015-01-01            3\n",
       "4  2015-01-01  S1F01R2B        0 2015-01-01            3"
      ]
     },
     "execution_count": 39,
     "metadata": {},
     "output_type": "execute_result"
    }
   ],
   "source": [
    "# day of week\n",
    "\n",
    "df1 = df.copy()\n",
    "df1 = df1.drop(['attribute1', 'attribute2', 'attribute3', 'attribute4', 'attribute5', 'attribute6', 'attribute7', 'attribute8'], axis = 1)\n",
    "\n",
    "df1['date2'] = pd.to_datetime(df1['date'])\n",
    "df1['day_of_week'] = df1['date2'].dt.weekday\n",
    "df1.head()"
   ]
  },
  {
   "cell_type": "code",
   "execution_count": 40,
   "metadata": {},
   "outputs": [
    {
     "data": {
      "text/html": [
       "<div>\n",
       "<style scoped>\n",
       "    .dataframe tbody tr th:only-of-type {\n",
       "        vertical-align: middle;\n",
       "    }\n",
       "\n",
       "    .dataframe tbody tr th {\n",
       "        vertical-align: top;\n",
       "    }\n",
       "\n",
       "    .dataframe thead th {\n",
       "        text-align: right;\n",
       "    }\n",
       "</style>\n",
       "<table border=\"1\" class=\"dataframe\">\n",
       "  <thead>\n",
       "    <tr style=\"text-align: right;\">\n",
       "      <th></th>\n",
       "      <th>date</th>\n",
       "      <th>device</th>\n",
       "      <th>failure</th>\n",
       "      <th>date2</th>\n",
       "      <th>day_of_week</th>\n",
       "      <th>month_of_year</th>\n",
       "    </tr>\n",
       "  </thead>\n",
       "  <tbody>\n",
       "    <tr>\n",
       "      <th>0</th>\n",
       "      <td>2015-01-01</td>\n",
       "      <td>S1F01085</td>\n",
       "      <td>0</td>\n",
       "      <td>2015-01-01</td>\n",
       "      <td>3</td>\n",
       "      <td>1</td>\n",
       "    </tr>\n",
       "    <tr>\n",
       "      <th>1</th>\n",
       "      <td>2015-01-01</td>\n",
       "      <td>S1F0166B</td>\n",
       "      <td>0</td>\n",
       "      <td>2015-01-01</td>\n",
       "      <td>3</td>\n",
       "      <td>1</td>\n",
       "    </tr>\n",
       "    <tr>\n",
       "      <th>2</th>\n",
       "      <td>2015-01-01</td>\n",
       "      <td>S1F01E6Y</td>\n",
       "      <td>0</td>\n",
       "      <td>2015-01-01</td>\n",
       "      <td>3</td>\n",
       "      <td>1</td>\n",
       "    </tr>\n",
       "    <tr>\n",
       "      <th>3</th>\n",
       "      <td>2015-01-01</td>\n",
       "      <td>S1F01JE0</td>\n",
       "      <td>0</td>\n",
       "      <td>2015-01-01</td>\n",
       "      <td>3</td>\n",
       "      <td>1</td>\n",
       "    </tr>\n",
       "    <tr>\n",
       "      <th>4</th>\n",
       "      <td>2015-01-01</td>\n",
       "      <td>S1F01R2B</td>\n",
       "      <td>0</td>\n",
       "      <td>2015-01-01</td>\n",
       "      <td>3</td>\n",
       "      <td>1</td>\n",
       "    </tr>\n",
       "  </tbody>\n",
       "</table>\n",
       "</div>"
      ],
      "text/plain": [
       "         date    device  failure      date2  day_of_week  month_of_year\n",
       "0  2015-01-01  S1F01085        0 2015-01-01            3              1\n",
       "1  2015-01-01  S1F0166B        0 2015-01-01            3              1\n",
       "2  2015-01-01  S1F01E6Y        0 2015-01-01            3              1\n",
       "3  2015-01-01  S1F01JE0        0 2015-01-01            3              1\n",
       "4  2015-01-01  S1F01R2B        0 2015-01-01            3              1"
      ]
     },
     "execution_count": 40,
     "metadata": {},
     "output_type": "execute_result"
    }
   ],
   "source": [
    "# month of year\n",
    "\n",
    "df1['month_of_year'] = df1['date2'].dt.month\n",
    "df1.head()"
   ]
  },
  {
   "cell_type": "code",
   "execution_count": 41,
   "metadata": {},
   "outputs": [
    {
     "data": {
      "text/html": [
       "<div>\n",
       "<style scoped>\n",
       "    .dataframe tbody tr th:only-of-type {\n",
       "        vertical-align: middle;\n",
       "    }\n",
       "\n",
       "    .dataframe tbody tr th {\n",
       "        vertical-align: top;\n",
       "    }\n",
       "\n",
       "    .dataframe thead th {\n",
       "        text-align: right;\n",
       "    }\n",
       "</style>\n",
       "<table border=\"1\" class=\"dataframe\">\n",
       "  <thead>\n",
       "    <tr style=\"text-align: right;\">\n",
       "      <th></th>\n",
       "      <th>date</th>\n",
       "      <th>device</th>\n",
       "      <th>failure</th>\n",
       "      <th>date2</th>\n",
       "      <th>day_of_week</th>\n",
       "      <th>month_of_year</th>\n",
       "      <th>service_days</th>\n",
       "    </tr>\n",
       "  </thead>\n",
       "  <tbody>\n",
       "    <tr>\n",
       "      <th>0</th>\n",
       "      <td>2015-01-01</td>\n",
       "      <td>S1F01085</td>\n",
       "      <td>0</td>\n",
       "      <td>2015-01-01</td>\n",
       "      <td>3</td>\n",
       "      <td>1</td>\n",
       "      <td>5</td>\n",
       "    </tr>\n",
       "    <tr>\n",
       "      <th>1</th>\n",
       "      <td>2015-01-01</td>\n",
       "      <td>S1F0166B</td>\n",
       "      <td>0</td>\n",
       "      <td>2015-01-01</td>\n",
       "      <td>3</td>\n",
       "      <td>1</td>\n",
       "      <td>5</td>\n",
       "    </tr>\n",
       "    <tr>\n",
       "      <th>2</th>\n",
       "      <td>2015-01-01</td>\n",
       "      <td>S1F01E6Y</td>\n",
       "      <td>0</td>\n",
       "      <td>2015-01-01</td>\n",
       "      <td>3</td>\n",
       "      <td>1</td>\n",
       "      <td>47</td>\n",
       "    </tr>\n",
       "    <tr>\n",
       "      <th>3</th>\n",
       "      <td>2015-01-01</td>\n",
       "      <td>S1F01JE0</td>\n",
       "      <td>0</td>\n",
       "      <td>2015-01-01</td>\n",
       "      <td>3</td>\n",
       "      <td>1</td>\n",
       "      <td>5</td>\n",
       "    </tr>\n",
       "    <tr>\n",
       "      <th>4</th>\n",
       "      <td>2015-01-01</td>\n",
       "      <td>S1F01R2B</td>\n",
       "      <td>0</td>\n",
       "      <td>2015-01-01</td>\n",
       "      <td>3</td>\n",
       "      <td>1</td>\n",
       "      <td>222</td>\n",
       "    </tr>\n",
       "  </tbody>\n",
       "</table>\n",
       "</div>"
      ],
      "text/plain": [
       "         date    device  failure      date2  day_of_week  month_of_year  \\\n",
       "0  2015-01-01  S1F01085        0 2015-01-01            3              1   \n",
       "1  2015-01-01  S1F0166B        0 2015-01-01            3              1   \n",
       "2  2015-01-01  S1F01E6Y        0 2015-01-01            3              1   \n",
       "3  2015-01-01  S1F01JE0        0 2015-01-01            3              1   \n",
       "4  2015-01-01  S1F01R2B        0 2015-01-01            3              1   \n",
       "\n",
       "   service_days  \n",
       "0             5  \n",
       "1             5  \n",
       "2            47  \n",
       "3             5  \n",
       "4           222  "
      ]
     },
     "execution_count": 41,
     "metadata": {},
     "output_type": "execute_result"
    }
   ],
   "source": [
    "# service days\n",
    "\n",
    "service_days_map = (df1.groupby('device')['date'].count() -1).to_dict()\n",
    "df1['service_days'] = df1['device'].map(service_days_map)\n",
    "\n",
    "df1.head()"
   ]
  },
  {
   "cell_type": "code",
   "execution_count": 42,
   "metadata": {},
   "outputs": [
    {
     "data": {
      "text/html": [
       "<div>\n",
       "<style scoped>\n",
       "    .dataframe tbody tr th:only-of-type {\n",
       "        vertical-align: middle;\n",
       "    }\n",
       "\n",
       "    .dataframe tbody tr th {\n",
       "        vertical-align: top;\n",
       "    }\n",
       "\n",
       "    .dataframe thead th {\n",
       "        text-align: right;\n",
       "    }\n",
       "</style>\n",
       "<table border=\"1\" class=\"dataframe\">\n",
       "  <thead>\n",
       "    <tr style=\"text-align: right;\">\n",
       "      <th></th>\n",
       "      <th>date</th>\n",
       "      <th>device</th>\n",
       "      <th>failure</th>\n",
       "      <th>date2</th>\n",
       "      <th>day_of_week</th>\n",
       "      <th>month_of_year</th>\n",
       "      <th>service_days</th>\n",
       "      <th>device_type</th>\n",
       "    </tr>\n",
       "  </thead>\n",
       "  <tbody>\n",
       "    <tr>\n",
       "      <th>0</th>\n",
       "      <td>2015-01-01</td>\n",
       "      <td>S1F01085</td>\n",
       "      <td>0</td>\n",
       "      <td>2015-01-01</td>\n",
       "      <td>3</td>\n",
       "      <td>1</td>\n",
       "      <td>5</td>\n",
       "      <td>S1F</td>\n",
       "    </tr>\n",
       "    <tr>\n",
       "      <th>1</th>\n",
       "      <td>2015-01-01</td>\n",
       "      <td>S1F0166B</td>\n",
       "      <td>0</td>\n",
       "      <td>2015-01-01</td>\n",
       "      <td>3</td>\n",
       "      <td>1</td>\n",
       "      <td>5</td>\n",
       "      <td>S1F</td>\n",
       "    </tr>\n",
       "    <tr>\n",
       "      <th>2</th>\n",
       "      <td>2015-01-01</td>\n",
       "      <td>S1F01E6Y</td>\n",
       "      <td>0</td>\n",
       "      <td>2015-01-01</td>\n",
       "      <td>3</td>\n",
       "      <td>1</td>\n",
       "      <td>47</td>\n",
       "      <td>S1F</td>\n",
       "    </tr>\n",
       "    <tr>\n",
       "      <th>3</th>\n",
       "      <td>2015-01-01</td>\n",
       "      <td>S1F01JE0</td>\n",
       "      <td>0</td>\n",
       "      <td>2015-01-01</td>\n",
       "      <td>3</td>\n",
       "      <td>1</td>\n",
       "      <td>5</td>\n",
       "      <td>S1F</td>\n",
       "    </tr>\n",
       "    <tr>\n",
       "      <th>4</th>\n",
       "      <td>2015-01-01</td>\n",
       "      <td>S1F01R2B</td>\n",
       "      <td>0</td>\n",
       "      <td>2015-01-01</td>\n",
       "      <td>3</td>\n",
       "      <td>1</td>\n",
       "      <td>222</td>\n",
       "      <td>S1F</td>\n",
       "    </tr>\n",
       "  </tbody>\n",
       "</table>\n",
       "</div>"
      ],
      "text/plain": [
       "         date    device  failure      date2  day_of_week  month_of_year  \\\n",
       "0  2015-01-01  S1F01085        0 2015-01-01            3              1   \n",
       "1  2015-01-01  S1F0166B        0 2015-01-01            3              1   \n",
       "2  2015-01-01  S1F01E6Y        0 2015-01-01            3              1   \n",
       "3  2015-01-01  S1F01JE0        0 2015-01-01            3              1   \n",
       "4  2015-01-01  S1F01R2B        0 2015-01-01            3              1   \n",
       "\n",
       "   service_days device_type  \n",
       "0             5         S1F  \n",
       "1             5         S1F  \n",
       "2            47         S1F  \n",
       "3             5         S1F  \n",
       "4           222         S1F  "
      ]
     },
     "execution_count": 42,
     "metadata": {},
     "output_type": "execute_result"
    }
   ],
   "source": [
    "# device type\n",
    "\n",
    "df1['device_type'] = df1['device'].str[:3]\n",
    "\n",
    "df1.head()"
   ]
  },
  {
   "cell_type": "code",
   "execution_count": 43,
   "metadata": {},
   "outputs": [],
   "source": [
    "# reindex using device and date to faciliate device/time specific feature extraction"
   ]
  },
  {
   "cell_type": "code",
   "execution_count": 44,
   "metadata": {},
   "outputs": [],
   "source": [
    "df1 = df1.drop(['date2'], axis = 1)\n",
    "df1.sort_values(by=['device', 'date'])\n",
    "df1 = df1.set_index(['device', 'date'], drop = True)\n",
    "df1 = df1.sort_index(axis=0)"
   ]
  },
  {
   "cell_type": "code",
   "execution_count": 45,
   "metadata": {},
   "outputs": [
    {
     "data": {
      "text/html": [
       "<div>\n",
       "<style scoped>\n",
       "    .dataframe tbody tr th:only-of-type {\n",
       "        vertical-align: middle;\n",
       "    }\n",
       "\n",
       "    .dataframe tbody tr th {\n",
       "        vertical-align: top;\n",
       "    }\n",
       "\n",
       "    .dataframe thead th {\n",
       "        text-align: right;\n",
       "    }\n",
       "</style>\n",
       "<table border=\"1\" class=\"dataframe\">\n",
       "  <thead>\n",
       "    <tr style=\"text-align: right;\">\n",
       "      <th></th>\n",
       "      <th></th>\n",
       "      <th>failure</th>\n",
       "      <th>day_of_week</th>\n",
       "      <th>month_of_year</th>\n",
       "      <th>service_days</th>\n",
       "      <th>device_type</th>\n",
       "    </tr>\n",
       "    <tr>\n",
       "      <th>device</th>\n",
       "      <th>date</th>\n",
       "      <th></th>\n",
       "      <th></th>\n",
       "      <th></th>\n",
       "      <th></th>\n",
       "      <th></th>\n",
       "    </tr>\n",
       "  </thead>\n",
       "  <tbody>\n",
       "    <tr>\n",
       "      <th>S1F01085</th>\n",
       "      <th>2015-01-06</th>\n",
       "      <td>0</td>\n",
       "      <td>1</td>\n",
       "      <td>1</td>\n",
       "      <td>5</td>\n",
       "      <td>S1F</td>\n",
       "    </tr>\n",
       "    <tr>\n",
       "      <th>S1F013BB</th>\n",
       "      <th>2015-05-11</th>\n",
       "      <td>0</td>\n",
       "      <td>0</td>\n",
       "      <td>5</td>\n",
       "      <td>5</td>\n",
       "      <td>S1F</td>\n",
       "    </tr>\n",
       "    <tr>\n",
       "      <th>S1F0166B</th>\n",
       "      <th>2015-01-06</th>\n",
       "      <td>0</td>\n",
       "      <td>1</td>\n",
       "      <td>1</td>\n",
       "      <td>5</td>\n",
       "      <td>S1F</td>\n",
       "    </tr>\n",
       "    <tr>\n",
       "      <th>S1F01E6Y</th>\n",
       "      <th>2015-02-17</th>\n",
       "      <td>0</td>\n",
       "      <td>1</td>\n",
       "      <td>2</td>\n",
       "      <td>47</td>\n",
       "      <td>S1F</td>\n",
       "    </tr>\n",
       "    <tr>\n",
       "      <th>S1F01JE0</th>\n",
       "      <th>2015-01-06</th>\n",
       "      <td>0</td>\n",
       "      <td>1</td>\n",
       "      <td>1</td>\n",
       "      <td>5</td>\n",
       "      <td>S1F</td>\n",
       "    </tr>\n",
       "  </tbody>\n",
       "</table>\n",
       "</div>"
      ],
      "text/plain": [
       "                     failure  day_of_week  month_of_year  service_days  \\\n",
       "device   date                                                            \n",
       "S1F01085 2015-01-06        0            1              1             5   \n",
       "S1F013BB 2015-05-11        0            0              5             5   \n",
       "S1F0166B 2015-01-06        0            1              1             5   \n",
       "S1F01E6Y 2015-02-17        0            1              2            47   \n",
       "S1F01JE0 2015-01-06        0            1              1             5   \n",
       "\n",
       "                    device_type  \n",
       "device   date                    \n",
       "S1F01085 2015-01-06         S1F  \n",
       "S1F013BB 2015-05-11         S1F  \n",
       "S1F0166B 2015-01-06         S1F  \n",
       "S1F01E6Y 2015-02-17         S1F  \n",
       "S1F01JE0 2015-01-06         S1F  "
      ]
     },
     "execution_count": 45,
     "metadata": {},
     "output_type": "execute_result"
    }
   ],
   "source": [
    "df1_cut = df1.groupby(level=0).tail(1).dropna()\n",
    "df1_cut.head()"
   ]
  },
  {
   "cell_type": "code",
   "execution_count": null,
   "metadata": {},
   "outputs": [],
   "source": []
  },
  {
   "cell_type": "code",
   "execution_count": 46,
   "metadata": {},
   "outputs": [],
   "source": [
    "# construct sensor reading from previous day, previous 2 days, and previous 3 days as features"
   ]
  },
  {
   "cell_type": "code",
   "execution_count": 47,
   "metadata": {},
   "outputs": [],
   "source": [
    "df2 = df.copy()\n",
    "df2.sort_values(by=['device', 'date'])\n",
    "df2 = df2.set_index(['device', 'date'], drop = True)\n",
    "df2 = df2.sort_index(axis=0)"
   ]
  },
  {
   "cell_type": "code",
   "execution_count": 48,
   "metadata": {},
   "outputs": [],
   "source": [
    "df2.drop(['failure'], axis =1, inplace = True)\n",
    "df_pre1day = df2.groupby(level=0).shift(periods = 1, fill_value = np.NaN)\n",
    "df_pre2day = df2.groupby(level=0).shift(periods = 2, fill_value = np.NaN)\n",
    "df_pre3day = df2.groupby(level=0).shift(periods = 3, fill_value = np.NaN)"
   ]
  },
  {
   "cell_type": "code",
   "execution_count": 49,
   "metadata": {},
   "outputs": [
    {
     "data": {
      "text/html": [
       "<div>\n",
       "<style scoped>\n",
       "    .dataframe tbody tr th:only-of-type {\n",
       "        vertical-align: middle;\n",
       "    }\n",
       "\n",
       "    .dataframe tbody tr th {\n",
       "        vertical-align: top;\n",
       "    }\n",
       "\n",
       "    .dataframe thead th {\n",
       "        text-align: right;\n",
       "    }\n",
       "</style>\n",
       "<table border=\"1\" class=\"dataframe\">\n",
       "  <thead>\n",
       "    <tr style=\"text-align: right;\">\n",
       "      <th></th>\n",
       "      <th></th>\n",
       "      <th>att1_pre1day</th>\n",
       "      <th>att2_pre1day</th>\n",
       "      <th>att3_pre1day</th>\n",
       "      <th>att4_pre1day</th>\n",
       "      <th>att5_pre1day</th>\n",
       "      <th>att6_pre1day</th>\n",
       "      <th>att7_pre1day</th>\n",
       "      <th>att8_pre1day</th>\n",
       "    </tr>\n",
       "    <tr>\n",
       "      <th>device</th>\n",
       "      <th>date</th>\n",
       "      <th></th>\n",
       "      <th></th>\n",
       "      <th></th>\n",
       "      <th></th>\n",
       "      <th></th>\n",
       "      <th></th>\n",
       "      <th></th>\n",
       "      <th></th>\n",
       "    </tr>\n",
       "  </thead>\n",
       "  <tbody>\n",
       "    <tr>\n",
       "      <th rowspan=\"5\" valign=\"top\">S1F01085</th>\n",
       "      <th>2015-01-01</th>\n",
       "      <td>NaN</td>\n",
       "      <td>NaN</td>\n",
       "      <td>NaN</td>\n",
       "      <td>NaN</td>\n",
       "      <td>NaN</td>\n",
       "      <td>NaN</td>\n",
       "      <td>NaN</td>\n",
       "      <td>NaN</td>\n",
       "    </tr>\n",
       "    <tr>\n",
       "      <th>2015-01-02</th>\n",
       "      <td>215630672.0</td>\n",
       "      <td>56.0</td>\n",
       "      <td>0.0</td>\n",
       "      <td>52.0</td>\n",
       "      <td>6.0</td>\n",
       "      <td>407438.0</td>\n",
       "      <td>0.0</td>\n",
       "      <td>0.0</td>\n",
       "    </tr>\n",
       "    <tr>\n",
       "      <th>2015-01-03</th>\n",
       "      <td>1650864.0</td>\n",
       "      <td>56.0</td>\n",
       "      <td>0.0</td>\n",
       "      <td>52.0</td>\n",
       "      <td>6.0</td>\n",
       "      <td>407438.0</td>\n",
       "      <td>0.0</td>\n",
       "      <td>0.0</td>\n",
       "    </tr>\n",
       "    <tr>\n",
       "      <th>2015-01-04</th>\n",
       "      <td>124017368.0</td>\n",
       "      <td>56.0</td>\n",
       "      <td>0.0</td>\n",
       "      <td>52.0</td>\n",
       "      <td>6.0</td>\n",
       "      <td>407438.0</td>\n",
       "      <td>0.0</td>\n",
       "      <td>0.0</td>\n",
       "    </tr>\n",
       "    <tr>\n",
       "      <th>2015-01-05</th>\n",
       "      <td>128073224.0</td>\n",
       "      <td>56.0</td>\n",
       "      <td>0.0</td>\n",
       "      <td>52.0</td>\n",
       "      <td>6.0</td>\n",
       "      <td>407439.0</td>\n",
       "      <td>0.0</td>\n",
       "      <td>0.0</td>\n",
       "    </tr>\n",
       "  </tbody>\n",
       "</table>\n",
       "</div>"
      ],
      "text/plain": [
       "                     att1_pre1day  att2_pre1day  att3_pre1day  att4_pre1day  \\\n",
       "device   date                                                                 \n",
       "S1F01085 2015-01-01           NaN           NaN           NaN           NaN   \n",
       "         2015-01-02   215630672.0          56.0           0.0          52.0   \n",
       "         2015-01-03     1650864.0          56.0           0.0          52.0   \n",
       "         2015-01-04   124017368.0          56.0           0.0          52.0   \n",
       "         2015-01-05   128073224.0          56.0           0.0          52.0   \n",
       "\n",
       "                     att5_pre1day  att6_pre1day  att7_pre1day  att8_pre1day  \n",
       "device   date                                                                \n",
       "S1F01085 2015-01-01           NaN           NaN           NaN           NaN  \n",
       "         2015-01-02           6.0      407438.0           0.0           0.0  \n",
       "         2015-01-03           6.0      407438.0           0.0           0.0  \n",
       "         2015-01-04           6.0      407438.0           0.0           0.0  \n",
       "         2015-01-05           6.0      407439.0           0.0           0.0  "
      ]
     },
     "execution_count": 49,
     "metadata": {},
     "output_type": "execute_result"
    }
   ],
   "source": [
    "df_pre1day = df_pre1day.rename(columns = {'attribute1': 'att1_pre1day', 'attribute2': 'att2_pre1day', 'attribute3': 'att3_pre1day', 'attribute4': 'att4_pre1day', 'attribute5': 'att5_pre1day', 'attribute6': 'att6_pre1day', 'attribute7': 'att7_pre1day', 'attribute8': 'att8_pre1day'})\n",
    "df_pre1day.head()\n"
   ]
  },
  {
   "cell_type": "code",
   "execution_count": 50,
   "metadata": {},
   "outputs": [
    {
     "data": {
      "text/html": [
       "<div>\n",
       "<style scoped>\n",
       "    .dataframe tbody tr th:only-of-type {\n",
       "        vertical-align: middle;\n",
       "    }\n",
       "\n",
       "    .dataframe tbody tr th {\n",
       "        vertical-align: top;\n",
       "    }\n",
       "\n",
       "    .dataframe thead th {\n",
       "        text-align: right;\n",
       "    }\n",
       "</style>\n",
       "<table border=\"1\" class=\"dataframe\">\n",
       "  <thead>\n",
       "    <tr style=\"text-align: right;\">\n",
       "      <th></th>\n",
       "      <th></th>\n",
       "      <th>att1_pre2day</th>\n",
       "      <th>att2_pre2day</th>\n",
       "      <th>att3_pre2day</th>\n",
       "      <th>att4_pre2day</th>\n",
       "      <th>att5_pre2day</th>\n",
       "      <th>att6_pre2day</th>\n",
       "      <th>att7_pre2day</th>\n",
       "      <th>att8_pre2day</th>\n",
       "    </tr>\n",
       "    <tr>\n",
       "      <th>device</th>\n",
       "      <th>date</th>\n",
       "      <th></th>\n",
       "      <th></th>\n",
       "      <th></th>\n",
       "      <th></th>\n",
       "      <th></th>\n",
       "      <th></th>\n",
       "      <th></th>\n",
       "      <th></th>\n",
       "    </tr>\n",
       "  </thead>\n",
       "  <tbody>\n",
       "    <tr>\n",
       "      <th rowspan=\"5\" valign=\"top\">S1F01085</th>\n",
       "      <th>2015-01-01</th>\n",
       "      <td>NaN</td>\n",
       "      <td>NaN</td>\n",
       "      <td>NaN</td>\n",
       "      <td>NaN</td>\n",
       "      <td>NaN</td>\n",
       "      <td>NaN</td>\n",
       "      <td>NaN</td>\n",
       "      <td>NaN</td>\n",
       "    </tr>\n",
       "    <tr>\n",
       "      <th>2015-01-02</th>\n",
       "      <td>NaN</td>\n",
       "      <td>NaN</td>\n",
       "      <td>NaN</td>\n",
       "      <td>NaN</td>\n",
       "      <td>NaN</td>\n",
       "      <td>NaN</td>\n",
       "      <td>NaN</td>\n",
       "      <td>NaN</td>\n",
       "    </tr>\n",
       "    <tr>\n",
       "      <th>2015-01-03</th>\n",
       "      <td>215630672.0</td>\n",
       "      <td>56.0</td>\n",
       "      <td>0.0</td>\n",
       "      <td>52.0</td>\n",
       "      <td>6.0</td>\n",
       "      <td>407438.0</td>\n",
       "      <td>0.0</td>\n",
       "      <td>0.0</td>\n",
       "    </tr>\n",
       "    <tr>\n",
       "      <th>2015-01-04</th>\n",
       "      <td>1650864.0</td>\n",
       "      <td>56.0</td>\n",
       "      <td>0.0</td>\n",
       "      <td>52.0</td>\n",
       "      <td>6.0</td>\n",
       "      <td>407438.0</td>\n",
       "      <td>0.0</td>\n",
       "      <td>0.0</td>\n",
       "    </tr>\n",
       "    <tr>\n",
       "      <th>2015-01-05</th>\n",
       "      <td>124017368.0</td>\n",
       "      <td>56.0</td>\n",
       "      <td>0.0</td>\n",
       "      <td>52.0</td>\n",
       "      <td>6.0</td>\n",
       "      <td>407438.0</td>\n",
       "      <td>0.0</td>\n",
       "      <td>0.0</td>\n",
       "    </tr>\n",
       "  </tbody>\n",
       "</table>\n",
       "</div>"
      ],
      "text/plain": [
       "                     att1_pre2day  att2_pre2day  att3_pre2day  att4_pre2day  \\\n",
       "device   date                                                                 \n",
       "S1F01085 2015-01-01           NaN           NaN           NaN           NaN   \n",
       "         2015-01-02           NaN           NaN           NaN           NaN   \n",
       "         2015-01-03   215630672.0          56.0           0.0          52.0   \n",
       "         2015-01-04     1650864.0          56.0           0.0          52.0   \n",
       "         2015-01-05   124017368.0          56.0           0.0          52.0   \n",
       "\n",
       "                     att5_pre2day  att6_pre2day  att7_pre2day  att8_pre2day  \n",
       "device   date                                                                \n",
       "S1F01085 2015-01-01           NaN           NaN           NaN           NaN  \n",
       "         2015-01-02           NaN           NaN           NaN           NaN  \n",
       "         2015-01-03           6.0      407438.0           0.0           0.0  \n",
       "         2015-01-04           6.0      407438.0           0.0           0.0  \n",
       "         2015-01-05           6.0      407438.0           0.0           0.0  "
      ]
     },
     "execution_count": 50,
     "metadata": {},
     "output_type": "execute_result"
    }
   ],
   "source": [
    "df_pre2day = df_pre2day.rename(columns = {'attribute1': 'att1_pre2day', 'attribute2': 'att2_pre2day', 'attribute3': 'att3_pre2day', 'attribute4': 'att4_pre2day', 'attribute5': 'att5_pre2day', 'attribute6': 'att6_pre2day', 'attribute7': 'att7_pre2day', 'attribute8': 'att8_pre2day'})\n",
    "df_pre2day.head()\n"
   ]
  },
  {
   "cell_type": "code",
   "execution_count": 51,
   "metadata": {},
   "outputs": [
    {
     "data": {
      "text/html": [
       "<div>\n",
       "<style scoped>\n",
       "    .dataframe tbody tr th:only-of-type {\n",
       "        vertical-align: middle;\n",
       "    }\n",
       "\n",
       "    .dataframe tbody tr th {\n",
       "        vertical-align: top;\n",
       "    }\n",
       "\n",
       "    .dataframe thead th {\n",
       "        text-align: right;\n",
       "    }\n",
       "</style>\n",
       "<table border=\"1\" class=\"dataframe\">\n",
       "  <thead>\n",
       "    <tr style=\"text-align: right;\">\n",
       "      <th></th>\n",
       "      <th></th>\n",
       "      <th>att1_pre3day</th>\n",
       "      <th>att2_pre3day</th>\n",
       "      <th>att3_pre3day</th>\n",
       "      <th>att4_pre3day</th>\n",
       "      <th>att5_pre3day</th>\n",
       "      <th>att6_pre3day</th>\n",
       "      <th>att7_pre3day</th>\n",
       "      <th>att8_pre3day</th>\n",
       "    </tr>\n",
       "    <tr>\n",
       "      <th>device</th>\n",
       "      <th>date</th>\n",
       "      <th></th>\n",
       "      <th></th>\n",
       "      <th></th>\n",
       "      <th></th>\n",
       "      <th></th>\n",
       "      <th></th>\n",
       "      <th></th>\n",
       "      <th></th>\n",
       "    </tr>\n",
       "  </thead>\n",
       "  <tbody>\n",
       "    <tr>\n",
       "      <th rowspan=\"5\" valign=\"top\">S1F01085</th>\n",
       "      <th>2015-01-01</th>\n",
       "      <td>NaN</td>\n",
       "      <td>NaN</td>\n",
       "      <td>NaN</td>\n",
       "      <td>NaN</td>\n",
       "      <td>NaN</td>\n",
       "      <td>NaN</td>\n",
       "      <td>NaN</td>\n",
       "      <td>NaN</td>\n",
       "    </tr>\n",
       "    <tr>\n",
       "      <th>2015-01-02</th>\n",
       "      <td>NaN</td>\n",
       "      <td>NaN</td>\n",
       "      <td>NaN</td>\n",
       "      <td>NaN</td>\n",
       "      <td>NaN</td>\n",
       "      <td>NaN</td>\n",
       "      <td>NaN</td>\n",
       "      <td>NaN</td>\n",
       "    </tr>\n",
       "    <tr>\n",
       "      <th>2015-01-03</th>\n",
       "      <td>NaN</td>\n",
       "      <td>NaN</td>\n",
       "      <td>NaN</td>\n",
       "      <td>NaN</td>\n",
       "      <td>NaN</td>\n",
       "      <td>NaN</td>\n",
       "      <td>NaN</td>\n",
       "      <td>NaN</td>\n",
       "    </tr>\n",
       "    <tr>\n",
       "      <th>2015-01-04</th>\n",
       "      <td>215630672.0</td>\n",
       "      <td>56.0</td>\n",
       "      <td>0.0</td>\n",
       "      <td>52.0</td>\n",
       "      <td>6.0</td>\n",
       "      <td>407438.0</td>\n",
       "      <td>0.0</td>\n",
       "      <td>0.0</td>\n",
       "    </tr>\n",
       "    <tr>\n",
       "      <th>2015-01-05</th>\n",
       "      <td>1650864.0</td>\n",
       "      <td>56.0</td>\n",
       "      <td>0.0</td>\n",
       "      <td>52.0</td>\n",
       "      <td>6.0</td>\n",
       "      <td>407438.0</td>\n",
       "      <td>0.0</td>\n",
       "      <td>0.0</td>\n",
       "    </tr>\n",
       "  </tbody>\n",
       "</table>\n",
       "</div>"
      ],
      "text/plain": [
       "                     att1_pre3day  att2_pre3day  att3_pre3day  att4_pre3day  \\\n",
       "device   date                                                                 \n",
       "S1F01085 2015-01-01           NaN           NaN           NaN           NaN   \n",
       "         2015-01-02           NaN           NaN           NaN           NaN   \n",
       "         2015-01-03           NaN           NaN           NaN           NaN   \n",
       "         2015-01-04   215630672.0          56.0           0.0          52.0   \n",
       "         2015-01-05     1650864.0          56.0           0.0          52.0   \n",
       "\n",
       "                     att5_pre3day  att6_pre3day  att7_pre3day  att8_pre3day  \n",
       "device   date                                                                \n",
       "S1F01085 2015-01-01           NaN           NaN           NaN           NaN  \n",
       "         2015-01-02           NaN           NaN           NaN           NaN  \n",
       "         2015-01-03           NaN           NaN           NaN           NaN  \n",
       "         2015-01-04           6.0      407438.0           0.0           0.0  \n",
       "         2015-01-05           6.0      407438.0           0.0           0.0  "
      ]
     },
     "execution_count": 51,
     "metadata": {},
     "output_type": "execute_result"
    }
   ],
   "source": [
    "df_pre3day = df_pre3day.rename(columns = {'attribute1': 'att1_pre3day', 'attribute2': 'att2_pre3day', 'attribute3': 'att3_pre3day', 'attribute4': 'att4_pre3day', 'attribute5': 'att5_pre3day', 'attribute6': 'att6_pre3day', 'attribute7': 'att7_pre3day', 'attribute8': 'att8_pre3day'})\n",
    "df_pre3day.head()\n"
   ]
  },
  {
   "cell_type": "code",
   "execution_count": 52,
   "metadata": {},
   "outputs": [
    {
     "data": {
      "text/html": [
       "<div>\n",
       "<style scoped>\n",
       "    .dataframe tbody tr th:only-of-type {\n",
       "        vertical-align: middle;\n",
       "    }\n",
       "\n",
       "    .dataframe tbody tr th {\n",
       "        vertical-align: top;\n",
       "    }\n",
       "\n",
       "    .dataframe thead th {\n",
       "        text-align: right;\n",
       "    }\n",
       "</style>\n",
       "<table border=\"1\" class=\"dataframe\">\n",
       "  <thead>\n",
       "    <tr style=\"text-align: right;\">\n",
       "      <th></th>\n",
       "      <th></th>\n",
       "      <th>att1_pre1day</th>\n",
       "      <th>att2_pre1day</th>\n",
       "      <th>att3_pre1day</th>\n",
       "      <th>att4_pre1day</th>\n",
       "      <th>att5_pre1day</th>\n",
       "      <th>att6_pre1day</th>\n",
       "      <th>att7_pre1day</th>\n",
       "      <th>att8_pre1day</th>\n",
       "      <th>att1_pre2day</th>\n",
       "      <th>att2_pre2day</th>\n",
       "      <th>...</th>\n",
       "      <th>att7_pre2day</th>\n",
       "      <th>att8_pre2day</th>\n",
       "      <th>att1_pre3day</th>\n",
       "      <th>att2_pre3day</th>\n",
       "      <th>att3_pre3day</th>\n",
       "      <th>att4_pre3day</th>\n",
       "      <th>att5_pre3day</th>\n",
       "      <th>att6_pre3day</th>\n",
       "      <th>att7_pre3day</th>\n",
       "      <th>att8_pre3day</th>\n",
       "    </tr>\n",
       "    <tr>\n",
       "      <th>device</th>\n",
       "      <th>date</th>\n",
       "      <th></th>\n",
       "      <th></th>\n",
       "      <th></th>\n",
       "      <th></th>\n",
       "      <th></th>\n",
       "      <th></th>\n",
       "      <th></th>\n",
       "      <th></th>\n",
       "      <th></th>\n",
       "      <th></th>\n",
       "      <th></th>\n",
       "      <th></th>\n",
       "      <th></th>\n",
       "      <th></th>\n",
       "      <th></th>\n",
       "      <th></th>\n",
       "      <th></th>\n",
       "      <th></th>\n",
       "      <th></th>\n",
       "      <th></th>\n",
       "      <th></th>\n",
       "    </tr>\n",
       "  </thead>\n",
       "  <tbody>\n",
       "    <tr>\n",
       "      <th>S1F01085</th>\n",
       "      <th>2015-01-06</th>\n",
       "      <td>97393448.0</td>\n",
       "      <td>56.0</td>\n",
       "      <td>0.0</td>\n",
       "      <td>52.0</td>\n",
       "      <td>6.0</td>\n",
       "      <td>408114.0</td>\n",
       "      <td>0.0</td>\n",
       "      <td>0.0</td>\n",
       "      <td>128073224.0</td>\n",
       "      <td>56.0</td>\n",
       "      <td>...</td>\n",
       "      <td>0.0</td>\n",
       "      <td>0.0</td>\n",
       "      <td>124017368.0</td>\n",
       "      <td>56.0</td>\n",
       "      <td>0.0</td>\n",
       "      <td>52.0</td>\n",
       "      <td>6.0</td>\n",
       "      <td>407438.0</td>\n",
       "      <td>0.0</td>\n",
       "      <td>0.0</td>\n",
       "    </tr>\n",
       "    <tr>\n",
       "      <th>S1F013BB</th>\n",
       "      <th>2015-05-11</th>\n",
       "      <td>85127128.0</td>\n",
       "      <td>0.0</td>\n",
       "      <td>0.0</td>\n",
       "      <td>0.0</td>\n",
       "      <td>5.0</td>\n",
       "      <td>689062.0</td>\n",
       "      <td>0.0</td>\n",
       "      <td>0.0</td>\n",
       "      <td>243346080.0</td>\n",
       "      <td>0.0</td>\n",
       "      <td>...</td>\n",
       "      <td>0.0</td>\n",
       "      <td>0.0</td>\n",
       "      <td>214383720.0</td>\n",
       "      <td>0.0</td>\n",
       "      <td>0.0</td>\n",
       "      <td>0.0</td>\n",
       "      <td>5.0</td>\n",
       "      <td>688964.0</td>\n",
       "      <td>0.0</td>\n",
       "      <td>0.0</td>\n",
       "    </tr>\n",
       "    <tr>\n",
       "      <th>S1F0166B</th>\n",
       "      <th>2015-01-06</th>\n",
       "      <td>224339296.0</td>\n",
       "      <td>0.0</td>\n",
       "      <td>3.0</td>\n",
       "      <td>0.0</td>\n",
       "      <td>6.0</td>\n",
       "      <td>403812.0</td>\n",
       "      <td>0.0</td>\n",
       "      <td>0.0</td>\n",
       "      <td>82195688.0</td>\n",
       "      <td>0.0</td>\n",
       "      <td>...</td>\n",
       "      <td>0.0</td>\n",
       "      <td>0.0</td>\n",
       "      <td>77681360.0</td>\n",
       "      <td>0.0</td>\n",
       "      <td>3.0</td>\n",
       "      <td>0.0</td>\n",
       "      <td>6.0</td>\n",
       "      <td>403174.0</td>\n",
       "      <td>0.0</td>\n",
       "      <td>0.0</td>\n",
       "    </tr>\n",
       "    <tr>\n",
       "      <th>S1F01E6Y</th>\n",
       "      <th>2015-02-17</th>\n",
       "      <td>182876688.0</td>\n",
       "      <td>0.0</td>\n",
       "      <td>0.0</td>\n",
       "      <td>0.0</td>\n",
       "      <td>12.0</td>\n",
       "      <td>259486.0</td>\n",
       "      <td>0.0</td>\n",
       "      <td>0.0</td>\n",
       "      <td>227370128.0</td>\n",
       "      <td>0.0</td>\n",
       "      <td>...</td>\n",
       "      <td>0.0</td>\n",
       "      <td>0.0</td>\n",
       "      <td>83214688.0</td>\n",
       "      <td>0.0</td>\n",
       "      <td>0.0</td>\n",
       "      <td>0.0</td>\n",
       "      <td>12.0</td>\n",
       "      <td>259468.0</td>\n",
       "      <td>0.0</td>\n",
       "      <td>0.0</td>\n",
       "    </tr>\n",
       "    <tr>\n",
       "      <th>S1F01JE0</th>\n",
       "      <th>2015-01-06</th>\n",
       "      <td>158246712.0</td>\n",
       "      <td>0.0</td>\n",
       "      <td>0.0</td>\n",
       "      <td>0.0</td>\n",
       "      <td>6.0</td>\n",
       "      <td>410888.0</td>\n",
       "      <td>0.0</td>\n",
       "      <td>0.0</td>\n",
       "      <td>235473648.0</td>\n",
       "      <td>0.0</td>\n",
       "      <td>...</td>\n",
       "      <td>0.0</td>\n",
       "      <td>0.0</td>\n",
       "      <td>235562856.0</td>\n",
       "      <td>0.0</td>\n",
       "      <td>0.0</td>\n",
       "      <td>0.0</td>\n",
       "      <td>6.0</td>\n",
       "      <td>410186.0</td>\n",
       "      <td>0.0</td>\n",
       "      <td>0.0</td>\n",
       "    </tr>\n",
       "  </tbody>\n",
       "</table>\n",
       "<p>5 rows × 24 columns</p>\n",
       "</div>"
      ],
      "text/plain": [
       "                     att1_pre1day  att2_pre1day  att3_pre1day  att4_pre1day  \\\n",
       "device   date                                                                 \n",
       "S1F01085 2015-01-06    97393448.0          56.0           0.0          52.0   \n",
       "S1F013BB 2015-05-11    85127128.0           0.0           0.0           0.0   \n",
       "S1F0166B 2015-01-06   224339296.0           0.0           3.0           0.0   \n",
       "S1F01E6Y 2015-02-17   182876688.0           0.0           0.0           0.0   \n",
       "S1F01JE0 2015-01-06   158246712.0           0.0           0.0           0.0   \n",
       "\n",
       "                     att5_pre1day  att6_pre1day  att7_pre1day  att8_pre1day  \\\n",
       "device   date                                                                 \n",
       "S1F01085 2015-01-06           6.0      408114.0           0.0           0.0   \n",
       "S1F013BB 2015-05-11           5.0      689062.0           0.0           0.0   \n",
       "S1F0166B 2015-01-06           6.0      403812.0           0.0           0.0   \n",
       "S1F01E6Y 2015-02-17          12.0      259486.0           0.0           0.0   \n",
       "S1F01JE0 2015-01-06           6.0      410888.0           0.0           0.0   \n",
       "\n",
       "                     att1_pre2day  att2_pre2day  ...  att7_pre2day  \\\n",
       "device   date                                    ...                 \n",
       "S1F01085 2015-01-06   128073224.0          56.0  ...           0.0   \n",
       "S1F013BB 2015-05-11   243346080.0           0.0  ...           0.0   \n",
       "S1F0166B 2015-01-06    82195688.0           0.0  ...           0.0   \n",
       "S1F01E6Y 2015-02-17   227370128.0           0.0  ...           0.0   \n",
       "S1F01JE0 2015-01-06   235473648.0           0.0  ...           0.0   \n",
       "\n",
       "                     att8_pre2day  att1_pre3day  att2_pre3day  att3_pre3day  \\\n",
       "device   date                                                                 \n",
       "S1F01085 2015-01-06           0.0   124017368.0          56.0           0.0   \n",
       "S1F013BB 2015-05-11           0.0   214383720.0           0.0           0.0   \n",
       "S1F0166B 2015-01-06           0.0    77681360.0           0.0           3.0   \n",
       "S1F01E6Y 2015-02-17           0.0    83214688.0           0.0           0.0   \n",
       "S1F01JE0 2015-01-06           0.0   235562856.0           0.0           0.0   \n",
       "\n",
       "                     att4_pre3day  att5_pre3day  att6_pre3day  att7_pre3day  \\\n",
       "device   date                                                                 \n",
       "S1F01085 2015-01-06          52.0           6.0      407438.0           0.0   \n",
       "S1F013BB 2015-05-11           0.0           5.0      688964.0           0.0   \n",
       "S1F0166B 2015-01-06           0.0           6.0      403174.0           0.0   \n",
       "S1F01E6Y 2015-02-17           0.0          12.0      259468.0           0.0   \n",
       "S1F01JE0 2015-01-06           0.0           6.0      410186.0           0.0   \n",
       "\n",
       "                     att8_pre3day  \n",
       "device   date                      \n",
       "S1F01085 2015-01-06           0.0  \n",
       "S1F013BB 2015-05-11           0.0  \n",
       "S1F0166B 2015-01-06           0.0  \n",
       "S1F01E6Y 2015-02-17           0.0  \n",
       "S1F01JE0 2015-01-06           0.0  \n",
       "\n",
       "[5 rows x 24 columns]"
      ]
     },
     "execution_count": 52,
     "metadata": {},
     "output_type": "execute_result"
    }
   ],
   "source": [
    "# merge sensor reading of all 8 attributes, from previous 1 day to 3 days. \n",
    "\n",
    "df2_total_cut = pd.concat([df_pre1day, df_pre2day, df_pre3day], axis = 1).dropna().groupby(level = 0).tail(1).dropna()\n",
    "df2_total_cut.head()\n"
   ]
  },
  {
   "cell_type": "code",
   "execution_count": null,
   "metadata": {},
   "outputs": [],
   "source": []
  },
  {
   "cell_type": "code",
   "execution_count": 53,
   "metadata": {},
   "outputs": [
    {
     "data": {
      "text/html": [
       "<div>\n",
       "<style scoped>\n",
       "    .dataframe tbody tr th:only-of-type {\n",
       "        vertical-align: middle;\n",
       "    }\n",
       "\n",
       "    .dataframe tbody tr th {\n",
       "        vertical-align: top;\n",
       "    }\n",
       "\n",
       "    .dataframe thead th {\n",
       "        text-align: right;\n",
       "    }\n",
       "</style>\n",
       "<table border=\"1\" class=\"dataframe\">\n",
       "  <thead>\n",
       "    <tr style=\"text-align: right;\">\n",
       "      <th></th>\n",
       "      <th></th>\n",
       "      <th>failure</th>\n",
       "      <th>day_of_week</th>\n",
       "      <th>month_of_year</th>\n",
       "      <th>service_days</th>\n",
       "      <th>device_type</th>\n",
       "      <th>att1_pre1day</th>\n",
       "      <th>att2_pre1day</th>\n",
       "      <th>att3_pre1day</th>\n",
       "      <th>att4_pre1day</th>\n",
       "      <th>att5_pre1day</th>\n",
       "      <th>...</th>\n",
       "      <th>att7_pre2day</th>\n",
       "      <th>att8_pre2day</th>\n",
       "      <th>att1_pre3day</th>\n",
       "      <th>att2_pre3day</th>\n",
       "      <th>att3_pre3day</th>\n",
       "      <th>att4_pre3day</th>\n",
       "      <th>att5_pre3day</th>\n",
       "      <th>att6_pre3day</th>\n",
       "      <th>att7_pre3day</th>\n",
       "      <th>att8_pre3day</th>\n",
       "    </tr>\n",
       "    <tr>\n",
       "      <th>device</th>\n",
       "      <th>date</th>\n",
       "      <th></th>\n",
       "      <th></th>\n",
       "      <th></th>\n",
       "      <th></th>\n",
       "      <th></th>\n",
       "      <th></th>\n",
       "      <th></th>\n",
       "      <th></th>\n",
       "      <th></th>\n",
       "      <th></th>\n",
       "      <th></th>\n",
       "      <th></th>\n",
       "      <th></th>\n",
       "      <th></th>\n",
       "      <th></th>\n",
       "      <th></th>\n",
       "      <th></th>\n",
       "      <th></th>\n",
       "      <th></th>\n",
       "      <th></th>\n",
       "      <th></th>\n",
       "    </tr>\n",
       "  </thead>\n",
       "  <tbody>\n",
       "    <tr>\n",
       "      <th>S1F01085</th>\n",
       "      <th>2015-01-06</th>\n",
       "      <td>0</td>\n",
       "      <td>1</td>\n",
       "      <td>1</td>\n",
       "      <td>5</td>\n",
       "      <td>S1F</td>\n",
       "      <td>97393448.0</td>\n",
       "      <td>56.0</td>\n",
       "      <td>0.0</td>\n",
       "      <td>52.0</td>\n",
       "      <td>6.0</td>\n",
       "      <td>...</td>\n",
       "      <td>0.0</td>\n",
       "      <td>0.0</td>\n",
       "      <td>124017368.0</td>\n",
       "      <td>56.0</td>\n",
       "      <td>0.0</td>\n",
       "      <td>52.0</td>\n",
       "      <td>6.0</td>\n",
       "      <td>407438.0</td>\n",
       "      <td>0.0</td>\n",
       "      <td>0.0</td>\n",
       "    </tr>\n",
       "    <tr>\n",
       "      <th>S1F013BB</th>\n",
       "      <th>2015-05-11</th>\n",
       "      <td>0</td>\n",
       "      <td>0</td>\n",
       "      <td>5</td>\n",
       "      <td>5</td>\n",
       "      <td>S1F</td>\n",
       "      <td>85127128.0</td>\n",
       "      <td>0.0</td>\n",
       "      <td>0.0</td>\n",
       "      <td>0.0</td>\n",
       "      <td>5.0</td>\n",
       "      <td>...</td>\n",
       "      <td>0.0</td>\n",
       "      <td>0.0</td>\n",
       "      <td>214383720.0</td>\n",
       "      <td>0.0</td>\n",
       "      <td>0.0</td>\n",
       "      <td>0.0</td>\n",
       "      <td>5.0</td>\n",
       "      <td>688964.0</td>\n",
       "      <td>0.0</td>\n",
       "      <td>0.0</td>\n",
       "    </tr>\n",
       "    <tr>\n",
       "      <th>S1F0166B</th>\n",
       "      <th>2015-01-06</th>\n",
       "      <td>0</td>\n",
       "      <td>1</td>\n",
       "      <td>1</td>\n",
       "      <td>5</td>\n",
       "      <td>S1F</td>\n",
       "      <td>224339296.0</td>\n",
       "      <td>0.0</td>\n",
       "      <td>3.0</td>\n",
       "      <td>0.0</td>\n",
       "      <td>6.0</td>\n",
       "      <td>...</td>\n",
       "      <td>0.0</td>\n",
       "      <td>0.0</td>\n",
       "      <td>77681360.0</td>\n",
       "      <td>0.0</td>\n",
       "      <td>3.0</td>\n",
       "      <td>0.0</td>\n",
       "      <td>6.0</td>\n",
       "      <td>403174.0</td>\n",
       "      <td>0.0</td>\n",
       "      <td>0.0</td>\n",
       "    </tr>\n",
       "    <tr>\n",
       "      <th>S1F01E6Y</th>\n",
       "      <th>2015-02-17</th>\n",
       "      <td>0</td>\n",
       "      <td>1</td>\n",
       "      <td>2</td>\n",
       "      <td>47</td>\n",
       "      <td>S1F</td>\n",
       "      <td>182876688.0</td>\n",
       "      <td>0.0</td>\n",
       "      <td>0.0</td>\n",
       "      <td>0.0</td>\n",
       "      <td>12.0</td>\n",
       "      <td>...</td>\n",
       "      <td>0.0</td>\n",
       "      <td>0.0</td>\n",
       "      <td>83214688.0</td>\n",
       "      <td>0.0</td>\n",
       "      <td>0.0</td>\n",
       "      <td>0.0</td>\n",
       "      <td>12.0</td>\n",
       "      <td>259468.0</td>\n",
       "      <td>0.0</td>\n",
       "      <td>0.0</td>\n",
       "    </tr>\n",
       "    <tr>\n",
       "      <th>S1F01JE0</th>\n",
       "      <th>2015-01-06</th>\n",
       "      <td>0</td>\n",
       "      <td>1</td>\n",
       "      <td>1</td>\n",
       "      <td>5</td>\n",
       "      <td>S1F</td>\n",
       "      <td>158246712.0</td>\n",
       "      <td>0.0</td>\n",
       "      <td>0.0</td>\n",
       "      <td>0.0</td>\n",
       "      <td>6.0</td>\n",
       "      <td>...</td>\n",
       "      <td>0.0</td>\n",
       "      <td>0.0</td>\n",
       "      <td>235562856.0</td>\n",
       "      <td>0.0</td>\n",
       "      <td>0.0</td>\n",
       "      <td>0.0</td>\n",
       "      <td>6.0</td>\n",
       "      <td>410186.0</td>\n",
       "      <td>0.0</td>\n",
       "      <td>0.0</td>\n",
       "    </tr>\n",
       "  </tbody>\n",
       "</table>\n",
       "<p>5 rows × 29 columns</p>\n",
       "</div>"
      ],
      "text/plain": [
       "                     failure  day_of_week  month_of_year  service_days  \\\n",
       "device   date                                                            \n",
       "S1F01085 2015-01-06        0            1              1             5   \n",
       "S1F013BB 2015-05-11        0            0              5             5   \n",
       "S1F0166B 2015-01-06        0            1              1             5   \n",
       "S1F01E6Y 2015-02-17        0            1              2            47   \n",
       "S1F01JE0 2015-01-06        0            1              1             5   \n",
       "\n",
       "                    device_type  att1_pre1day  att2_pre1day  att3_pre1day  \\\n",
       "device   date                                                               \n",
       "S1F01085 2015-01-06         S1F    97393448.0          56.0           0.0   \n",
       "S1F013BB 2015-05-11         S1F    85127128.0           0.0           0.0   \n",
       "S1F0166B 2015-01-06         S1F   224339296.0           0.0           3.0   \n",
       "S1F01E6Y 2015-02-17         S1F   182876688.0           0.0           0.0   \n",
       "S1F01JE0 2015-01-06         S1F   158246712.0           0.0           0.0   \n",
       "\n",
       "                     att4_pre1day  att5_pre1day  ...  att7_pre2day  \\\n",
       "device   date                                    ...                 \n",
       "S1F01085 2015-01-06          52.0           6.0  ...           0.0   \n",
       "S1F013BB 2015-05-11           0.0           5.0  ...           0.0   \n",
       "S1F0166B 2015-01-06           0.0           6.0  ...           0.0   \n",
       "S1F01E6Y 2015-02-17           0.0          12.0  ...           0.0   \n",
       "S1F01JE0 2015-01-06           0.0           6.0  ...           0.0   \n",
       "\n",
       "                     att8_pre2day  att1_pre3day  att2_pre3day  att3_pre3day  \\\n",
       "device   date                                                                 \n",
       "S1F01085 2015-01-06           0.0   124017368.0          56.0           0.0   \n",
       "S1F013BB 2015-05-11           0.0   214383720.0           0.0           0.0   \n",
       "S1F0166B 2015-01-06           0.0    77681360.0           0.0           3.0   \n",
       "S1F01E6Y 2015-02-17           0.0    83214688.0           0.0           0.0   \n",
       "S1F01JE0 2015-01-06           0.0   235562856.0           0.0           0.0   \n",
       "\n",
       "                     att4_pre3day  att5_pre3day  att6_pre3day  att7_pre3day  \\\n",
       "device   date                                                                 \n",
       "S1F01085 2015-01-06          52.0           6.0      407438.0           0.0   \n",
       "S1F013BB 2015-05-11           0.0           5.0      688964.0           0.0   \n",
       "S1F0166B 2015-01-06           0.0           6.0      403174.0           0.0   \n",
       "S1F01E6Y 2015-02-17           0.0          12.0      259468.0           0.0   \n",
       "S1F01JE0 2015-01-06           0.0           6.0      410186.0           0.0   \n",
       "\n",
       "                     att8_pre3day  \n",
       "device   date                      \n",
       "S1F01085 2015-01-06           0.0  \n",
       "S1F013BB 2015-05-11           0.0  \n",
       "S1F0166B 2015-01-06           0.0  \n",
       "S1F01E6Y 2015-02-17           0.0  \n",
       "S1F01JE0 2015-01-06           0.0  \n",
       "\n",
       "[5 rows x 29 columns]"
      ]
     },
     "execution_count": 53,
     "metadata": {},
     "output_type": "execute_result"
    }
   ],
   "source": [
    "# merge all features\n",
    "\n",
    "df_w = pd.merge(left = df1_cut, left_index = True, right = df2_total_cut, right_index = True, how = 'inner')\n",
    "df_w.head()\n"
   ]
  },
  {
   "cell_type": "code",
   "execution_count": null,
   "metadata": {},
   "outputs": [],
   "source": []
  },
  {
   "cell_type": "code",
   "execution_count": 54,
   "metadata": {},
   "outputs": [],
   "source": [
    "# assemble categorical features (aka dummy coding variables)"
   ]
  },
  {
   "cell_type": "code",
   "execution_count": 55,
   "metadata": {},
   "outputs": [
    {
     "data": {
      "text/plain": [
       "dfw_1    2\n",
       "dfw_2    2\n",
       "dfw_3    2\n",
       "dfw_4    2\n",
       "dfw_5    2\n",
       "dfw_6    2\n",
       "dtype: int64"
      ]
     },
     "execution_count": 55,
     "metadata": {},
     "output_type": "execute_result"
    }
   ],
   "source": [
    "# dummy coding day of week\n",
    "\n",
    "day_of_week = pd.get_dummies(df_w['day_of_week'], prefix = 'dfw', drop_first = True)\n",
    "day_of_week.nunique()"
   ]
  },
  {
   "cell_type": "code",
   "execution_count": 56,
   "metadata": {},
   "outputs": [
    {
     "data": {
      "text/plain": [
       "mfy_2     2\n",
       "mfy_3     2\n",
       "mfy_4     2\n",
       "mfy_5     2\n",
       "mfy_6     2\n",
       "mfy_7     2\n",
       "mfy_8     2\n",
       "mfy_9     2\n",
       "mfy_10    2\n",
       "mfy_11    2\n",
       "dtype: int64"
      ]
     },
     "execution_count": 56,
     "metadata": {},
     "output_type": "execute_result"
    }
   ],
   "source": [
    "# dummy coding month of year\n",
    "\n",
    "month_of_year = pd.get_dummies(df_w['month_of_year'], prefix = 'mfy', drop_first = True)\n",
    "month_of_year.nunique()"
   ]
  },
  {
   "cell_type": "code",
   "execution_count": 57,
   "metadata": {},
   "outputs": [
    {
     "data": {
      "text/plain": [
       "device_W1F    2\n",
       "device_Z1F    2\n",
       "dtype: int64"
      ]
     },
     "execution_count": 57,
     "metadata": {},
     "output_type": "execute_result"
    }
   ],
   "source": [
    "# dummy coding device type\n",
    "\n",
    "device_type = pd.get_dummies(df_w['device_type'], prefix = 'device', drop_first = True)\n",
    "device_type.nunique()"
   ]
  },
  {
   "cell_type": "code",
   "execution_count": 58,
   "metadata": {},
   "outputs": [
    {
     "data": {
      "text/plain": [
       "(1167, 18)"
      ]
     },
     "execution_count": 58,
     "metadata": {},
     "output_type": "execute_result"
    }
   ],
   "source": [
    "categorical_columns = pd.concat([day_of_week, month_of_year, device_type], axis = 1)\n",
    "categorical_columns.shape"
   ]
  },
  {
   "cell_type": "code",
   "execution_count": 59,
   "metadata": {},
   "outputs": [],
   "source": [
    "# assemble numerical features"
   ]
  },
  {
   "cell_type": "code",
   "execution_count": 60,
   "metadata": {},
   "outputs": [
    {
     "name": "stdout",
     "output_type": "stream",
     "text": [
      "['service_days', 'att1_pre1day', 'att2_pre1day', 'att3_pre1day', 'att4_pre1day', 'att5_pre1day', 'att6_pre1day', 'att7_pre1day', 'att8_pre1day', 'att1_pre2day', 'att2_pre2day', 'att3_pre2day', 'att4_pre2day', 'att5_pre2day', 'att6_pre2day', 'att7_pre2day', 'att8_pre2day', 'att1_pre3day', 'att2_pre3day', 'att3_pre3day', 'att4_pre3day', 'att5_pre3day', 'att6_pre3day', 'att7_pre3day', 'att8_pre3day']\n"
     ]
    }
   ],
   "source": [
    "numerical_features = (df_w.columns[3:4]).append(df_w.columns[5:]).tolist()\n",
    "print(numerical_features)"
   ]
  },
  {
   "cell_type": "code",
   "execution_count": 61,
   "metadata": {},
   "outputs": [
    {
     "data": {
      "text/plain": [
       "(1167, 25)"
      ]
     },
     "execution_count": 61,
     "metadata": {},
     "output_type": "execute_result"
    }
   ],
   "source": [
    "numerical_columns = df_w[numerical_features]\n",
    "numerical_columns.shape"
   ]
  },
  {
   "cell_type": "code",
   "execution_count": 62,
   "metadata": {},
   "outputs": [
    {
     "data": {
      "text/plain": [
       "(1167, 1)"
      ]
     },
     "execution_count": 62,
     "metadata": {},
     "output_type": "execute_result"
    }
   ],
   "source": [
    "# identify label \n",
    "\n",
    "label = df_w[['failure']]\n",
    "label.shape"
   ]
  },
  {
   "cell_type": "code",
   "execution_count": 63,
   "metadata": {},
   "outputs": [
    {
     "data": {
      "text/plain": [
       "(1167, 44)"
      ]
     },
     "execution_count": 63,
     "metadata": {},
     "output_type": "execute_result"
    }
   ],
   "source": [
    "# create working dataset for analysis\n",
    "\n",
    "import pandas as pd\n",
    "\n",
    "df = pd.concat([categorical_columns, numerical_columns, label], axis=1)\n",
    "df.shape"
   ]
  },
  {
   "cell_type": "code",
   "execution_count": 64,
   "metadata": {},
   "outputs": [],
   "source": [
    "# enforicng numerical datatype so it works with scikit-learn \n",
    "\n",
    "df = df.astype(float)"
   ]
  },
  {
   "cell_type": "code",
   "execution_count": 65,
   "metadata": {},
   "outputs": [
    {
     "data": {
      "text/plain": [
       "(1167, 44)"
      ]
     },
     "execution_count": 65,
     "metadata": {},
     "output_type": "execute_result"
    }
   ],
   "source": [
    "df.shape"
   ]
  },
  {
   "cell_type": "code",
   "execution_count": 66,
   "metadata": {},
   "outputs": [
    {
     "data": {
      "text/plain": [
       "Index(['dfw_1', 'dfw_2', 'dfw_3', 'dfw_4', 'dfw_5', 'dfw_6', 'mfy_2', 'mfy_3',\n",
       "       'mfy_4', 'mfy_5', 'mfy_6', 'mfy_7', 'mfy_8', 'mfy_9', 'mfy_10',\n",
       "       'mfy_11', 'device_W1F', 'device_Z1F', 'service_days', 'att1_pre1day',\n",
       "       'att2_pre1day', 'att3_pre1day', 'att4_pre1day', 'att5_pre1day',\n",
       "       'att6_pre1day', 'att7_pre1day', 'att8_pre1day', 'att1_pre2day',\n",
       "       'att2_pre2day', 'att3_pre2day', 'att4_pre2day', 'att5_pre2day',\n",
       "       'att6_pre2day', 'att7_pre2day', 'att8_pre2day', 'att1_pre3day',\n",
       "       'att2_pre3day', 'att3_pre3day', 'att4_pre3day', 'att5_pre3day',\n",
       "       'att6_pre3day', 'att7_pre3day', 'att8_pre3day', 'failure'],\n",
       "      dtype='object')"
      ]
     },
     "execution_count": 66,
     "metadata": {},
     "output_type": "execute_result"
    }
   ],
   "source": [
    "df.columns"
   ]
  },
  {
   "cell_type": "markdown",
   "metadata": {},
   "source": [
    "## 3. Model Validation Setup\n",
    "\n",
    "- We purposely set aside 20% of data as hold-out. We reserve this pool to validate our model performance. \n",
    "- We use stratified sampling so for each fold of parameter estimation, keeping percentage of non-failure vs. failure classes more less fixed. \n",
    "- We also fix random seeding so results are reproducible. "
   ]
  },
  {
   "cell_type": "code",
   "execution_count": 67,
   "metadata": {},
   "outputs": [],
   "source": [
    "#Splitting validation dataset\n",
    "\n",
    "X = df.drop(['failure'], axis = 1).values \n",
    "Y = df['failure'].values\n",
    "\n",
    "validation_size = 0.20 \n",
    "seed = 7 \n",
    "np.random.seed(7)\n",
    "\n",
    "from sklearn.model_selection import train_test_split\n",
    "X_train, X_validation, Y_train, Y_validation = train_test_split(X, Y, \n",
    "                                                                test_size=validation_size, \n",
    "                                                                random_state=seed, \n",
    "                                                                stratify=Y)"
   ]
  },
  {
   "cell_type": "code",
   "execution_count": 68,
   "metadata": {},
   "outputs": [
    {
     "name": "stdout",
     "output_type": "stream",
     "text": [
      "(1167, 43)\n",
      "(1167,)\n"
     ]
    }
   ],
   "source": [
    "print(X.shape)\n",
    "print(Y.shape)"
   ]
  },
  {
   "cell_type": "code",
   "execution_count": 69,
   "metadata": {},
   "outputs": [
    {
     "name": "stdout",
     "output_type": "stream",
     "text": [
      "(933, 43)\n",
      "(933,)\n"
     ]
    }
   ],
   "source": [
    "print(X_train.shape)\n",
    "print(Y_train.shape)"
   ]
  },
  {
   "cell_type": "code",
   "execution_count": 70,
   "metadata": {},
   "outputs": [
    {
     "name": "stdout",
     "output_type": "stream",
     "text": [
      "(234, 43)\n",
      "(234,)\n"
     ]
    }
   ],
   "source": [
    "print(X_validation.shape)\n",
    "print(Y_validation.shape)"
   ]
  },
  {
   "cell_type": "code",
   "execution_count": 71,
   "metadata": {},
   "outputs": [
    {
     "data": {
      "text/plain": [
       "0.0    852\n",
       "1.0     81\n",
       "dtype: int64"
      ]
     },
     "execution_count": 71,
     "metadata": {},
     "output_type": "execute_result"
    }
   ],
   "source": [
    "pd.Series(Y_train).value_counts()"
   ]
  },
  {
   "cell_type": "code",
   "execution_count": null,
   "metadata": {},
   "outputs": [],
   "source": []
  },
  {
   "cell_type": "markdown",
   "metadata": {},
   "source": [
    "## 4. Resampling Training Data\n",
    "\n",
    "- With the training dataset (80% of the whole), we over-sample minority class (failure instance) to address the challenge of imbalnced dataset. Numerically the training dataset has 933 cases, of which 852 are no failure, and 81 are failure cases. After resampling, the training dataset has equal number of 848 no failure and 848 failure cases. The size of the augmented trainig dataset increases from 1,167 to 1,704. \n",
    "- With resampling algorithms, we have few options, ranging from over-sampling of the minority class, under-sampling of the majority class, to ensemble of combining both variants. For intial iteration, we keep model simple per principle of Occam's razor. We'll phase in more complex resampling scheme should initial models fail to yield satisfactory result. \n",
    "- Notice we do not need to resample the validation dataset. Ultimatley our model needs to correctly classify cases in the validation dataset as is. Numerically we need to correctly (or as many as possible) pick out the 20 cases that are actual failure cases, from the pool of 234, without mis-classifying others as false positives or false negatives. "
   ]
  },
  {
   "cell_type": "code",
   "execution_count": 72,
   "metadata": {},
   "outputs": [],
   "source": [
    "# over-sampling minority class to deal with imbalanced dataset"
   ]
  },
  {
   "cell_type": "code",
   "execution_count": 73,
   "metadata": {},
   "outputs": [],
   "source": [
    "# option1: SMOTE"
   ]
  },
  {
   "cell_type": "code",
   "execution_count": 74,
   "metadata": {},
   "outputs": [
    {
     "data": {
      "text/plain": [
       "((1704, 43), (1704,))"
      ]
     },
     "execution_count": 74,
     "metadata": {},
     "output_type": "execute_result"
    }
   ],
   "source": [
    "from imblearn.over_sampling import SMOTE\n",
    "from collections import Counter\n",
    "\n",
    "smote = SMOTE(ratio = 'minority', random_state = seed)\n",
    "X_train, Y_train = smote.fit_sample(X_train, Y_train)\n",
    "X_train.shape, Y_train.shape"
   ]
  },
  {
   "cell_type": "code",
   "execution_count": 75,
   "metadata": {},
   "outputs": [
    {
     "data": {
      "text/plain": [
       "1.0    852\n",
       "0.0    852\n",
       "dtype: int64"
      ]
     },
     "execution_count": 75,
     "metadata": {},
     "output_type": "execute_result"
    }
   ],
   "source": [
    "pd.Series(Y_train).value_counts()"
   ]
  },
  {
   "cell_type": "code",
   "execution_count": 76,
   "metadata": {},
   "outputs": [],
   "source": [
    "# option 2: ADASYN"
   ]
  },
  {
   "cell_type": "code",
   "execution_count": 77,
   "metadata": {},
   "outputs": [],
   "source": [
    "# from imblearn.over_sampling import ADASYN\n",
    "\n",
    "# adasyn = ADASYN(ratio = 'minority', random_state = seed)\n",
    "# X_train, Y_train = adasyn.fit_sample(X_train, Y_train)\n",
    "# X_train.shape, Y_train.shape"
   ]
  },
  {
   "cell_type": "code",
   "execution_count": 78,
   "metadata": {},
   "outputs": [],
   "source": [
    "# unique_elements, counts_elements = np.unique(Y_train, return_counts=True)\n",
    "# print(\"Frequency of unique values of the said array:\")\n",
    "# print(np.asarray((unique_elements, counts_elements)))"
   ]
  },
  {
   "cell_type": "code",
   "execution_count": 79,
   "metadata": {},
   "outputs": [],
   "source": [
    "# option 3: TOMELINKS"
   ]
  },
  {
   "cell_type": "code",
   "execution_count": 80,
   "metadata": {},
   "outputs": [],
   "source": [
    "# from imblearn.under_sampling import TomekLinks\n",
    "# from collections import Counter\n",
    "\n",
    "# tome = TomekLinks(return_indices=True, ratio='auto', random_state = seed)\n",
    "\n",
    "# # Fit data\n",
    "# X_train, Y_train, id_tome = tome.fit_sample(X_train, Y_train)\n",
    "# X_train.shape, Y_train.shape"
   ]
  },
  {
   "cell_type": "code",
   "execution_count": 81,
   "metadata": {},
   "outputs": [],
   "source": [
    "# # Find removed indices\n",
    "# idx_samples_removed = np.setdiff1d(np.arange(X_train.shape[0]),id_tome)\n",
    "\n",
    "# len(idx_samples_removed)"
   ]
  },
  {
   "cell_type": "code",
   "execution_count": 82,
   "metadata": {},
   "outputs": [],
   "source": [
    "# unique_elements, counts_elements = np.unique(Y_train, return_counts=True)\n",
    "# print(\"Frequency of unique values of the said array:\")\n",
    "# print(np.asarray((unique_elements, counts_elements)))"
   ]
  },
  {
   "cell_type": "code",
   "execution_count": 83,
   "metadata": {},
   "outputs": [],
   "source": [
    "# OPTION 4: ensemble via SMOTETOMEK"
   ]
  },
  {
   "cell_type": "code",
   "execution_count": 84,
   "metadata": {},
   "outputs": [],
   "source": [
    "# from imblearn.over_sampling import SMOTE\n",
    "# from imblearn.combine import SMOTETomek\n",
    "\n",
    "# smote = SMOTE(ratio = 'minority', random_state = seed)\n",
    "# smto = SMOTETomek(ratio='auto', smote=smote, random_state = seed)\n",
    "\n",
    "# X_train, Y_train = smto.fit_sample(X_train, Y_train)\n",
    "# X_train.shape, Y_train.shape"
   ]
  },
  {
   "cell_type": "code",
   "execution_count": 85,
   "metadata": {},
   "outputs": [],
   "source": [
    "# import numpy as np\n",
    "\n",
    "# unique_elements, counts_elements = np.unique(Y_train, return_counts=True)\n",
    "# print(\"Frequency of unique values of the said array:\")\n",
    "# print(np.asarray((unique_elements, counts_elements)))"
   ]
  },
  {
   "cell_type": "code",
   "execution_count": null,
   "metadata": {},
   "outputs": [],
   "source": []
  },
  {
   "cell_type": "code",
   "execution_count": 86,
   "metadata": {},
   "outputs": [],
   "source": [
    "# class distribution in the validation dataset"
   ]
  },
  {
   "cell_type": "code",
   "execution_count": 87,
   "metadata": {},
   "outputs": [
    {
     "data": {
      "text/plain": [
       "0.0    214\n",
       "1.0     20\n",
       "dtype: int64"
      ]
     },
     "execution_count": 87,
     "metadata": {},
     "output_type": "execute_result"
    }
   ],
   "source": [
    "pd.Series(Y_validation).value_counts()"
   ]
  },
  {
   "cell_type": "code",
   "execution_count": 88,
   "metadata": {},
   "outputs": [],
   "source": [
    "# save cleaned working dataset to file\n",
    "\n",
    "np.save('X_train.npy', X_train)\n",
    "np.save('X_validation.npy', X_validation)\n",
    "\n",
    "np.save('Y_train.npy', Y_train)\n",
    "np.save('Y_validation.npy', Y_validation)"
   ]
  },
  {
   "cell_type": "code",
   "execution_count": 89,
   "metadata": {},
   "outputs": [],
   "source": [
    "# load in cleaned working dataset to notebook \n",
    "\n",
    "X_train = np.load('X_train.npy')\n",
    "X_validation = np.load('X_validation.npy')\n",
    "\n",
    "Y_train = np.load('Y_train.npy') \n",
    "Y_validation = np.load('Y_validation.npy')"
   ]
  },
  {
   "cell_type": "code",
   "execution_count": null,
   "metadata": {},
   "outputs": [],
   "source": []
  },
  {
   "cell_type": "markdown",
   "metadata": {},
   "source": [
    "## 5. Fitting Baseline Model\n",
    "\n",
    "- We use AUC as the scoring criteria to guide our model search, as we move across folds of the training dataset to estimate model parameters.  \n",
    "- We use confusion matrix to provide diagnostics of how well the model is performing in validation, balancing false positives vs. false negatives.\n",
    "- Our baseline is that of naive prediction, using majority class of the training dataset (non-failure) to predict cases in validation dataset. In essence naive model says all devices in validation are not faulty. "
   ]
  },
  {
   "cell_type": "code",
   "execution_count": 90,
   "metadata": {},
   "outputs": [],
   "source": [
    "# get baseline prediction"
   ]
  },
  {
   "cell_type": "code",
   "execution_count": 91,
   "metadata": {},
   "outputs": [],
   "source": [
    "import warnings\n",
    "warnings.filterwarnings(\"ignore\")"
   ]
  },
  {
   "cell_type": "code",
   "execution_count": 92,
   "metadata": {},
   "outputs": [],
   "source": [
    "# set cross-validation option and model evaluation metric\n",
    "\n",
    "import numpy as np\n",
    "\n",
    "num_folds = 10\n",
    "seed = 7\n",
    "np.random.seed(7)\n",
    "\n",
    "scoring = 'roc_auc'"
   ]
  },
  {
   "cell_type": "code",
   "execution_count": 93,
   "metadata": {},
   "outputs": [
    {
     "name": "stdout",
     "output_type": "stream",
     "text": [
      "Most frequent class (dummy classifier)\n",
      " [[214   0]\n",
      " [ 20   0]]\n"
     ]
    }
   ],
   "source": [
    "# predict class using majority class from training dataset\n",
    "\n",
    "from sklearn.dummy import DummyClassifier\n",
    "from sklearn.metrics import confusion_matrix\n",
    "\n",
    "dummy_majority = DummyClassifier(random_state = seed, strategy = 'most_frequent').fit(X_train, Y_train)\n",
    "Y_majority_predicted = dummy_majority.predict(X_validation)\n",
    "confusion = confusion_matrix(Y_validation, Y_majority_predicted)\n",
    "\n",
    "print('Most frequent class (dummy classifier)\\n', confusion)"
   ]
  },
  {
   "cell_type": "code",
   "execution_count": 94,
   "metadata": {},
   "outputs": [
    {
     "name": "stdout",
     "output_type": "stream",
     "text": [
      "AUC\n",
      "0.5\n",
      "\n"
     ]
    }
   ],
   "source": [
    "# generate AUC\n",
    "\n",
    "from sklearn.metrics import roc_auc_score\n",
    "\n",
    "print('AUC')\n",
    "print(roc_auc_score(Y_validation, Y_majority_predicted))\n",
    "print()"
   ]
  },
  {
   "cell_type": "code",
   "execution_count": null,
   "metadata": {},
   "outputs": [],
   "source": []
  },
  {
   "cell_type": "markdown",
   "metadata": {},
   "source": [
    "## 6. Fitting Classification Models with Feature Standardization\n",
    "- We fit KNN and SVM models for first batch of comparisons with baseline model. AUC for KNN 0.90, and for SVM is 0.92. Both models perform significanlty better than baseline, with AUC of only 0.5.  \n",
    "- As KNN and SVM are distance-based models, and sensitive to feature scaling, we standardize all numerical features to yield robust results. "
   ]
  },
  {
   "cell_type": "code",
   "execution_count": 95,
   "metadata": {},
   "outputs": [],
   "source": [
    "# single model with feature standardization\n",
    "\n",
    "from sklearn.pipeline import Pipeline\n",
    "from sklearn.preprocessing import StandardScaler\n",
    "from sklearn.linear_model import LogisticRegression\n",
    "from sklearn.tree import DecisionTreeClassifier\n",
    "from sklearn.neighbors import KNeighborsClassifier\n",
    "from sklearn.discriminant_analysis import LinearDiscriminantAnalysis\n",
    "from sklearn.naive_bayes import GaussianNB\n",
    "from sklearn.svm import SVC\n",
    "\n",
    "\n",
    "pipelines = []\n",
    "pipelines.append(('ScaledLR', Pipeline([('Scaler', StandardScaler()),('LR', LogisticRegression())])))\n",
    "pipelines.append(('ScaledLDA', Pipeline([('Scaler', StandardScaler()),('LDA', LinearDiscriminantAnalysis())])))\n",
    "pipelines.append(('ScaledKNN', Pipeline([('Scaler', StandardScaler()),('KNN', KNeighborsClassifier())])))\n",
    "pipelines.append(('ScaledCART', Pipeline([('Scaler', StandardScaler()),('CART', DecisionTreeClassifier())])))\n",
    "pipelines.append(('ScaledNB', Pipeline([('Scaler', StandardScaler()),('NB', GaussianNB())])))\n",
    "pipelines.append(('ScaledSVM', Pipeline([('Scaler', StandardScaler()),('SVM', SVC())]))) "
   ]
  },
  {
   "cell_type": "code",
   "execution_count": 96,
   "metadata": {},
   "outputs": [
    {
     "name": "stdout",
     "output_type": "stream",
     "text": [
      "ScaledLR: 0.934008 (0.016232)\n",
      "ScaledLDA: 0.930512 (0.015550)\n",
      "ScaledKNN: 0.992901 (0.006504)\n",
      "ScaledCART: 0.961457 (0.054322)\n",
      "ScaledNB: 0.876912 (0.040798)\n",
      "ScaledSVM: 0.996514 (0.003938)\n"
     ]
    }
   ],
   "source": [
    "from sklearn.model_selection import KFold\n",
    "from sklearn.model_selection import StratifiedKFold\n",
    "from sklearn.model_selection import cross_val_score\n",
    "\n",
    "results = []\n",
    "names = []\n",
    "for name, model in pipelines:\n",
    "  kfold = StratifiedKFold(n_splits=num_folds, random_state=seed)\n",
    "  cv_results = cross_val_score(model, X_train, Y_train, cv=kfold, scoring=scoring)\n",
    "  results.append(cv_results)\n",
    "  names.append(name)\n",
    "  msg = \"%s: %f (%f)\" % (name, cv_results.mean(), cv_results.std())\n",
    "  print(msg) "
   ]
  },
  {
   "cell_type": "code",
   "execution_count": 97,
   "metadata": {},
   "outputs": [
    {
     "data": {
      "image/png": "[encoded data removed]",
      "text/plain": [
       "<Figure size 432x288 with 1 Axes>"
      ]
     },
     "metadata": {},
     "output_type": "display_data"
    }
   ],
   "source": [
    "# Compare Algorithms\n",
    "fig = plt.figure()\n",
    "fig.suptitle('Scaled Algorithm Comparison') \n",
    "ax = fig.add_subplot(111) \n",
    "plt.boxplot(results) \n",
    "ax.set_xticklabels(names, rotation = '10')\n",
    "plt.show()"
   ]
  },
  {
   "cell_type": "code",
   "execution_count": 98,
   "metadata": {},
   "outputs": [],
   "source": [
    "# improve single model results with parameter tuning"
   ]
  },
  {
   "cell_type": "code",
   "execution_count": 99,
   "metadata": {},
   "outputs": [
    {
     "name": "stdout",
     "output_type": "stream",
     "text": [
      "Best: 0.993563 using {'n_neighbors': 5}\n"
     ]
    }
   ],
   "source": [
    "# Tune scaled KNN\n",
    "\n",
    "from sklearn.model_selection import GridSearchCV\n",
    "\n",
    "scaler = StandardScaler().fit(X_train)\n",
    "rescaledX = scaler.transform(X_train)\n",
    "neighbors = [1,3,5,7,9,11]\n",
    "param_grid = dict(n_neighbors=neighbors)\n",
    "model = KNeighborsClassifier()\n",
    "kfold = StratifiedKFold(n_splits=num_folds, random_state=seed)\n",
    "grid = GridSearchCV(estimator=model, param_grid=param_grid, scoring=scoring, cv=kfold)\n",
    "grid_result = grid.fit(rescaledX, Y_train)\n",
    "print(\"Best: %f using %s\" % (grid_result.best_score_, grid_result.best_params_))"
   ]
  },
  {
   "cell_type": "code",
   "execution_count": 100,
   "metadata": {},
   "outputs": [
    {
     "name": "stdout",
     "output_type": "stream",
     "text": [
      "0.991197 (0.006029) with: {'n_neighbors': 1}\n",
      "0.992745 (0.006280) with: {'n_neighbors': 3}\n",
      "0.993563 (0.006797) with: {'n_neighbors': 5}\n",
      "0.992954 (0.005756) with: {'n_neighbors': 7}\n",
      "0.990890 (0.005186) with: {'n_neighbors': 9}\n",
      "0.990041 (0.005529) with: {'n_neighbors': 11}\n"
     ]
    }
   ],
   "source": [
    "means = grid_result.cv_results_['mean_test_score'] \n",
    "stds = grid_result.cv_results_['std_test_score'] \n",
    "params = grid_result.cv_results_['params']\n",
    "\n",
    "for mean, stdev, param in zip(means, stds, params):\n",
    "    print(\"%f (%f) with: %r\" % (mean, stdev, param))"
   ]
  },
  {
   "cell_type": "code",
   "execution_count": 101,
   "metadata": {},
   "outputs": [
    {
     "data": {
      "text/plain": [
       "KNeighborsClassifier(algorithm='auto', leaf_size=30, metric='minkowski',\n",
       "                     metric_params=None, n_jobs=None, n_neighbors=5, p=2,\n",
       "                     weights='uniform')"
      ]
     },
     "execution_count": 101,
     "metadata": {},
     "output_type": "execute_result"
    }
   ],
   "source": [
    "# prepare the model\n",
    "\n",
    "scaler = StandardScaler().fit(X_train)\n",
    "rescaledX = scaler.transform(X_train)\n",
    "model = KNeighborsClassifier(n_neighbors = 5)\n",
    "model.fit(rescaledX, Y_train)"
   ]
  },
  {
   "cell_type": "code",
   "execution_count": 102,
   "metadata": {},
   "outputs": [],
   "source": [
    "# generate prediction on validation dataset\n",
    "\n",
    "rescaledValidationX = scaler.transform(X_validation)\n",
    "predictions = model.predict(rescaledValidationX)\n",
    "predictions_proba = model.predict_proba(rescaledValidationX)"
   ]
  },
  {
   "cell_type": "code",
   "execution_count": 103,
   "metadata": {},
   "outputs": [
    {
     "name": "stdout",
     "output_type": "stream",
     "text": [
      "AUC\n",
      "0.8998831775700935\n",
      "\n",
      "Accuracy\n",
      "0.9273504273504274\n",
      "\n",
      "Confusion Matrix\n",
      "[[205   9]\n",
      " [  8  12]]\n",
      "\n",
      "Classification Report\n",
      "              precision    recall  f1-score   support\n",
      "\n",
      "         0.0       0.96      0.96      0.96       214\n",
      "         1.0       0.57      0.60      0.59        20\n",
      "\n",
      "    accuracy                           0.93       234\n",
      "   macro avg       0.77      0.78      0.77       234\n",
      "weighted avg       0.93      0.93      0.93       234\n",
      "\n",
      "\n"
     ]
    }
   ],
   "source": [
    "# generate confusion matrix\n",
    "\n",
    "from sklearn.metrics import classification_report\n",
    "from sklearn.metrics import confusion_matrix\n",
    "from sklearn.metrics import accuracy_score\n",
    "from sklearn.metrics import roc_auc_score\n",
    "from sklearn.metrics import roc_curve\n",
    "from sklearn.metrics import auc\n",
    "\n",
    "print('AUC')\n",
    "print(roc_auc_score(Y_validation, predictions_proba[:,1]))\n",
    "print()\n",
    "\n",
    "print('Accuracy')\n",
    "print(accuracy_score(Y_validation, predictions))\n",
    "print()\n",
    "\n",
    "print('Confusion Matrix')\n",
    "print(confusion_matrix(Y_validation, predictions))\n",
    "print()\n",
    "\n",
    "print('Classification Report')\n",
    "print(classification_report(Y_validation, predictions))\n",
    "\n",
    "print()"
   ]
  },
  {
   "cell_type": "code",
   "execution_count": 104,
   "metadata": {},
   "outputs": [
    {
     "data": {
      "image/png": "[encoded data removed]",
      "text/plain": [
       "<Figure size 432x288 with 1 Axes>"
      ]
     },
     "metadata": {},
     "output_type": "display_data"
    }
   ],
   "source": [
    "# generate AUC\n",
    "\n",
    "fpr, tpr, threshold = roc_curve(Y_validation, predictions_proba[:,1])\n",
    "roc_auc = auc(fpr, tpr)\n",
    "\n",
    "plt.figure()\n",
    "plt.xlim([-0.01, 1.00])\n",
    "plt.ylim([-0.01, 1.01])\n",
    "plt.plot(fpr, tpr, color = 'steelblue', lw = 3, label = 'ROC_AUC = {:0.3f})'.format(roc_auc))\n",
    "plt.xlabel('false positive rate', fontsize = 13)\n",
    "plt.ylabel('true positive rate', fontsize = 13)\n",
    "plt.title('ROC curve', fontsize = 16)\n",
    "plt.legend(loc = 'lower right', fontsize = 13)\n",
    "plt.plot([0, 1], [0, 1], color = 'steelblue', lw = 3, linestyle = '--')\n",
    "# plt.axes().set_aspect('equal')\n",
    "plt.show()"
   ]
  },
  {
   "cell_type": "code",
   "execution_count": 105,
   "metadata": {},
   "outputs": [
    {
     "name": "stdout",
     "output_type": "stream",
     "text": [
      "Best: 0.998027 using {'C': 5, 'kernel': 'rbf'}\n"
     ]
    }
   ],
   "source": [
    "# Tune scaled SVM\n",
    "\n",
    "scaler = StandardScaler().fit(X_train)\n",
    "rescaledX = scaler.transform(X_train)\n",
    "c_values = [3,4,5,6]\n",
    "kernel_values = ['linear', 'poly', 'rbf', 'sigmoid']\n",
    "param_grid = dict(C=c_values, kernel=kernel_values)\n",
    "model = SVC()\n",
    "kfold = StratifiedKFold(n_splits=num_folds, random_state=seed)\n",
    "grid = GridSearchCV(estimator=model, param_grid=param_grid, scoring=scoring, cv=kfold)\n",
    "grid_result = grid.fit(rescaledX, Y_train)\n",
    "print(\"Best: %f using %s\" % (grid_result.best_score_, grid_result.best_params_))"
   ]
  },
  {
   "cell_type": "code",
   "execution_count": 106,
   "metadata": {},
   "outputs": [
    {
     "name": "stdout",
     "output_type": "stream",
     "text": [
      "0.944695 (0.018570) with: {'C': 3, 'kernel': 'linear'}\n",
      "0.991301 (0.010200) with: {'C': 3, 'kernel': 'poly'}\n",
      "0.997765 (0.003786) with: {'C': 3, 'kernel': 'rbf'}\n",
      "0.784240 (0.047821) with: {'C': 3, 'kernel': 'sigmoid'}\n",
      "0.946029 (0.018101) with: {'C': 4, 'kernel': 'linear'}\n",
      "0.991741 (0.010219) with: {'C': 4, 'kernel': 'poly'}\n",
      "0.997917 (0.003807) with: {'C': 4, 'kernel': 'rbf'}\n",
      "0.758505 (0.033167) with: {'C': 4, 'kernel': 'sigmoid'}\n",
      "0.947033 (0.017692) with: {'C': 5, 'kernel': 'linear'}\n",
      "0.991576 (0.010402) with: {'C': 5, 'kernel': 'poly'}\n",
      "0.998027 (0.003678) with: {'C': 5, 'kernel': 'rbf'}\n",
      "0.760038 (0.047344) with: {'C': 5, 'kernel': 'sigmoid'}\n",
      "0.947378 (0.017744) with: {'C': 6, 'kernel': 'linear'}\n",
      "0.991671 (0.010308) with: {'C': 6, 'kernel': 'poly'}\n",
      "0.998013 (0.003773) with: {'C': 6, 'kernel': 'rbf'}\n",
      "0.764321 (0.048646) with: {'C': 6, 'kernel': 'sigmoid'}\n"
     ]
    }
   ],
   "source": [
    "means = grid_result.cv_results_['mean_test_score']\n",
    "stds = grid_result.cv_results_['std_test_score']\n",
    "params = grid_result.cv_results_['params']\n",
    "for mean, stdev, param in zip(means, stds, params):\n",
    "    print(\"%f (%f) with: %r\" % (mean, stdev, param))"
   ]
  },
  {
   "cell_type": "code",
   "execution_count": 107,
   "metadata": {},
   "outputs": [
    {
     "data": {
      "text/plain": [
       "SVC(C=5, cache_size=200, class_weight=None, coef0=0.0,\n",
       "    decision_function_shape='ovr', degree=3, gamma='auto_deprecated',\n",
       "    kernel='rbf', max_iter=-1, probability=True, random_state=7, shrinking=True,\n",
       "    tol=0.001, verbose=False)"
      ]
     },
     "execution_count": 107,
     "metadata": {},
     "output_type": "execute_result"
    }
   ],
   "source": [
    "# prepare the model\n",
    "\n",
    "scaler = StandardScaler().fit(X_train)\n",
    "rescaledX = scaler.transform(X_train)\n",
    "model = SVC(random_state=seed, probability = True, C=5, kernel='rbf')\n",
    "model.fit(rescaledX, Y_train)"
   ]
  },
  {
   "cell_type": "code",
   "execution_count": 108,
   "metadata": {},
   "outputs": [],
   "source": [
    "# generate prediction on validation dataset\n",
    "\n",
    "rescaledValidationX = scaler.transform(X_validation)\n",
    "predictions = model.predict(rescaledValidationX)\n",
    "predictions_proba = model.predict_proba(rescaledValidationX)"
   ]
  },
  {
   "cell_type": "code",
   "execution_count": 109,
   "metadata": {},
   "outputs": [
    {
     "name": "stdout",
     "output_type": "stream",
     "text": [
      "AUC\n",
      "0.9200934579439252\n",
      "\n",
      "Accuracy\n",
      "0.9529914529914529\n",
      "\n",
      "Confusion Matrix\n",
      "[[212   2]\n",
      " [  9  11]]\n",
      "\n",
      "Classification Report\n",
      "              precision    recall  f1-score   support\n",
      "\n",
      "         0.0       0.96      0.99      0.97       214\n",
      "         1.0       0.85      0.55      0.67        20\n",
      "\n",
      "    accuracy                           0.95       234\n",
      "   macro avg       0.90      0.77      0.82       234\n",
      "weighted avg       0.95      0.95      0.95       234\n",
      "\n",
      "\n"
     ]
    }
   ],
   "source": [
    "# generate confusion matrix\n",
    "\n",
    "from sklearn.metrics import classification_report\n",
    "from sklearn.metrics import confusion_matrix\n",
    "from sklearn.metrics import accuracy_score\n",
    "from sklearn.metrics import roc_auc_score\n",
    "from sklearn.metrics import roc_curve\n",
    "from sklearn.metrics import auc\n",
    "\n",
    "print('AUC')\n",
    "print(roc_auc_score(Y_validation, predictions_proba[:,1]))\n",
    "print()\n",
    "\n",
    "print('Accuracy')\n",
    "print(accuracy_score(Y_validation, predictions))\n",
    "print()\n",
    "\n",
    "print('Confusion Matrix')\n",
    "print(confusion_matrix(Y_validation, predictions))\n",
    "print()\n",
    "\n",
    "print('Classification Report')\n",
    "print(classification_report(Y_validation, predictions))\n",
    "print()"
   ]
  },
  {
   "cell_type": "code",
   "execution_count": 110,
   "metadata": {},
   "outputs": [
    {
     "data": {
      "image/png": "[encoded data removed]",
      "text/plain": [
       "<Figure size 432x288 with 1 Axes>"
      ]
     },
     "metadata": {},
     "output_type": "display_data"
    }
   ],
   "source": [
    "# generate AUC\n",
    "\n",
    "fpr, tpr, threshold = roc_curve(Y_validation, predictions_proba[:,1])\n",
    "roc_auc = auc(fpr, tpr)\n",
    "\n",
    "plt.figure()\n",
    "plt.xlim([-0.01, 1.00])\n",
    "plt.ylim([-0.01, 1.01])\n",
    "plt.plot(fpr, tpr, color = 'steelblue', lw = 3, label = 'ROC_AUC = {:0.3f})'.format(roc_auc))\n",
    "plt.xlabel('false positive rate', fontsize = 13)\n",
    "plt.ylabel('true positive rate', fontsize = 13)\n",
    "plt.title('ROC curve', fontsize = 16)\n",
    "plt.legend(loc = 'lower right', fontsize = 13)\n",
    "plt.plot([0, 1], [0, 1], color = 'steelblue', lw = 3, linestyle = '--')\n",
    "# plt.axes().set_aspect('equal')\n",
    "plt.show()"
   ]
  },
  {
   "cell_type": "code",
   "execution_count": null,
   "metadata": {},
   "outputs": [],
   "source": []
  },
  {
   "cell_type": "markdown",
   "metadata": {},
   "source": [
    "## 7. Fitting Ensemble Models\n",
    "\n",
    "The goal of ensemble is to combine predictions of base estimators to improve final model performance. \n",
    "\n",
    "In boosting methods, base estimators are built sequentially and one tries to reduce the bias of the combined estimator. We deliberatley choose AdaBoost and Gradient Boosting from this school of thought to fit. \n",
    "\n",
    "In averaging methods, the driving principle is to build several estimators independently and then to average their predictions. We pick Random Forest and Extremley Randomized Trees to fit. \n",
    "\n",
    "Initial predictions, with only default hyperparameter settings, return reasonable results across the four ensembles. "
   ]
  },
  {
   "cell_type": "code",
   "execution_count": 111,
   "metadata": {},
   "outputs": [
    {
     "name": "stdout",
     "output_type": "stream",
     "text": [
      "AB: 0.991720 (0.015759)\n",
      "GBM: 0.996465 (0.009254)\n",
      "RF: 0.993593 (0.011777)\n",
      "ET: 0.997149 (0.005914)\n"
     ]
    }
   ],
   "source": [
    "from sklearn.ensemble import AdaBoostClassifier\n",
    "from sklearn.ensemble import GradientBoostingClassifier\n",
    "from sklearn.ensemble import RandomForestClassifier\n",
    "from sklearn.ensemble import ExtraTreesClassifier\n",
    "\n",
    "ensembles = []\n",
    "ensembles.append(('AB', AdaBoostClassifier())) \n",
    "ensembles.append(('GBM', GradientBoostingClassifier())) \n",
    "ensembles.append(('RF', RandomForestClassifier())) \n",
    "ensembles.append(('ET', ExtraTreesClassifier())) \n",
    "\n",
    "results = []\n",
    "names = []\n",
    "for name, model in ensembles:\n",
    "  kfold = StratifiedKFold(n_splits=num_folds, random_state=seed)\n",
    "  cv_results = cross_val_score(model, X_train, Y_train, cv=kfold, scoring=scoring)\n",
    "  results.append(cv_results)\n",
    "  names.append(name)\n",
    "  msg = \"%s: %f (%f)\" % (name, cv_results.mean(), cv_results.std())\n",
    "  print(msg)"
   ]
  },
  {
   "cell_type": "code",
   "execution_count": 112,
   "metadata": {},
   "outputs": [
    {
     "data": {
      "image/png": "[encoded data removed]",
      "text/plain": [
       "<Figure size 432x288 with 1 Axes>"
      ]
     },
     "metadata": {},
     "output_type": "display_data"
    }
   ],
   "source": [
    "# Compare Algorithms\n",
    "\n",
    "fig = plt.figure()\n",
    "fig.suptitle('Ensemble Algorithm Comparison') \n",
    "ax = fig.add_subplot(111) \n",
    "plt.boxplot(results) \n",
    "ax.set_xticklabels(names)\n",
    "plt.show()"
   ]
  },
  {
   "cell_type": "code",
   "execution_count": null,
   "metadata": {},
   "outputs": [],
   "source": []
  },
  {
   "cell_type": "code",
   "execution_count": 113,
   "metadata": {},
   "outputs": [],
   "source": [
    "# 6-way comparison, adding in XGBoost and LightGBM per reviewers' comments"
   ]
  },
  {
   "cell_type": "code",
   "execution_count": 114,
   "metadata": {},
   "outputs": [
    {
     "name": "stdout",
     "output_type": "stream",
     "text": [
      "AB: 0.991720 (0.015759)\n",
      "GBM: 0.996452 (0.009252)\n",
      "RF: 0.990161 (0.016996)\n",
      "ET: 0.998357 (0.003925)\n",
      "XGB: 0.997167 (0.007187)\n",
      "LGBM: 0.998314 (0.003246)\n"
     ]
    }
   ],
   "source": [
    "from sklearn.ensemble import AdaBoostClassifier\n",
    "from sklearn.ensemble import GradientBoostingClassifier\n",
    "from sklearn.ensemble import RandomForestClassifier\n",
    "from sklearn.ensemble import ExtraTreesClassifier\n",
    "from xgboost import XGBClassifier\n",
    "from lightgbm import LGBMClassifier\n",
    "\n",
    "ensembles = []\n",
    "ensembles.append(('AB', AdaBoostClassifier())) \n",
    "ensembles.append(('GBM', GradientBoostingClassifier())) \n",
    "ensembles.append(('RF', RandomForestClassifier())) \n",
    "ensembles.append(('ET', ExtraTreesClassifier())) \n",
    "ensembles.append(('XGB', XGBClassifier())) \n",
    "ensembles.append(('LGBM', LGBMClassifier())) \n",
    "\n",
    "results = []\n",
    "names = []\n",
    "for name, model in ensembles:\n",
    "  kfold = StratifiedKFold(n_splits=num_folds, random_state=seed)\n",
    "  cv_results = cross_val_score(model, X_train, Y_train, cv=kfold, scoring=scoring)\n",
    "  results.append(cv_results)\n",
    "  names.append(name)\n",
    "  msg = \"%s: %f (%f)\" % (name, cv_results.mean(), cv_results.std())\n",
    "  print(msg)"
   ]
  },
  {
   "cell_type": "code",
   "execution_count": 115,
   "metadata": {},
   "outputs": [
    {
     "data": {
      "image/png": "[encoded data removed]",
      "text/plain": [
       "<Figure size 432x288 with 1 Axes>"
      ]
     },
     "metadata": {},
     "output_type": "display_data"
    }
   ],
   "source": [
    "# Compare Algorithms\n",
    "\n",
    "fig = plt.figure()\n",
    "fig.suptitle('Ensemble Algorithm Comparison') \n",
    "ax = fig.add_subplot(111) \n",
    "plt.boxplot(results) \n",
    "ax.set_xticklabels(names)\n",
    "plt.show()"
   ]
  },
  {
   "cell_type": "code",
   "execution_count": null,
   "metadata": {},
   "outputs": [],
   "source": []
  },
  {
   "cell_type": "markdown",
   "metadata": {},
   "source": [
    "## 8. Tuning Hyperparameters\n",
    "- For ensmeble models there are always hyperparameters we can fine tune to yield better model performance. "
   ]
  },
  {
   "cell_type": "code",
   "execution_count": 116,
   "metadata": {},
   "outputs": [
    {
     "name": "stdout",
     "output_type": "stream",
     "text": [
      "Best: 0.992714 using {'learning_rate': 0.1, 'n_estimators': 600}\n"
     ]
    }
   ],
   "source": [
    "# Tune scaled ABM\n",
    "\n",
    "scaler = StandardScaler().fit(X_train)\n",
    "rescaledX = scaler.transform(X_train)\n",
    "param_grid = dict(n_estimators=np.array([300, 400, 500, 600]), learning_rate = np.array([1,0.1, 0.01]))\n",
    "model = AdaBoostClassifier(random_state=seed)\n",
    "kfold = StratifiedKFold(n_splits=num_folds, random_state=seed)\n",
    "grid = GridSearchCV(estimator=model, param_grid=param_grid, scoring=scoring, cv=kfold)\n",
    "grid_result = grid.fit(rescaledX, Y_train)\n",
    "print(\"Best: %f using %s\" % (grid_result.best_score_, grid_result.best_params_))"
   ]
  },
  {
   "cell_type": "code",
   "execution_count": 117,
   "metadata": {},
   "outputs": [
    {
     "name": "stdout",
     "output_type": "stream",
     "text": [
      "0.991378 (0.014802) with: {'learning_rate': 1.0, 'n_estimators': 300}\n",
      "0.992221 (0.015169) with: {'learning_rate': 1.0, 'n_estimators': 400}\n",
      "0.991803 (0.017905) with: {'learning_rate': 1.0, 'n_estimators': 500}\n",
      "0.991897 (0.017266) with: {'learning_rate': 1.0, 'n_estimators': 600}\n",
      "0.992466 (0.014103) with: {'learning_rate': 0.1, 'n_estimators': 300}\n",
      "0.992550 (0.014541) with: {'learning_rate': 0.1, 'n_estimators': 400}\n",
      "0.992182 (0.015725) with: {'learning_rate': 0.1, 'n_estimators': 500}\n",
      "0.992714 (0.014159) with: {'learning_rate': 0.1, 'n_estimators': 600}\n",
      "0.973190 (0.014813) with: {'learning_rate': 0.01, 'n_estimators': 300}\n",
      "0.981683 (0.014084) with: {'learning_rate': 0.01, 'n_estimators': 400}\n",
      "0.984168 (0.015045) with: {'learning_rate': 0.01, 'n_estimators': 500}\n",
      "0.986146 (0.015300) with: {'learning_rate': 0.01, 'n_estimators': 600}\n"
     ]
    }
   ],
   "source": [
    "means = grid_result.cv_results_[ \"mean_test_score\" ]\n",
    "stds = grid_result.cv_results_[ \"std_test_score\" ]\n",
    "params = grid_result.cv_results_[ \"params\" ]\n",
    "for mean, stdev, param in zip(means, stds, params):\n",
    "    print(\"%f (%f) with: %r\" % (mean, stdev, param))"
   ]
  },
  {
   "cell_type": "code",
   "execution_count": 118,
   "metadata": {},
   "outputs": [
    {
     "data": {
      "text/plain": [
       "AdaBoostClassifier(algorithm='SAMME.R', base_estimator=None, learning_rate=0.1,\n",
       "                   n_estimators=600, random_state=7)"
      ]
     },
     "execution_count": 118,
     "metadata": {},
     "output_type": "execute_result"
    }
   ],
   "source": [
    "# prepare the model\n",
    "\n",
    "scaler = StandardScaler().fit(X_train)\n",
    "rescaledX = scaler.transform(X_train)\n",
    "model = AdaBoostClassifier(random_state=seed, learning_rate = 0.1, n_estimators=600)\n",
    "model.fit(rescaledX, Y_train)"
   ]
  },
  {
   "cell_type": "code",
   "execution_count": 119,
   "metadata": {},
   "outputs": [],
   "source": [
    "# generate prediction on validation dataset\n",
    "\n",
    "rescaledValidationX = scaler.transform(X_validation)\n",
    "predictions = model.predict(rescaledValidationX)\n",
    "predictions_proba = model.predict_proba(rescaledValidationX)"
   ]
  },
  {
   "cell_type": "code",
   "execution_count": 120,
   "metadata": {},
   "outputs": [
    {
     "name": "stdout",
     "output_type": "stream",
     "text": [
      "AUC\n",
      "0.9836448598130841\n",
      "\n",
      "Accuracy\n",
      "0.9743589743589743\n",
      "\n",
      "Confusion Matrix\n",
      "[[214   0]\n",
      " [  6  14]]\n",
      "\n",
      "Classification Report\n",
      "              precision    recall  f1-score   support\n",
      "\n",
      "         0.0       0.97      1.00      0.99       214\n",
      "         1.0       1.00      0.70      0.82        20\n",
      "\n",
      "    accuracy                           0.97       234\n",
      "   macro avg       0.99      0.85      0.90       234\n",
      "weighted avg       0.98      0.97      0.97       234\n",
      "\n",
      "\n"
     ]
    }
   ],
   "source": [
    "# generate confusion matrix\n",
    "\n",
    "from sklearn.metrics import classification_report\n",
    "from sklearn.metrics import confusion_matrix\n",
    "from sklearn.metrics import accuracy_score\n",
    "from sklearn.metrics import roc_auc_score\n",
    "from sklearn.metrics import roc_curve\n",
    "from sklearn.metrics import auc\n",
    "\n",
    "print('AUC')\n",
    "print(roc_auc_score(Y_validation, predictions_proba[:,1]))\n",
    "print()\n",
    "\n",
    "print('Accuracy')\n",
    "print(accuracy_score(Y_validation, predictions))\n",
    "print()\n",
    "\n",
    "print('Confusion Matrix')\n",
    "print(confusion_matrix(Y_validation, predictions))\n",
    "print()\n",
    "\n",
    "print('Classification Report')\n",
    "print(classification_report(Y_validation, predictions))\n",
    "print()"
   ]
  },
  {
   "cell_type": "code",
   "execution_count": 121,
   "metadata": {},
   "outputs": [
    {
     "data": {
      "image/png": "[encoded data removed]",
      "text/plain": [
       "<Figure size 432x288 with 1 Axes>"
      ]
     },
     "metadata": {},
     "output_type": "display_data"
    }
   ],
   "source": [
    "# generate AUC\n",
    "\n",
    "fpr, tpr, threshold = roc_curve(Y_validation, predictions_proba[:,1])\n",
    "roc_auc = auc(fpr, tpr)\n",
    "\n",
    "plt.figure()\n",
    "plt.xlim([-0.01, 1.00])\n",
    "plt.ylim([-0.01, 1.01])\n",
    "plt.plot(fpr, tpr, color = 'steelblue', lw = 3, label = 'ROC_AUC = {:0.3f})'.format(roc_auc))\n",
    "plt.xlabel('false positive rate', fontsize = 13)\n",
    "plt.ylabel('true positive rate', fontsize = 13)\n",
    "plt.title('ROC curve', fontsize = 16)\n",
    "plt.legend(loc = 'lower right', fontsize = 13)\n",
    "plt.plot([0, 1], [0, 1], color = 'steelblue', lw = 3, linestyle = '--')\n",
    "# plt.axes().set_aspect('equal')\n",
    "plt.show()"
   ]
  },
  {
   "cell_type": "code",
   "execution_count": 122,
   "metadata": {},
   "outputs": [
    {
     "data": {
      "text/plain": [
       "<matplotlib.axes._subplots.AxesSubplot at 0x1a232af860>"
      ]
     },
     "execution_count": 122,
     "metadata": {},
     "output_type": "execute_result"
    },
    {
     "data": {
      "image/png": "[encoded data removed]",
      "text/plain": [
       "<Figure size 432x288 with 1 Axes>"
      ]
     },
     "metadata": {},
     "output_type": "display_data"
    }
   ],
   "source": [
    "# generate feature importance plot \n",
    "\n",
    "feature_importance = pd.DataFrame(model.feature_importances_, \n",
    "                                  index = df.columns[:-1], \n",
    "                                  columns = ['importance']).sort_values('importance', ascending = True)\n",
    "feature_importance[:20].plot.barh()"
   ]
  },
  {
   "cell_type": "code",
   "execution_count": 123,
   "metadata": {},
   "outputs": [
    {
     "name": "stdout",
     "output_type": "stream",
     "text": [
      "Best: 0.993757 using {'max_depth': 10, 'n_estimators': 200}\n"
     ]
    }
   ],
   "source": [
    "# Tune scaled GBM\n",
    "\n",
    "scaler = StandardScaler().fit(X_train)\n",
    "rescaledX = scaler.transform(X_train)\n",
    "param_grid = dict(n_estimators=np.array([200, 300, 400]), max_depth = np.array([10, 20, 30]))\n",
    "model = GradientBoostingClassifier(random_state=seed)\n",
    "kfold = StratifiedKFold(n_splits=num_folds, random_state=seed)\n",
    "grid = GridSearchCV(estimator=model, param_grid=param_grid, scoring=scoring, cv=kfold)\n",
    "grid_result = grid.fit(rescaledX, Y_train)\n",
    "print(\"Best: %f using %s\" % (grid_result.best_score_, grid_result.best_params_))"
   ]
  },
  {
   "cell_type": "code",
   "execution_count": 124,
   "metadata": {},
   "outputs": [
    {
     "name": "stdout",
     "output_type": "stream",
     "text": [
      "0.993757 (0.015823) with: {'max_depth': 10, 'n_estimators': 200}\n",
      "0.993757 (0.015823) with: {'max_depth': 10, 'n_estimators': 300}\n",
      "0.993757 (0.015823) with: {'max_depth': 10, 'n_estimators': 400}\n",
      "0.993050 (0.015204) with: {'max_depth': 20, 'n_estimators': 200}\n",
      "0.993050 (0.015204) with: {'max_depth': 20, 'n_estimators': 300}\n",
      "0.993050 (0.015204) with: {'max_depth': 20, 'n_estimators': 400}\n",
      "0.993050 (0.015204) with: {'max_depth': 30, 'n_estimators': 200}\n",
      "0.993050 (0.015204) with: {'max_depth': 30, 'n_estimators': 300}\n",
      "0.993050 (0.015204) with: {'max_depth': 30, 'n_estimators': 400}\n"
     ]
    }
   ],
   "source": [
    "means = grid_result.cv_results_[ \"mean_test_score\" ]\n",
    "stds = grid_result.cv_results_[ \"std_test_score\" ]\n",
    "params = grid_result.cv_results_[ \"params\" ]\n",
    "for mean, stdev, param in zip(means, stds, params):\n",
    "    print(\"%f (%f) with: %r\" % (mean, stdev, param))"
   ]
  },
  {
   "cell_type": "code",
   "execution_count": 125,
   "metadata": {},
   "outputs": [
    {
     "data": {
      "text/plain": [
       "GradientBoostingClassifier(criterion='friedman_mse', init=None,\n",
       "                           learning_rate=0.1, loss='deviance', max_depth=10,\n",
       "                           max_features=None, max_leaf_nodes=None,\n",
       "                           min_impurity_decrease=0.0, min_impurity_split=None,\n",
       "                           min_samples_leaf=1, min_samples_split=2,\n",
       "                           min_weight_fraction_leaf=0.0, n_estimators=200,\n",
       "                           n_iter_no_change=None, presort='auto',\n",
       "                           random_state=7, subsample=1.0, tol=0.0001,\n",
       "                           validation_fraction=0.1, verbose=0,\n",
       "                           warm_start=False)"
      ]
     },
     "execution_count": 125,
     "metadata": {},
     "output_type": "execute_result"
    }
   ],
   "source": [
    "# prepare the model\n",
    "\n",
    "scaler = StandardScaler().fit(X_train)\n",
    "rescaledX = scaler.transform(X_train)\n",
    "model = GradientBoostingClassifier(random_state=seed, max_depth = 10, n_estimators=200)\n",
    "model.fit(rescaledX, Y_train)"
   ]
  },
  {
   "cell_type": "code",
   "execution_count": 126,
   "metadata": {},
   "outputs": [],
   "source": [
    "# generate prediction on validation dataset\n",
    "\n",
    "rescaledValidationX = scaler.transform(X_validation)\n",
    "predictions = model.predict(rescaledValidationX)\n",
    "predictions_proba = model.predict_proba(rescaledValidationX)"
   ]
  },
  {
   "cell_type": "code",
   "execution_count": 127,
   "metadata": {},
   "outputs": [
    {
     "name": "stdout",
     "output_type": "stream",
     "text": [
      "AUC\n",
      "0.9822429906542056\n",
      "\n",
      "Accuracy\n",
      "0.9572649572649573\n",
      "\n",
      "Confusion Matrix\n",
      "[[212   2]\n",
      " [  8  12]]\n",
      "\n",
      "Classification Report\n",
      "              precision    recall  f1-score   support\n",
      "\n",
      "         0.0       0.96      0.99      0.98       214\n",
      "         1.0       0.86      0.60      0.71        20\n",
      "\n",
      "    accuracy                           0.96       234\n",
      "   macro avg       0.91      0.80      0.84       234\n",
      "weighted avg       0.95      0.96      0.95       234\n",
      "\n",
      "\n"
     ]
    }
   ],
   "source": [
    "# generate confusion matrix \n",
    "\n",
    "from sklearn.metrics import classification_report\n",
    "from sklearn.metrics import confusion_matrix\n",
    "from sklearn.metrics import accuracy_score\n",
    "from sklearn.metrics import roc_auc_score\n",
    "from sklearn.metrics import roc_curve\n",
    "from sklearn.metrics import auc\n",
    "\n",
    "print('AUC')\n",
    "print(roc_auc_score(Y_validation, predictions_proba[:,1]))\n",
    "print()\n",
    "\n",
    "print('Accuracy')\n",
    "print(accuracy_score(Y_validation, predictions))\n",
    "print()\n",
    "\n",
    "print('Confusion Matrix')\n",
    "print(confusion_matrix(Y_validation, predictions))\n",
    "print()\n",
    "\n",
    "print('Classification Report')\n",
    "print(classification_report(Y_validation, predictions))\n",
    "print()"
   ]
  },
  {
   "cell_type": "code",
   "execution_count": 128,
   "metadata": {},
   "outputs": [
    {
     "data": {
      "image/png": "[encoded data removed]",
      "text/plain": [
       "<Figure size 432x288 with 1 Axes>"
      ]
     },
     "metadata": {},
     "output_type": "display_data"
    }
   ],
   "source": [
    "# generate AUC\n",
    "\n",
    "fpr, tpr, threshold = roc_curve(Y_validation, predictions_proba[:,1])\n",
    "roc_auc = auc(fpr, tpr)\n",
    "\n",
    "plt.figure()\n",
    "plt.xlim([-0.01, 1.00])\n",
    "plt.ylim([-0.01, 1.01])\n",
    "plt.plot(fpr, tpr, color = 'steelblue', lw = 3, label = 'ROC_AUC = {:0.3f})'.format(roc_auc))\n",
    "plt.xlabel('false positive rate', fontsize = 13)\n",
    "plt.ylabel('true positive rate', fontsize = 13)\n",
    "plt.title('ROC curve', fontsize = 16)\n",
    "plt.legend(loc = 'lower right', fontsize = 13)\n",
    "plt.plot([0, 1], [0, 1], color = 'steelblue', lw = 3, linestyle = '--')\n",
    "# plt.axes().set_aspect('equal')\n",
    "plt.show()"
   ]
  },
  {
   "cell_type": "code",
   "execution_count": 129,
   "metadata": {},
   "outputs": [
    {
     "data": {
      "text/plain": [
       "<matplotlib.axes._subplots.AxesSubplot at 0x1a23be3a58>"
      ]
     },
     "execution_count": 129,
     "metadata": {},
     "output_type": "execute_result"
    },
    {
     "data": {
      "image/png": "[encoded data removed]",
      "text/plain": [
       "<Figure size 432x288 with 1 Axes>"
      ]
     },
     "metadata": {},
     "output_type": "display_data"
    }
   ],
   "source": [
    "# generate feature importance plot\n",
    "\n",
    "feature_importance = pd.DataFrame(model.feature_importances_, \n",
    "                                  index = df.columns[:-1], \n",
    "                                  columns = ['importance']).sort_values('importance', ascending = True)\n",
    "feature_importance[:20].plot.barh()"
   ]
  },
  {
   "cell_type": "code",
   "execution_count": 130,
   "metadata": {},
   "outputs": [
    {
     "name": "stdout",
     "output_type": "stream",
     "text": [
      "Best: 0.997042 using {'n_estimators': 700}\n"
     ]
    }
   ],
   "source": [
    "# Tune scaled RF\n",
    "\n",
    "scaler = StandardScaler().fit(X_train)\n",
    "rescaledX = scaler.transform(X_train)\n",
    "param_grid = dict(n_estimators=np.array([400, 500, 600, 700]))\n",
    "model = RandomForestClassifier(random_state=seed)\n",
    "kfold = StratifiedKFold(n_splits=num_folds, random_state=seed)\n",
    "grid = GridSearchCV(estimator=model, param_grid=param_grid, scoring=scoring, cv=kfold)\n",
    "grid_result = grid.fit(rescaledX, Y_train)\n",
    "print(\"Best: %f using %s\" % (grid_result.best_score_, grid_result.best_params_))"
   ]
  },
  {
   "cell_type": "code",
   "execution_count": 131,
   "metadata": {},
   "outputs": [
    {
     "name": "stdout",
     "output_type": "stream",
     "text": [
      "0.996986 (0.007230) with: {'n_estimators': 400}\n",
      "0.996993 (0.007299) with: {'n_estimators': 500}\n",
      "0.997014 (0.007396) with: {'n_estimators': 600}\n",
      "0.997042 (0.007313) with: {'n_estimators': 700}\n"
     ]
    }
   ],
   "source": [
    "means = grid_result.cv_results_[ \"mean_test_score\" ]\n",
    "stds = grid_result.cv_results_[ \"std_test_score\" ]\n",
    "params = grid_result.cv_results_[ \"params\" ]\n",
    "for mean, stdev, param in zip(means, stds, params):\n",
    "    print(\"%f (%f) with: %r\" % (mean, stdev, param))"
   ]
  },
  {
   "cell_type": "code",
   "execution_count": 132,
   "metadata": {},
   "outputs": [
    {
     "data": {
      "text/plain": [
       "RandomForestClassifier(bootstrap=True, class_weight=None, criterion='gini',\n",
       "                       max_depth=None, max_features='auto', max_leaf_nodes=None,\n",
       "                       min_impurity_decrease=0.0, min_impurity_split=None,\n",
       "                       min_samples_leaf=1, min_samples_split=2,\n",
       "                       min_weight_fraction_leaf=0.0, n_estimators=700,\n",
       "                       n_jobs=None, oob_score=False, random_state=7, verbose=0,\n",
       "                       warm_start=False)"
      ]
     },
     "execution_count": 132,
     "metadata": {},
     "output_type": "execute_result"
    }
   ],
   "source": [
    "# prepare the model\n",
    "\n",
    "scaler = StandardScaler().fit(X_train)\n",
    "rescaledX = scaler.transform(X_train)\n",
    "model = RandomForestClassifier(random_state=seed, n_estimators=700)\n",
    "model.fit(rescaledX, Y_train)"
   ]
  },
  {
   "cell_type": "code",
   "execution_count": 133,
   "metadata": {},
   "outputs": [],
   "source": [
    "# generate prediction on validation dataset\n",
    "\n",
    "rescaledValidationX = scaler.transform(X_validation)\n",
    "predictions = model.predict(rescaledValidationX)\n",
    "predictions_proba = model.predict_proba(rescaledValidationX)"
   ]
  },
  {
   "cell_type": "code",
   "execution_count": 134,
   "metadata": {},
   "outputs": [
    {
     "name": "stdout",
     "output_type": "stream",
     "text": [
      "AUC\n",
      "0.9804906542056075\n",
      "\n",
      "Accuracy\n",
      "0.9572649572649573\n",
      "\n",
      "Confusion Matrix\n",
      "[[213   1]\n",
      " [  9  11]]\n",
      "\n",
      "Classification Report\n",
      "              precision    recall  f1-score   support\n",
      "\n",
      "         0.0       0.96      1.00      0.98       214\n",
      "         1.0       0.92      0.55      0.69        20\n",
      "\n",
      "    accuracy                           0.96       234\n",
      "   macro avg       0.94      0.77      0.83       234\n",
      "weighted avg       0.96      0.96      0.95       234\n",
      "\n",
      "\n"
     ]
    }
   ],
   "source": [
    "# generate confusion matrix \n",
    "\n",
    "from sklearn.metrics import classification_report\n",
    "from sklearn.metrics import confusion_matrix\n",
    "from sklearn.metrics import accuracy_score\n",
    "from sklearn.metrics import roc_auc_score\n",
    "from sklearn.metrics import roc_curve\n",
    "from sklearn.metrics import auc\n",
    "\n",
    "print('AUC')\n",
    "print(roc_auc_score(Y_validation, predictions_proba[:,1]))\n",
    "print()\n",
    "\n",
    "print('Accuracy')\n",
    "print(accuracy_score(Y_validation, predictions))\n",
    "print()\n",
    "\n",
    "print('Confusion Matrix')\n",
    "print(confusion_matrix(Y_validation, predictions))\n",
    "print()\n",
    "\n",
    "print('Classification Report')\n",
    "print(classification_report(Y_validation, predictions))\n",
    "print()"
   ]
  },
  {
   "cell_type": "code",
   "execution_count": 135,
   "metadata": {},
   "outputs": [
    {
     "data": {
      "image/png": "[encoded data removed]",
      "text/plain": [
       "<Figure size 432x288 with 1 Axes>"
      ]
     },
     "metadata": {},
     "output_type": "display_data"
    }
   ],
   "source": [
    "# generate AUC\n",
    "\n",
    "fpr, tpr, threshold = roc_curve(Y_validation, predictions_proba[:,1])\n",
    "roc_auc = auc(fpr, tpr)\n",
    "\n",
    "plt.figure()\n",
    "plt.xlim([-0.01, 1.00])\n",
    "plt.ylim([-0.01, 1.01])\n",
    "plt.plot(fpr, tpr, color = 'steelblue', lw = 3, label = 'ROC_AUC = {:0.3f})'.format(roc_auc))\n",
    "plt.xlabel('false positive rate', fontsize = 13)\n",
    "plt.ylabel('true positive rate', fontsize = 13)\n",
    "plt.title('ROC curve', fontsize = 16)\n",
    "plt.legend(loc = 'lower right', fontsize = 13)\n",
    "plt.plot([0, 1], [0, 1], color = 'steelblue', lw = 3, linestyle = '--')\n",
    "# plt.axes().set_aspect('equal')\n",
    "plt.show()"
   ]
  },
  {
   "cell_type": "code",
   "execution_count": 136,
   "metadata": {},
   "outputs": [
    {
     "data": {
      "text/plain": [
       "<matplotlib.axes._subplots.AxesSubplot at 0x1a28040160>"
      ]
     },
     "execution_count": 136,
     "metadata": {},
     "output_type": "execute_result"
    },
    {
     "data": {
      "image/png": "[encoded data removed]",
      "text/plain": [
       "<Figure size 432x288 with 1 Axes>"
      ]
     },
     "metadata": {},
     "output_type": "display_data"
    }
   ],
   "source": [
    "# generate feature importance plot\n",
    "\n",
    "feature_importance = pd.DataFrame(model.feature_importances_, \n",
    "                                  index = df.columns[:-1], \n",
    "                                  columns = ['importance']).sort_values('importance', ascending = True)\n",
    "feature_importance[:20].plot.barh()"
   ]
  },
  {
   "cell_type": "code",
   "execution_count": 137,
   "metadata": {},
   "outputs": [
    {
     "name": "stdout",
     "output_type": "stream",
     "text": [
      "Best: 0.999576 using {'max_depth': 30, 'n_estimators': 600}\n"
     ]
    }
   ],
   "source": [
    "# Tune scaled ET\n",
    "\n",
    "scaler = StandardScaler().fit(X_train)\n",
    "rescaledX = scaler.transform(X_train)\n",
    "param_grid = dict(n_estimators=np.array([400, 500, 600]), max_depth=[30,40,50])\n",
    "model = ExtraTreesClassifier(random_state=seed)\n",
    "kfold = StratifiedKFold(n_splits=num_folds, random_state=seed)\n",
    "grid = GridSearchCV(estimator=model, param_grid=param_grid, scoring=scoring, cv=kfold)\n",
    "grid_result = grid.fit(rescaledX, Y_train)\n",
    "print(\"Best: %f using %s\" % (grid_result.best_score_, grid_result.best_params_))"
   ]
  },
  {
   "cell_type": "code",
   "execution_count": 138,
   "metadata": {},
   "outputs": [
    {
     "name": "stdout",
     "output_type": "stream",
     "text": [
      "0.999522 (0.001255) with: {'max_depth': 30, 'n_estimators': 400}\n",
      "0.999549 (0.001174) with: {'max_depth': 30, 'n_estimators': 500}\n",
      "0.999576 (0.001094) with: {'max_depth': 30, 'n_estimators': 600}\n",
      "0.999501 (0.001316) with: {'max_depth': 40, 'n_estimators': 400}\n",
      "0.999563 (0.001134) with: {'max_depth': 40, 'n_estimators': 500}\n",
      "0.999576 (0.001094) with: {'max_depth': 40, 'n_estimators': 600}\n",
      "0.999508 (0.001316) with: {'max_depth': 50, 'n_estimators': 400}\n",
      "0.999556 (0.001154) with: {'max_depth': 50, 'n_estimators': 500}\n",
      "0.999576 (0.001094) with: {'max_depth': 50, 'n_estimators': 600}\n"
     ]
    }
   ],
   "source": [
    "means = grid_result.cv_results_[ \"mean_test_score\" ]\n",
    "stds = grid_result.cv_results_[ \"std_test_score\" ]\n",
    "params = grid_result.cv_results_[ \"params\" ]\n",
    "for mean, stdev, param in zip(means, stds, params):\n",
    "    print(\"%f (%f) with: %r\" % (mean, stdev, param))"
   ]
  },
  {
   "cell_type": "code",
   "execution_count": 139,
   "metadata": {},
   "outputs": [
    {
     "data": {
      "text/plain": [
       "ExtraTreesClassifier(bootstrap=False, class_weight=None, criterion='gini',\n",
       "                     max_depth=30, max_features='auto', max_leaf_nodes=None,\n",
       "                     min_impurity_decrease=0.0, min_impurity_split=None,\n",
       "                     min_samples_leaf=1, min_samples_split=2,\n",
       "                     min_weight_fraction_leaf=0.0, n_estimators=600,\n",
       "                     n_jobs=None, oob_score=False, random_state=7, verbose=0,\n",
       "                     warm_start=False)"
      ]
     },
     "execution_count": 139,
     "metadata": {},
     "output_type": "execute_result"
    }
   ],
   "source": [
    "# prepare the model\n",
    "\n",
    "scaler = StandardScaler().fit(X_train)\n",
    "rescaledX = scaler.transform(X_train)\n",
    "model = ExtraTreesClassifier(random_state=seed, max_depth= 30, n_estimators=600)\n",
    "model.fit(rescaledX, Y_train)"
   ]
  },
  {
   "cell_type": "code",
   "execution_count": 140,
   "metadata": {},
   "outputs": [],
   "source": [
    "# generate prediction on validation dataset\n",
    "\n",
    "rescaledValidationX = scaler.transform(X_validation)\n",
    "predictions = model.predict(rescaledValidationX)\n",
    "predictions_proba = model.predict_proba(rescaledValidationX)"
   ]
  },
  {
   "cell_type": "code",
   "execution_count": 141,
   "metadata": {},
   "outputs": [
    {
     "name": "stdout",
     "output_type": "stream",
     "text": [
      "AUC\n",
      "0.9955607476635514\n",
      "\n",
      "Accuracy\n",
      "0.9786324786324786\n",
      "\n",
      "Confusion Matrix\n",
      "[[213   1]\n",
      " [  4  16]]\n",
      "\n",
      "Classification Report\n",
      "              precision    recall  f1-score   support\n",
      "\n",
      "         0.0       0.98      1.00      0.99       214\n",
      "         1.0       0.94      0.80      0.86        20\n",
      "\n",
      "    accuracy                           0.98       234\n",
      "   macro avg       0.96      0.90      0.93       234\n",
      "weighted avg       0.98      0.98      0.98       234\n",
      "\n",
      "\n"
     ]
    }
   ],
   "source": [
    "# generate confusion matrix\n",
    "\n",
    "from sklearn.metrics import classification_report\n",
    "from sklearn.metrics import confusion_matrix\n",
    "from sklearn.metrics import accuracy_score\n",
    "from sklearn.metrics import roc_auc_score\n",
    "from sklearn.metrics import roc_curve\n",
    "from sklearn.metrics import auc\n",
    "\n",
    "print('AUC')\n",
    "print(roc_auc_score(Y_validation, predictions_proba[:,1]))\n",
    "print()\n",
    "\n",
    "print('Accuracy')\n",
    "print(accuracy_score(Y_validation, predictions))\n",
    "print()\n",
    "\n",
    "print('Confusion Matrix')\n",
    "print(confusion_matrix(Y_validation, predictions))\n",
    "print()\n",
    "\n",
    "print('Classification Report')\n",
    "print(classification_report(Y_validation, predictions))\n",
    "print()"
   ]
  },
  {
   "cell_type": "code",
   "execution_count": 142,
   "metadata": {},
   "outputs": [
    {
     "data": {
      "image/png": "[encoded data removed]",
      "text/plain": [
       "<Figure size 432x288 with 1 Axes>"
      ]
     },
     "metadata": {},
     "output_type": "display_data"
    }
   ],
   "source": [
    "# generate AUC\n",
    "\n",
    "fpr, tpr, threshold = roc_curve(Y_validation, predictions_proba[:,1])\n",
    "roc_auc = auc(fpr, tpr)\n",
    "\n",
    "plt.figure()\n",
    "plt.xlim([-0.01, 1.00])\n",
    "plt.ylim([-0.01, 1.01])\n",
    "plt.plot(fpr, tpr, color = 'steelblue', lw = 3, label = 'ROC_AUC = {:0.3f})'.format(roc_auc))\n",
    "plt.xlabel('false positive rate', fontsize = 13)\n",
    "plt.ylabel('true positive rate', fontsize = 13)\n",
    "plt.title('ROC curve', fontsize = 16)\n",
    "plt.legend(loc = 'lower right', fontsize = 13)\n",
    "plt.plot([0, 1], [0, 1], color = 'steelblue', lw = 3, linestyle = '--')\n",
    "# plt.axes().set_aspect('equal')\n",
    "plt.show()"
   ]
  },
  {
   "cell_type": "code",
   "execution_count": 143,
   "metadata": {},
   "outputs": [
    {
     "data": {
      "text/plain": [
       "<matplotlib.axes._subplots.AxesSubplot at 0x1a24769198>"
      ]
     },
     "execution_count": 143,
     "metadata": {},
     "output_type": "execute_result"
    },
    {
     "data": {
      "image/png": "[encoded data removed]",
      "text/plain": [
       "<Figure size 432x288 with 1 Axes>"
      ]
     },
     "metadata": {},
     "output_type": "display_data"
    }
   ],
   "source": [
    "# generate feature importance plot\n",
    "\n",
    "feature_importance = pd.DataFrame(model.feature_importances_, \n",
    "                                  index = df.columns[:-1], \n",
    "                                  columns = ['importance']).sort_values('importance', ascending = True)\n",
    "feature_importance[:20].plot.barh()"
   ]
  },
  {
   "cell_type": "code",
   "execution_count": null,
   "metadata": {},
   "outputs": [],
   "source": []
  },
  {
   "cell_type": "code",
   "execution_count": 144,
   "metadata": {},
   "outputs": [],
   "source": [
    "# venture into XGBoost"
   ]
  },
  {
   "cell_type": "code",
   "execution_count": 145,
   "metadata": {},
   "outputs": [
    {
     "name": "stdout",
     "output_type": "stream",
     "text": [
      "Best: 0.997693 using {'max_depth': 5, 'n_estimators': 600}\n"
     ]
    }
   ],
   "source": [
    "# Tune scaled XGBoost\n",
    "\n",
    "from xgboost import XGBClassifier\n",
    "\n",
    "scaler = StandardScaler().fit(X_train)\n",
    "rescaledX = scaler.transform(X_train)\n",
    "param_grid = dict(n_estimators=np.array([400, 500, 600]), max_depth=[5, 10, 15])\n",
    "model = XGBClassifier(random_state = seed)\n",
    "kfold = StratifiedKFold(n_splits=num_folds, random_state=seed)\n",
    "grid = GridSearchCV(estimator=model, param_grid=param_grid, scoring=scoring, cv=kfold)\n",
    "grid_result = grid.fit(rescaledX, Y_train)\n",
    "print(\"Best: %f using %s\" % (grid_result.best_score_, grid_result.best_params_))"
   ]
  },
  {
   "cell_type": "code",
   "execution_count": 146,
   "metadata": {},
   "outputs": [
    {
     "name": "stdout",
     "output_type": "stream",
     "text": [
      "0.997666 (0.006216) with: {'max_depth': 5, 'n_estimators': 400}\n",
      "0.997666 (0.006175) with: {'max_depth': 5, 'n_estimators': 500}\n",
      "0.997693 (0.006102) with: {'max_depth': 5, 'n_estimators': 600}\n",
      "0.997488 (0.006339) with: {'max_depth': 10, 'n_estimators': 400}\n",
      "0.997529 (0.006218) with: {'max_depth': 10, 'n_estimators': 500}\n",
      "0.997502 (0.006299) with: {'max_depth': 10, 'n_estimators': 600}\n",
      "0.997679 (0.005968) with: {'max_depth': 15, 'n_estimators': 400}\n",
      "0.997652 (0.005968) with: {'max_depth': 15, 'n_estimators': 500}\n",
      "0.997693 (0.005847) with: {'max_depth': 15, 'n_estimators': 600}\n"
     ]
    }
   ],
   "source": [
    "means = grid_result.cv_results_[ \"mean_test_score\" ]\n",
    "stds = grid_result.cv_results_[ \"std_test_score\" ]\n",
    "params = grid_result.cv_results_[ \"params\" ]\n",
    "for mean, stdev, param in zip(means, stds, params):\n",
    "    print(\"%f (%f) with: %r\" % (mean, stdev, param))"
   ]
  },
  {
   "cell_type": "code",
   "execution_count": 147,
   "metadata": {},
   "outputs": [
    {
     "data": {
      "text/plain": [
       "XGBClassifier(base_score=0.5, booster='gbtree', colsample_bylevel=1,\n",
       "              colsample_bynode=1, colsample_bytree=1, gamma=0,\n",
       "              learning_rate=0.1, max_delta_step=0, max_depth=5,\n",
       "              min_child_weight=1, missing=None, n_estimators=600, n_jobs=1,\n",
       "              nthread=None, objective='binary:logistic', random_state=7,\n",
       "              reg_alpha=0, reg_lambda=1, scale_pos_weight=1, seed=None,\n",
       "              silent=None, subsample=1, verbosity=1)"
      ]
     },
     "execution_count": 147,
     "metadata": {},
     "output_type": "execute_result"
    }
   ],
   "source": [
    "# prepare the model\n",
    "\n",
    "scaler = StandardScaler().fit(X_train)\n",
    "rescaledX = scaler.transform(X_train)\n",
    "model = XGBClassifier(random_state=seed, max_depth= 5, n_estimators=600)\n",
    "model.fit(rescaledX, Y_train)"
   ]
  },
  {
   "cell_type": "code",
   "execution_count": 148,
   "metadata": {},
   "outputs": [],
   "source": [
    "# generate prediction on validation dataset\n",
    "\n",
    "rescaledValidationX = scaler.transform(X_validation)\n",
    "predictions = model.predict(rescaledValidationX)\n",
    "predictions_proba = model.predict_proba(rescaledValidationX)"
   ]
  },
  {
   "cell_type": "code",
   "execution_count": 149,
   "metadata": {},
   "outputs": [
    {
     "name": "stdout",
     "output_type": "stream",
     "text": [
      "AUC\n",
      "0.9878504672897197\n",
      "\n",
      "Accuracy\n",
      "0.9658119658119658\n",
      "\n",
      "Confusion Matrix\n",
      "[[214   0]\n",
      " [  8  12]]\n",
      "\n",
      "Classification Report\n",
      "              precision    recall  f1-score   support\n",
      "\n",
      "         0.0       0.96      1.00      0.98       214\n",
      "         1.0       1.00      0.60      0.75        20\n",
      "\n",
      "    accuracy                           0.97       234\n",
      "   macro avg       0.98      0.80      0.87       234\n",
      "weighted avg       0.97      0.97      0.96       234\n",
      "\n",
      "\n"
     ]
    }
   ],
   "source": [
    "# generate confusion matrix\n",
    "\n",
    "from sklearn.metrics import classification_report\n",
    "from sklearn.metrics import confusion_matrix\n",
    "from sklearn.metrics import accuracy_score\n",
    "from sklearn.metrics import roc_auc_score\n",
    "from sklearn.metrics import roc_curve\n",
    "from sklearn.metrics import auc\n",
    "\n",
    "print('AUC')\n",
    "print(roc_auc_score(Y_validation, predictions_proba[:,1]))\n",
    "print()\n",
    "\n",
    "print('Accuracy')\n",
    "print(accuracy_score(Y_validation, predictions))\n",
    "print()\n",
    "\n",
    "print('Confusion Matrix')\n",
    "print(confusion_matrix(Y_validation, predictions))\n",
    "print()\n",
    "\n",
    "print('Classification Report')\n",
    "print(classification_report(Y_validation, predictions))\n",
    "print()"
   ]
  },
  {
   "cell_type": "code",
   "execution_count": null,
   "metadata": {},
   "outputs": [],
   "source": []
  },
  {
   "cell_type": "code",
   "execution_count": 150,
   "metadata": {},
   "outputs": [],
   "source": [
    "# venture into LightGBM"
   ]
  },
  {
   "cell_type": "code",
   "execution_count": 151,
   "metadata": {},
   "outputs": [
    {
     "name": "stdout",
     "output_type": "stream",
     "text": [
      "Best: 0.999180 using {'max_depth': 15, 'n_estimators': 400}\n"
     ]
    }
   ],
   "source": [
    "# Tune scaled LightGBM\n",
    "\n",
    "from lightgbm import LGBMClassifier\n",
    "\n",
    "scaler = StandardScaler().fit(X_train)\n",
    "rescaledX = scaler.transform(X_train)\n",
    "param_grid = dict(n_estimators=np.array([400, 500, 600]), max_depth=[5, 10, 15])\n",
    "model = LGBMClassifier(random_state = seed)\n",
    "kfold = StratifiedKFold(n_splits=num_folds, random_state=seed)\n",
    "grid = GridSearchCV(estimator=model, param_grid=param_grid, scoring=scoring, cv=kfold)\n",
    "grid_result = grid.fit(rescaledX, Y_train)\n",
    "print(\"Best: %f using %s\" % (grid_result.best_score_, grid_result.best_params_))"
   ]
  },
  {
   "cell_type": "code",
   "execution_count": 152,
   "metadata": {},
   "outputs": [
    {
     "name": "stdout",
     "output_type": "stream",
     "text": [
      "0.998744 (0.003216) with: {'max_depth': 5, 'n_estimators': 400}\n",
      "0.998757 (0.003175) with: {'max_depth': 5, 'n_estimators': 500}\n",
      "0.998812 (0.003016) with: {'max_depth': 5, 'n_estimators': 600}\n",
      "0.999097 (0.001870) with: {'max_depth': 10, 'n_estimators': 400}\n",
      "0.999111 (0.001915) with: {'max_depth': 10, 'n_estimators': 500}\n",
      "0.999125 (0.001875) with: {'max_depth': 10, 'n_estimators': 600}\n",
      "0.999180 (0.001598) with: {'max_depth': 15, 'n_estimators': 400}\n",
      "0.999152 (0.001665) with: {'max_depth': 15, 'n_estimators': 500}\n",
      "0.999166 (0.001641) with: {'max_depth': 15, 'n_estimators': 600}\n"
     ]
    }
   ],
   "source": [
    "means = grid_result.cv_results_[ \"mean_test_score\" ]\n",
    "stds = grid_result.cv_results_[ \"std_test_score\" ]\n",
    "params = grid_result.cv_results_[ \"params\" ]\n",
    "for mean, stdev, param in zip(means, stds, params):\n",
    "    print(\"%f (%f) with: %r\" % (mean, stdev, param))"
   ]
  },
  {
   "cell_type": "code",
   "execution_count": 153,
   "metadata": {},
   "outputs": [
    {
     "data": {
      "text/plain": [
       "LGBMClassifier(boosting_type='gbdt', class_weight=None, colsample_bytree=1.0,\n",
       "               importance_type='split', learning_rate=0.1, max_depth=15,\n",
       "               min_child_samples=20, min_child_weight=0.001, min_split_gain=0.0,\n",
       "               n_estimators=400, n_jobs=-1, num_leaves=31, objective=None,\n",
       "               random_state=7, reg_alpha=0.0, reg_lambda=0.0, silent=True,\n",
       "               subsample=1.0, subsample_for_bin=200000, subsample_freq=0)"
      ]
     },
     "execution_count": 153,
     "metadata": {},
     "output_type": "execute_result"
    }
   ],
   "source": [
    "# prepare the model\n",
    "\n",
    "scaler = StandardScaler().fit(X_train)\n",
    "rescaledX = scaler.transform(X_train)\n",
    "model = LGBMClassifier(random_state=seed, max_depth= 15, n_estimators=400)\n",
    "model.fit(rescaledX, Y_train)"
   ]
  },
  {
   "cell_type": "code",
   "execution_count": 154,
   "metadata": {},
   "outputs": [],
   "source": [
    "# generate prediction on validation dataset\n",
    "\n",
    "rescaledValidationX = scaler.transform(X_validation)\n",
    "predictions = model.predict(rescaledValidationX)\n",
    "predictions_proba = model.predict_proba(rescaledValidationX)"
   ]
  },
  {
   "cell_type": "code",
   "execution_count": 155,
   "metadata": {},
   "outputs": [
    {
     "name": "stdout",
     "output_type": "stream",
     "text": [
      "AUC\n",
      "0.9873831775700934\n",
      "\n",
      "Accuracy\n",
      "0.9743589743589743\n",
      "\n",
      "Confusion Matrix\n",
      "[[214   0]\n",
      " [  6  14]]\n",
      "\n",
      "Classification Report\n",
      "              precision    recall  f1-score   support\n",
      "\n",
      "         0.0       0.97      1.00      0.99       214\n",
      "         1.0       1.00      0.70      0.82        20\n",
      "\n",
      "    accuracy                           0.97       234\n",
      "   macro avg       0.99      0.85      0.90       234\n",
      "weighted avg       0.98      0.97      0.97       234\n",
      "\n",
      "\n"
     ]
    }
   ],
   "source": [
    "# generate confusion matrix\n",
    "\n",
    "from sklearn.metrics import classification_report\n",
    "from sklearn.metrics import confusion_matrix\n",
    "from sklearn.metrics import accuracy_score\n",
    "from sklearn.metrics import roc_auc_score\n",
    "from sklearn.metrics import roc_curve\n",
    "from sklearn.metrics import auc\n",
    "\n",
    "print('AUC')\n",
    "print(roc_auc_score(Y_validation, predictions_proba[:,1]))\n",
    "print()\n",
    "\n",
    "print('Accuracy')\n",
    "print(accuracy_score(Y_validation, predictions))\n",
    "print()\n",
    "\n",
    "print('Confusion Matrix')\n",
    "print(confusion_matrix(Y_validation, predictions))\n",
    "print()\n",
    "\n",
    "print('Classification Report')\n",
    "print(classification_report(Y_validation, predictions))\n",
    "print()"
   ]
  },
  {
   "cell_type": "code",
   "execution_count": null,
   "metadata": {},
   "outputs": [],
   "source": []
  },
  {
   "cell_type": "code",
   "execution_count": 156,
   "metadata": {},
   "outputs": [],
   "source": [
    "# venture into Voting Model"
   ]
  },
  {
   "cell_type": "code",
   "execution_count": 157,
   "metadata": {},
   "outputs": [
    {
     "data": {
      "text/plain": [
       "VotingClassifier(estimators=[('model_AB',\n",
       "                              AdaBoostClassifier(algorithm='SAMME.R',\n",
       "                                                 base_estimator=None,\n",
       "                                                 learning_rate=0.1,\n",
       "                                                 n_estimators=600,\n",
       "                                                 random_state=7)),\n",
       "                             ('model_GBM',\n",
       "                              GradientBoostingClassifier(criterion='friedman_mse',\n",
       "                                                         init=None,\n",
       "                                                         learning_rate=0.1,\n",
       "                                                         loss='deviance',\n",
       "                                                         max_depth=10,\n",
       "                                                         max_features=None,\n",
       "                                                         max_leaf_nodes=None,\n",
       "                                                         min_impurity_decrease=0.0,\n",
       "                                                         min_impurity...\n",
       "                                             importance_type='split',\n",
       "                                             learning_rate=0.1, max_depth=15,\n",
       "                                             min_child_samples=20,\n",
       "                                             min_child_weight=0.001,\n",
       "                                             min_split_gain=0.0,\n",
       "                                             n_estimators=400, n_jobs=-1,\n",
       "                                             num_leaves=31, objective=None,\n",
       "                                             random_state=7, reg_alpha=0.0,\n",
       "                                             reg_lambda=0.0, silent=True,\n",
       "                                             subsample=1.0,\n",
       "                                             subsample_for_bin=200000,\n",
       "                                             subsample_freq=0))],\n",
       "                 flatten_transform=True, n_jobs=-1, voting='soft',\n",
       "                 weights=[1, 0, 0, 1, 0, 1])"
      ]
     },
     "execution_count": 157,
     "metadata": {},
     "output_type": "execute_result"
    }
   ],
   "source": [
    "from sklearn.ensemble import VotingClassifier\n",
    "\n",
    "scaler = StandardScaler().fit(X_train)\n",
    "rescaledX = scaler.transform(X_train)\n",
    "\n",
    "model_AB = AdaBoostClassifier(random_state=seed, learning_rate = 0.1, n_estimators=600)\n",
    "model_GBM = GradientBoostingClassifier(random_state=seed, max_depth = 10, n_estimators=200)\n",
    "model_RF = RandomForestClassifier(random_state=seed, n_estimators=700)\n",
    "model_ET = ExtraTreesClassifier(random_state=seed, max_depth= 10, n_estimators=600)\n",
    "model_XGB = XGBClassifier(random_state=seed, max_depth= 5, n_estimators=600)\n",
    "model_LGBM = LGBMClassifier(random_state=seed, max_depth= 15, n_estimators=400)\n",
    "\n",
    "model = VotingClassifier(estimators=[('model_AB', model_AB), \n",
    "                                     ('model_GBM', model_GBM), \n",
    "                                     ('model_RF', model_RF), \n",
    "                                     ('model_ET', model_ET),\n",
    "                                     ('model_XGB', model_XGB),\n",
    "                                     ('model_LGBM', model_LGBM)], \n",
    "                         weights = [1, 0, 0, 1, 0, 1], \n",
    "                         voting='soft',\n",
    "                         n_jobs=-1)\n",
    "\n",
    "model.fit(rescaledX, Y_train)"
   ]
  },
  {
   "cell_type": "code",
   "execution_count": 158,
   "metadata": {},
   "outputs": [],
   "source": [
    "# generate prediction on validation dataset\n",
    "\n",
    "rescaledValidationX = scaler.transform(X_validation)\n",
    "predictions = model.predict(rescaledValidationX)\n",
    "predictions_proba = model.predict_proba(rescaledValidationX)"
   ]
  },
  {
   "cell_type": "code",
   "execution_count": 160,
   "metadata": {},
   "outputs": [
    {
     "name": "stdout",
     "output_type": "stream",
     "text": [
      "AUC\n",
      "0.9934579439252337\n",
      "\n",
      "Accuracy\n",
      "0.9743589743589743\n",
      "\n",
      "Confusion Matrix\n",
      "[[214   0]\n",
      " [  6  14]]\n",
      "\n",
      "Classification Report\n",
      "              precision    recall  f1-score   support\n",
      "\n",
      "         0.0       0.97      1.00      0.99       214\n",
      "         1.0       1.00      0.70      0.82        20\n",
      "\n",
      "    accuracy                           0.97       234\n",
      "   macro avg       0.99      0.85      0.90       234\n",
      "weighted avg       0.98      0.97      0.97       234\n",
      "\n",
      "\n"
     ]
    }
   ],
   "source": [
    "# generate confusion matrix\n",
    "\n",
    "from sklearn.metrics import classification_report\n",
    "from sklearn.metrics import confusion_matrix\n",
    "from sklearn.metrics import accuracy_score\n",
    "from sklearn.metrics import roc_auc_score\n",
    "from sklearn.metrics import roc_curve\n",
    "from sklearn.metrics import auc\n",
    "\n",
    "print('AUC')\n",
    "print(roc_auc_score(Y_validation, predictions_proba[:,1]))\n",
    "print()\n",
    "\n",
    "print('Accuracy')\n",
    "print(accuracy_score(Y_validation, predictions))\n",
    "print()\n",
    "\n",
    "print('Confusion Matrix')\n",
    "print(confusion_matrix(Y_validation, predictions))\n",
    "print()\n",
    "\n",
    "print('Classification Report')\n",
    "print(classification_report(Y_validation, predictions))\n",
    "print()"
   ]
  },
  {
   "cell_type": "code",
   "execution_count": null,
   "metadata": {},
   "outputs": [],
   "source": []
  },
  {
   "cell_type": "markdown",
   "metadata": {},
   "source": [
    "## 9. Adjusting Prediction Cut-Off\n",
    "- Typical cut-off for prediction is 0.5. Predicted value greater than 0.5 is consider posiitve, and below negative. \n",
    "- Currently our voting model errors on the side of false negatives. By lowering the cut-off point, we may be able to flip a few cases to positives. But we want to calibrate the cut-off point carefully so as to increase true positives as much as possible, without incurring huge increase in false positives. \n"
   ]
  },
  {
   "cell_type": "code",
   "execution_count": 161,
   "metadata": {},
   "outputs": [],
   "source": [
    "# pin point datapoints our model fails to correctly classify "
   ]
  },
  {
   "cell_type": "code",
   "execution_count": 162,
   "metadata": {},
   "outputs": [
    {
     "data": {
      "text/plain": [
       "1      0.0\n",
       "126    0.0\n",
       "144    0.0\n",
       "151    0.0\n",
       "159    0.0\n",
       "224    0.0\n",
       "dtype: float64"
      ]
     },
     "execution_count": 162,
     "metadata": {},
     "output_type": "execute_result"
    }
   ],
   "source": [
    "pd.Series(predictions)[pd.Series(predictions) != pd.Series(Y_validation)]"
   ]
  },
  {
   "cell_type": "code",
   "execution_count": 163,
   "metadata": {},
   "outputs": [
    {
     "name": "stdout",
     "output_type": "stream",
     "text": [
      "0.0\n",
      "[0.67663781 0.32336219]\n"
     ]
    }
   ],
   "source": [
    "print(predictions[1])\n",
    "print(predictions_proba[1])"
   ]
  },
  {
   "cell_type": "code",
   "execution_count": 164,
   "metadata": {},
   "outputs": [
    {
     "name": "stdout",
     "output_type": "stream",
     "text": [
      "0.0\n",
      "[0.6897754 0.3102246]\n"
     ]
    }
   ],
   "source": [
    "print(predictions[126])\n",
    "print(predictions_proba[126])"
   ]
  },
  {
   "cell_type": "code",
   "execution_count": 165,
   "metadata": {},
   "outputs": [
    {
     "name": "stdout",
     "output_type": "stream",
     "text": [
      "0.0\n",
      "[0.64486502 0.35513498]\n"
     ]
    }
   ],
   "source": [
    "print(predictions[144])\n",
    "print(predictions_proba[144])"
   ]
  },
  {
   "cell_type": "code",
   "execution_count": 166,
   "metadata": {},
   "outputs": [
    {
     "name": "stdout",
     "output_type": "stream",
     "text": [
      "0.0\n",
      "[0.73887716 0.26112284]\n"
     ]
    }
   ],
   "source": [
    "print(predictions[151])\n",
    "print(predictions_proba[151])"
   ]
  },
  {
   "cell_type": "code",
   "execution_count": 167,
   "metadata": {},
   "outputs": [
    {
     "name": "stdout",
     "output_type": "stream",
     "text": [
      "0.0\n",
      "[0.66033935 0.33966065]\n"
     ]
    }
   ],
   "source": [
    "print(predictions[159])\n",
    "print(predictions_proba[159])"
   ]
  },
  {
   "cell_type": "code",
   "execution_count": 168,
   "metadata": {},
   "outputs": [
    {
     "name": "stdout",
     "output_type": "stream",
     "text": [
      "0.0\n",
      "[0.6922889 0.3077111]\n"
     ]
    }
   ],
   "source": [
    "print(predictions[224])\n",
    "print(predictions_proba[224])"
   ]
  },
  {
   "cell_type": "code",
   "execution_count": null,
   "metadata": {},
   "outputs": [],
   "source": []
  },
  {
   "cell_type": "code",
   "execution_count": 169,
   "metadata": {},
   "outputs": [
    {
     "name": "stdout",
     "output_type": "stream",
     "text": [
      "[[212   2]\n",
      " [  2  18]]\n"
     ]
    }
   ],
   "source": [
    "custom_cut = np.where(predictions_proba > 0.31, 1, 0)\n",
    "print(confusion_matrix(Y_validation, custom_cut[:,1]))"
   ]
  },
  {
   "cell_type": "code",
   "execution_count": null,
   "metadata": {},
   "outputs": [],
   "source": []
  },
  {
   "cell_type": "code",
   "execution_count": 172,
   "metadata": {},
   "outputs": [],
   "source": [
    "# persist preferred model to file\n",
    "\n",
    "import pickle\n",
    "\n",
    "f = open('20190516_model_et.save', 'wb')\n",
    "pickle.dump(model, f, protocol = pickle.HIGHEST_PROTOCOL)\n",
    "f.close()"
   ]
  },
  {
   "cell_type": "code",
   "execution_count": 173,
   "metadata": {},
   "outputs": [],
   "source": [
    "# retrieve preferred model from file\n",
    "\n",
    "# f = open('20190516_model_et.save', 'rb')\n",
    "# return_tree = pickle.load(f)\n",
    "# f.close()"
   ]
  },
  {
   "cell_type": "code",
   "execution_count": null,
   "metadata": {},
   "outputs": [],
   "source": []
  },
  {
   "cell_type": "markdown",
   "metadata": {},
   "source": [
    "## 10. Other Possible Explorations\n",
    "\n",
    "Should our prediction fail to meet our expectation, there are still options we can explore. \n",
    "\n",
    "- Talk to domain expert, and understand the meaning of the 8 telemetry attributes. Knowing what those attributes mean, and why they are collected in the first place should give us better insight on how to construct the features to capture the device failure dynamics. \n",
    "- Collect more data, especially failure data points with diverse range across the measured attributes should enable us to train the model with more confidence, instead of relying on resampling or synthetic data points for the purpose.  \n",
    "- Try other resampling methods. We have not exhausted all possible options. We might get some mileage from both undersampling of majority class, and over-sampling of minority class at the same time to yield better predictions.  \n",
    "- We can experiment with more leading attribute readings, instead of just previous 1 to 3 days. \n",
    "- In model scoring, we treat the cost of making false positives and false negatives equal. If we know better the relative cost of making false positives vs. false negatives, we can factor this into optimization. The revised prediction should make more economic sense in a production setting. \n"
   ]
  },
  {
   "cell_type": "markdown",
   "metadata": {},
   "source": [
    "# Summary\n",
    "\n",
    "All in all, we successfully build a model to predict device failure reasonably well. We pull in most of the data science toolsets to arrive at the milestone. We relentlessly cleanse the data. We extract and build new features. We normalize the data to be comparable across devices with different length of historical information. We fit a series of models from naive baseline, to families of classification models including KNN and SVM, to ensembles of averaging and boosting schools. We even experiment with voting model taking in best of all ensembles. We go the extra mile adjusting the prediction cut-off point to further optimize. In the end, we use 1,167 device records to train our model, and correctly classify 18 out of the 20 actual failure cases from validation pool of 234. The model precision is 90%, and recall also 90%. "
   ]
  },
  {
   "cell_type": "code",
   "execution_count": null,
   "metadata": {},
   "outputs": [],
   "source": []
  }
 ],
 "metadata": {
  "kernelspec": {
   "display_name": "Python 3",
   "language": "python",
   "name": "python3"
  },
  "language_info": {
   "codemirror_mode": {
    "name": "ipython",
    "version": 3
   },
   "file_extension": ".py",
   "mimetype": "text/x-python",
   "name": "python",
   "nbconvert_exporter": "python",
   "pygments_lexer": "ipython3",
   "version": "3.7.3"
  }
 },
 "nbformat": 4,
 "nbformat_minor": 2
}
